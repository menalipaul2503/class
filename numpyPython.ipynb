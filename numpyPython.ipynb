{
  "cells": [
    {
      "cell_type": "markdown",
      "metadata": {
        "id": "view-in-github",
        "colab_type": "text"
      },
      "source": [
        "<a href=\"https://colab.research.google.com/github/menalipaul2503/class/blob/main/numpyPython.ipynb\" target=\"_parent\"><img src=\"https://colab.research.google.com/assets/colab-badge.svg\" alt=\"Open In Colab\"/></a>"
      ]
    },
    {
      "cell_type": "code",
      "execution_count": null,
      "metadata": {
        "colab": {
          "base_uri": "https://localhost:8080/"
        },
        "id": "N14Ho1WZ2UeO",
        "outputId": "e6b902a8-27bf-479b-a396-43b3eb39330a"
      },
      "outputs": [
        {
          "name": "stdout",
          "output_type": "stream",
          "text": [
            "arr1 <class 'int'>\n",
            "arr1 <class 'int'>\n",
            "arr1 <class 'int'>\n",
            "arr1 <class 'int'>\n",
            "arr1 <class 'int'>\n",
            "<class 'numpy.int64'>\n",
            "<class 'numpy.int64'>\n",
            "<class 'numpy.int64'>\n",
            "<class 'numpy.int64'>\n",
            "<class 'numpy.int64'>\n"
          ]
        }
      ],
      "source": [
        "# first import the numpy library to use it :\n",
        "import numpy as np\n",
        "arr1=[23,432,23,4,7];\n",
        "i=0\n",
        "while(i<5):\n",
        "  int(arr1[i])\n",
        "  print(\"arr1\",type(arr1[i]))\n",
        "  i=i+1;\n",
        "numpyarr=np.array(arr1);\n",
        "\n",
        "i=0;\n",
        "while(i<5):\n",
        "  print(type(numpyarr[i]))\n",
        "  i=i+1;\n"
      ]
    },
    {
      "cell_type": "code",
      "execution_count": null,
      "metadata": {
        "colab": {
          "base_uri": "https://localhost:8080/"
        },
        "id": "FGQWMheM48ty",
        "outputId": "9234f9ec-5368-4efa-db34-d67f4671ad13"
      },
      "outputs": [
        {
          "name": "stdout",
          "output_type": "stream",
          "text": [
            "[[ 3 45 56  4]\n",
            " [ 3  5  3  5]]\n",
            "3 <class 'numpy.int64'>\n",
            "45 <class 'numpy.int64'>\n",
            "56 <class 'numpy.int64'>\n",
            "4 <class 'numpy.int64'>\n",
            "3 <class 'numpy.int64'>\n",
            "5 <class 'numpy.int64'>\n",
            "3 <class 'numpy.int64'>\n",
            "5 <class 'numpy.int64'>\n"
          ]
        }
      ],
      "source": [
        "# creating a 2d numpy array :\n",
        "import numpy as np\n",
        "arr2=np.array([[3,45,56,4],[3,5,3,5]])\n",
        "print(arr2)\n",
        "i=0\n",
        "while (i<2):\n",
        "  j=0\n",
        "  while(j<4):\n",
        "    print(arr2[i][j],type(arr2[i][j]))\n",
        "    j+=1;\n",
        "  i+=1  \n"
      ]
    },
    {
      "cell_type": "code",
      "execution_count": null,
      "metadata": {
        "colab": {
          "base_uri": "https://localhost:8080/"
        },
        "id": "jRkuIdU37Dci",
        "outputId": "4a39e853-c9a8-47cc-b9b3-cf4d09a97e92"
      },
      "outputs": [
        {
          "output_type": "stream",
          "name": "stdout",
          "text": [
            "[[ 1 23  4  5]\n",
            " [ 1 23  4  5]]\n"
          ]
        }
      ],
      "source": [
        "# create 2 x 4 matrix\n",
        "matrix=np.array([[1,23,4,5],[1,23,4,5]])\n",
        "print(matrix)"
      ]
    },
    {
      "cell_type": "code",
      "source": [
        "# using functions of numpy library \n",
        "# rand()uses to generte random numbers and store it in the array :\n",
        "print(\"rand(): 1D\")\n",
        "randarr=np.random.rand(4)\n",
        "print(randarr)\n",
        "# creating a 2D arrar of random genearted numbers :\n",
        "print(\"rand(): 2D\")\n",
        "randarr=np.random.rand(3,3)\n",
        "print(randarr)\n",
        "# using randint(): use to generate random interger number  required to give range of the number as the  parameter   ;\n",
        "print(\"randint : 1D\")\n",
        "randintarr=np.random.randint(0,100)\n",
        "print(randintarr)\n",
        "# randint(): it can be use to generate random number of int array also with 3 parameter (lower bound ,uppper bound,size ):\n",
        "print(\"randintarray :\")\n",
        "randintarr1D=np.random.randint(0,100,3)\n",
        "print(randintarr1D)\n",
        "# numpy arange(): use to create a array of evenely distributed numbers of array and take range and  difference  as parmater where range is mendatory and difference is by defual 1 and not required every tikme as a parameter (lowerbound, upperbound,difference );\n",
        "print(\"generating a sequence of number with arange\")\n",
        "range=np.arange(1,10,3) \n",
        "print(range)\n",
        "# numpy matrix design;\n",
        "# eye() : it is use to design in the matrix format where size of the matrix is given as the paramter :\n",
        "print(\"numpy matrix designing  :\")\n",
        "y=np.eye(7);\n",
        "print(y)\n",
        "print(\"numpy matrix designing  :\")\n",
        "y=np.eye(7,7);\n",
        "print(y)\n",
        "# creating numpy array of complete zeros np.zeros() :\n",
        "print(\"numpy matrix designing  :\")\n",
        "zero=np.zeros(7);\n",
        "print(zero)\n"
      ],
      "metadata": {
        "colab": {
          "base_uri": "https://localhost:8080/"
        },
        "id": "qkdzAI1G9rrn",
        "outputId": "e3dbd175-43b6-4e36-eed1-2635abc01b0d"
      },
      "execution_count": null,
      "outputs": [
        {
          "output_type": "stream",
          "name": "stdout",
          "text": [
            "rand(): 1D\n",
            "[0.88267968 0.34118353 0.0616847  0.88349932]\n",
            "rand(): 2D\n",
            "[[0.18644293 0.14444949 0.14363542]\n",
            " [0.2257832  0.74085368 0.6106324 ]\n",
            " [0.35101688 0.93051912 0.66102832]]\n",
            "randint : 1D\n",
            "34\n",
            "randintarray :\n",
            "[34 69 13]\n",
            "generating a sequence of number with arange\n",
            "[1 4 7]\n",
            "numpy matrix designing  :\n",
            "[[1. 0. 0. 0. 0. 0. 0.]\n",
            " [0. 1. 0. 0. 0. 0. 0.]\n",
            " [0. 0. 1. 0. 0. 0. 0.]\n",
            " [0. 0. 0. 1. 0. 0. 0.]\n",
            " [0. 0. 0. 0. 1. 0. 0.]\n",
            " [0. 0. 0. 0. 0. 1. 0.]\n",
            " [0. 0. 0. 0. 0. 0. 1.]]\n",
            "numpy matrix designing  :\n",
            "[[1. 0. 0. 0. 0. 0. 0.]\n",
            " [0. 1. 0. 0. 0. 0. 0.]\n",
            " [0. 0. 1. 0. 0. 0. 0.]\n",
            " [0. 0. 0. 1. 0. 0. 0.]\n",
            " [0. 0. 0. 0. 1. 0. 0.]\n",
            " [0. 0. 0. 0. 0. 1. 0.]\n",
            " [0. 0. 0. 0. 0. 0. 1.]]\n",
            "numpy matrix designing  :\n",
            "[0. 0. 0. 0. 0. 0. 0.]\n"
          ]
        }
      ]
    },
    {
      "cell_type": "code",
      "source": [],
      "metadata": {
        "id": "28WAjvC6FJ3w"
      },
      "execution_count": null,
      "outputs": []
    },
    {
      "cell_type": "code",
      "source": [
        "# challege taking a number  x as input and then genrating  a marix of 1 x 10 ranging the number from 0 to x:\n",
        "x=int(input(\"enter a number :\"))\n",
        "matrix = np.random.randint(1,x,10)\n",
        "print(matrix)"
      ],
      "metadata": {
        "colab": {
          "base_uri": "https://localhost:8080/"
        },
        "id": "GA0uW99WDV9R",
        "outputId": "d1a9af53-9ab4-467c-fad4-d1c3ead96012"
      },
      "execution_count": null,
      "outputs": [
        {
          "output_type": "stream",
          "name": "stdout",
          "text": [
            "enter a number :100\n",
            "[94 66 97 12 57 65 11 73 24 23]\n"
          ]
        }
      ]
    },
    {
      "cell_type": "code",
      "source": [
        "# adding 2 array in numpy :\n",
        "x=np.arange(1,20,2)#generaating a a 1D array in range \n",
        "y=np.arange(1,20,2)#generaating a a 1D array in range\n",
        "print(\"x\",x)\n",
        "print(\"y\",y)\n",
        "sum=x+y\n",
        "print(\"x+y\",sum) \n",
        "# sqare of all elements in sum array :\n",
        "square  = sum**2\n",
        "print(\"square :\")\n",
        "print(square)\n",
        "# square root of the array of square :\n",
        "sqrt  = np.sqrt(square)\n",
        "print(\"square root :\")\n",
        "print(sqrt)\n"
      ],
      "metadata": {
        "colab": {
          "base_uri": "https://localhost:8080/"
        },
        "id": "QG9eCh5zBz3M",
        "outputId": "cecfc56b-98dc-488a-f3aa-a4b9937d0ead"
      },
      "execution_count": null,
      "outputs": [
        {
          "output_type": "stream",
          "name": "stdout",
          "text": [
            "x [ 1  3  5  7  9 11 13 15 17 19]\n",
            "y [ 1  3  5  7  9 11 13 15 17 19]\n",
            "x+y [ 2  6 10 14 18 22 26 30 34 38]\n",
            "square :\n",
            "[   4   36  100  196  324  484  676  900 1156 1444]\n",
            "square root :\n",
            "[ 2.  6. 10. 14. 18. 22. 26. 30. 34. 38.]\n"
          ]
        }
      ]
    },
    {
      "cell_type": "code",
      "source": [
        "# challenge find the difference between 2 array :\n",
        "print(\"arr1 :\")\n",
        "arr1=np.array ([2,35,675,214,46,66,65])\n",
        "print(\"arr2 :\")\n",
        "arr2=np.array ([1,34,5,23,4,543,3])\n",
        "dif=arr1-arr2\n",
        "print(\"diff :\")\n",
        "print(dif)\n"
      ],
      "metadata": {
        "colab": {
          "base_uri": "https://localhost:8080/"
        },
        "id": "9IfhTKBqHJKZ",
        "outputId": "09d39ecc-d107-4fd0-d8b6-f1095984cc11"
      },
      "execution_count": null,
      "outputs": [
        {
          "output_type": "stream",
          "name": "stdout",
          "text": [
            "arr1 :\n",
            "arr2 :\n",
            "diff :\n",
            "[   1    1  670  191   42 -477   62]\n"
          ]
        }
      ]
    },
    {
      "cell_type": "code",
      "source": [
        "# slicing array and indexing :\n",
        "\n",
        "dummyarr=np.array([1,2,3,4,5,6,7,8,9])\n",
        "\n",
        "print(\"array :\")\n",
        "print(dummyarr)\n",
        "# access the elemnt by the  indexs \n",
        "print(\"array [1]:\",dummyarr[1])\n",
        "print(\"array [8]\",dummyarr[-1])\n",
        "# accessing elements by slicing :\n",
        "print(\"array [1,8]\",dummyarr[1:-1])\n",
        "print(\"array[1,6]\",dummyarr[2:7])\n",
        "# changing array elements value in array :\n",
        "dummyarr[1]=23;\n",
        "dummyarr[-1]=34;\n",
        "print(\"after changing values\")\n",
        "print(dummyarr)\n",
        "print(\"after slicing  changing values\")\n",
        "dummyarr[0:4]=9\n",
        "print(dummyarr)\n",
        "# performing function on 2D array :\n",
        "# generated  elemnts of matrix :\n",
        "dummyarr2D=np.random.randint(1,10,(4,4))\n",
        "# access the elments :\n",
        "print(\"original array :\")\n",
        "print(dummyarr2D)\n",
        "print(\"array [0][3]:\",dummyarr2D[0][3]);\n",
        "\n",
        "print(\"access the array first row :\")\n",
        "print(dummyarr2D[0])\n",
        "print(\"access the array last row :\")\n",
        "print(dummyarr2D[-1])"
      ],
      "metadata": {
        "colab": {
          "base_uri": "https://localhost:8080/"
        },
        "id": "QFYpGG_kIcSn",
        "outputId": "ca48d1e2-6fa7-427d-f833-ac1d6dc2bf4b"
      },
      "execution_count": null,
      "outputs": [
        {
          "output_type": "stream",
          "name": "stdout",
          "text": [
            "array :\n",
            "[1 2 3 4 5 6 7 8 9]\n",
            "array [1]: 2\n",
            "array [8] 9\n",
            "array [1,8] [2 3 4 5 6 7 8]\n",
            "array[1,6] [3 4 5 6 7]\n",
            "after changing values\n",
            "[ 1 23  3  4  5  6  7  8 34]\n",
            "after slicing  changing values\n",
            "[ 9  9  9  9  5  6  7  8 34]\n",
            "original array :\n",
            "[[9 7 9 6]\n",
            " [5 5 1 1]\n",
            " [3 8 2 4]\n",
            " [1 2 7 6]]\n",
            "array [0][3]: 6\n",
            "access the array first row :\n",
            "[9 7 9 6]\n",
            "access the array last row :\n",
            "[1 2 7 6]\n"
          ]
        }
      ]
    },
    {
      "cell_type": "code",
      "source": [
        "# challenge create a random generated array of 5x5 matrix  and then make its lasst row  all elemt=ent 0 :\n",
        "matrix2 = np.random.randint(1,10,(5,5))\n",
        "print(\"original matrix :\\n\",matrix2)\n",
        "matrix2[-1]=0\n",
        "print(\"after update :\\n\",matrix2)"
      ],
      "metadata": {
        "colab": {
          "base_uri": "https://localhost:8080/"
        },
        "id": "Z9R9YFwbOZSi",
        "outputId": "70ea2dba-1c61-4f70-dc4f-c9f236574330"
      },
      "execution_count": null,
      "outputs": [
        {
          "output_type": "stream",
          "name": "stdout",
          "text": [
            "original matrix :\n",
            " [[6 6 6 2 6]\n",
            " [7 2 6 8 4]\n",
            " [1 3 7 2 4]\n",
            " [3 1 3 9 7]\n",
            " [3 6 5 3 3]]\n",
            "after update :\n",
            " [[6 6 6 2 6]\n",
            " [7 2 6 8 4]\n",
            " [1 3 7 2 4]\n",
            " [3 1 3 9 7]\n",
            " [0 0 0 0 0]]\n"
          ]
        }
      ]
    },
    {
      "cell_type": "code",
      "source": [
        "# numpy conditionals :\n",
        "# filtering array in numpy :\n",
        "genmatrix = np.random.randint(1,10,(5,5));\n",
        "print(\"original matrix :\",genmatrix)\n",
        "newmatrix = genmatrix[genmatrix < 7]\n",
        "print(newmatrix)\n",
        "# obtaining only odd elements in an array :\n",
        "print(\"odd elements :\")\n",
        "oddmatrix = genmatrix[genmatrix%2 == 1]\n",
        "print(oddmatrix)\n",
        "# obtaining only even elements in an array :\n",
        "print(\"even  elements :\") \n",
        "evenmatrix = genmatrix[genmatrix%2 == 0]\n",
        "print(evenmatrix)\n",
        "\n"
      ],
      "metadata": {
        "colab": {
          "base_uri": "https://localhost:8080/"
        },
        "id": "0XwIT9D6PWUD",
        "outputId": "28cd23a8-ed7b-43d6-c8d1-a9907136e5dd"
      },
      "execution_count": null,
      "outputs": [
        {
          "output_type": "stream",
          "name": "stdout",
          "text": [
            "original matrix : [[4 6 7 8 9]\n",
            " [7 7 8 5 1]\n",
            " [4 5 1 8 8]\n",
            " [4 3 6 7 7]\n",
            " [5 6 9 6 2]]\n",
            "[4 6 5 1 4 5 1 4 3 6 5 6 6 2]\n",
            "odd elements :\n",
            "[7 9 7 7 5 1 5 1 3 7 7 5 9]\n",
            "even  elements :\n",
            "[4 6 8 8 4 8 8 4 6 6 6 2]\n"
          ]
        }
      ]
    },
    {
      "cell_type": "code",
      "source": [
        "# challenge replace all negative elements of the array with 0 and odd to -2:\n",
        "mat=np.array([[2,30,20,-4,-2],[3,4,40,-3,2],[-3,4,-6,90,10],[25,35,34,22,12],[13,24,22,32,37]])\n",
        "print(\"original matrix :\")\n",
        "print(mat)\n",
        "mat[mat<0]=0\n",
        "mat[mat%2==1]=-2\n",
        "print(\"updated matrix :\")\n",
        "print(mat)"
      ],
      "metadata": {
        "colab": {
          "base_uri": "https://localhost:8080/"
        },
        "id": "6bZ5Z6EERt5t",
        "outputId": "1ee65263-617e-49da-dd03-8712c281bb17"
      },
      "execution_count": null,
      "outputs": [
        {
          "output_type": "stream",
          "name": "stdout",
          "text": [
            "original matrix :\n",
            "[[ 2 30 20 -4 -2]\n",
            " [ 3  4 40 -3  2]\n",
            " [-3  4 -6 90 10]\n",
            " [25 35 34 22 12]\n",
            " [13 24 22 32 37]]\n",
            "updated matrix :\n",
            "[[ 2 30 20  0  0]\n",
            " [-2  4 40  0  2]\n",
            " [ 0  4  0 90 10]\n",
            " [-2 -2 34 22 12]\n",
            " [-2 24 22 32 -2]]\n"
          ]
        }
      ]
    }
  ],
  "metadata": {
    "colab": {
      "provenance": [],
      "collapsed_sections": [],
      "include_colab_link": true
    },
    "kernelspec": {
      "display_name": "Python 3",
      "name": "python3"
    },
    "language_info": {
      "name": "python"
    }
  },
  "nbformat": 4,
  "nbformat_minor": 0
}