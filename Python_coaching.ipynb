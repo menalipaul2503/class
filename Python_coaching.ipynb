{
  "cells": [
    {
      "cell_type": "markdown",
      "metadata": {
        "id": "view-in-github",
        "colab_type": "text"
      },
      "source": [
        "<a href=\"https://colab.research.google.com/github/menalipaul2503/class/blob/main/Python_coaching.ipynb\" target=\"_parent\"><img src=\"https://colab.research.google.com/assets/colab-badge.svg\" alt=\"Open In Colab\"/></a>"
      ]
    },
    {
      "cell_type": "code",
      "execution_count": null,
      "metadata": {
        "colab": {
          "base_uri": "https://localhost:8080/"
        },
        "id": "AbNNZ03nDGSO",
        "outputId": "2504fb69-ddc8-4997-a1a6-f0fd8a0ac5db"
      },
      "outputs": [
        {
          "name": "stdout",
          "output_type": "stream",
          "text": [
            "Hi,Evie\n"
          ]
        }
      ],
      "source": [
        "print(\"Hi,Evie\")"
      ]
    },
    {
      "cell_type": "code",
      "execution_count": null,
      "metadata": {
        "colab": {
          "base_uri": "https://localhost:8080/"
        },
        "id": "XwJ9IHyvNwHR",
        "outputId": "142587c2-bb43-441d-c7ab-4e504569a8bc"
      },
      "outputs": [
        {
          "name": "stdout",
          "output_type": "stream",
          "text": [
            "Hi\n",
            "hello hi\n"
          ]
        }
      ],
      "source": [
        "print(\"Hi\")\n",
        "#concanate the two strings\n",
        "print(\"hello\"+\" hi\")"
      ]
    },
    {
      "cell_type": "code",
      "execution_count": null,
      "metadata": {
        "colab": {
          "base_uri": "https://localhost:8080/"
        },
        "id": "gD3O8w1DE2p7",
        "outputId": "72423ed9-c347-4b41-bd6c-5676b0782c01"
      },
      "outputs": [
        {
          "name": "stdout",
          "output_type": "stream",
          "text": [
            "15\n"
          ]
        }
      ],
      "source": [
        "a=3\n",
        "b=5\n",
        "print(a*b)"
      ]
    },
    {
      "cell_type": "code",
      "execution_count": null,
      "metadata": {
        "colab": {
          "base_uri": "https://localhost:8080/"
        },
        "id": "EcPXM3o1DwX5",
        "outputId": "c510817f-dd1a-4825-8431-b03162f0369f"
      },
      "outputs": [
        {
          "name": "stdout",
          "output_type": "stream",
          "text": [
            "Omipatel\n"
          ]
        }
      ],
      "source": [
        "x=\"Omi\"\n",
        "y=\"patel\"\n",
        "print(x+y)"
      ]
    },
    {
      "cell_type": "code",
      "execution_count": null,
      "metadata": {
        "colab": {
          "base_uri": "https://localhost:8080/"
        },
        "id": "PvuYk3ALFSeY",
        "outputId": "0065c12d-948b-4966-a89e-8e07c929065b"
      },
      "outputs": [
        {
          "name": "stdout",
          "output_type": "stream",
          "text": [
            "29\n"
          ]
        }
      ],
      "source": [
        "c=\"2\"\n",
        "d=\"9\"\n",
        "print(c+d)"
      ]
    },
    {
      "cell_type": "code",
      "execution_count": null,
      "metadata": {
        "colab": {
          "base_uri": "https://localhost:8080/"
        },
        "id": "-73_i-CIGiPD",
        "outputId": "0846eb41-5f3b-4afb-afdf-80ba888bc97f"
      },
      "outputs": [
        {
          "name": "stdout",
          "output_type": "stream",
          "text": [
            "I am =17\n"
          ]
        }
      ],
      "source": [
        "e=\"I am =\"\n",
        "f=17\n",
        "print(e, end=\"\") \n",
        "print(f)"
      ]
    },
    {
      "cell_type": "code",
      "execution_count": null,
      "metadata": {
        "colab": {
          "base_uri": "https://localhost:8080/"
        },
        "id": "ZcqrkDQZIICL",
        "outputId": "30470cc1-8dbf-4463-d2ab-4e50b836ed89"
      },
      "outputs": [
        {
          "name": "stdout",
          "output_type": "stream",
          "text": [
            "omi\n",
            "<class 'str'>\n"
          ]
        }
      ],
      "source": [
        "x=2\n",
        "x=\"omi\"\n",
        "print(x)\n",
        "print(type(x))"
      ]
    },
    {
      "cell_type": "code",
      "execution_count": null,
      "metadata": {
        "colab": {
          "base_uri": "https://localhost:8080/"
        },
        "id": "8T07JpGcIe8d",
        "outputId": "8aae1505-bf41-4494-a745-d69e4c46e07a"
      },
      "outputs": [
        {
          "name": "stdout",
          "output_type": "stream",
          "text": [
            "<class 'float'>\n",
            "<class 'str'>\n",
            "<class 'int'>\n",
            "<class 'complex'>\n"
          ]
        }
      ],
      "source": [
        "x=2.4\n",
        "y=\"omi\"\n",
        "z=5\n",
        "q=8j\n",
        "print(type(x))\n",
        "print(type(y))\n",
        "print(type(z))\n",
        "print(type(q))\n",
        "# data type"
      ]
    },
    {
      "cell_type": "code",
      "execution_count": null,
      "metadata": {
        "colab": {
          "base_uri": "https://localhost:8080/"
        },
        "id": "3klYbnqSJ4wx",
        "outputId": "64f9b5ff-1949-4bb6-d70e-7506b2e654ed"
      },
      "outputs": [
        {
          "name": "stdout",
          "output_type": "stream",
          "text": [
            "3.99\n",
            "3\n",
            "3.0\n"
          ]
        }
      ],
      "source": [
        "x=3.99\n",
        "y=3.2\n",
        "z=3\n",
        "print(str(x))\n",
        "print(int(y))\n",
        "print(float(z))"
      ]
    },
    {
      "cell_type": "code",
      "execution_count": null,
      "metadata": {
        "colab": {
          "base_uri": "https://localhost:8080/"
        },
        "id": "pco9DPFMKkEj",
        "outputId": "0d6b5f7c-d754-4046-d87a-f8bf5f260595"
      },
      "outputs": [
        {
          "name": "stdout",
          "output_type": "stream",
          "text": [
            "omi omi\n"
          ]
        }
      ],
      "source": [
        "x=\"omi\"\n",
        "#is the same as\n",
        "y='omi'\n",
        "print(x,y)"
      ]
    },
    {
      "cell_type": "code",
      "execution_count": null,
      "metadata": {
        "colab": {
          "base_uri": "https://localhost:8080/"
        },
        "id": "V26OZB7nLB90",
        "outputId": "5dbbeb08-9571-4747-f949-fb0bd32cd7cb"
      },
      "outputs": [
        {
          "name": "stdout",
          "output_type": "stream",
          "text": [
            "7 8\n"
          ]
        }
      ],
      "source": [
        "a=7\n",
        "A=8\n",
        "print(a,A)\n",
        "# a and A are different"
      ]
    },
    {
      "cell_type": "code",
      "execution_count": null,
      "metadata": {
        "colab": {
          "base_uri": "https://localhost:8080/"
        },
        "id": "CCk7OyllL6My",
        "outputId": "93d3c780-b297-4c92-ac4c-6a8af4ff7d0d"
      },
      "outputs": [
        {
          "name": "stdout",
          "output_type": "stream",
          "text": [
            "omi\n",
            "omi\n",
            "tomi\n",
            "omi\n",
            "tomi\n"
          ]
        }
      ],
      "source": [
        "myvar=\"omi\"\n",
        "Myvar=\"omi\"\n",
        "mYvAr8=\"tomi\"\n",
        "my_var=\"omi\"\n",
        "_my_var_=\"tomi\"\n",
        "print(myvar)\n",
        "print(Myvar)\n",
        "print(mYvAr8)\n",
        "print(my_var)\n",
        "print(_my_var_)\n",
        "# legal variable names"
      ]
    },
    {
      "cell_type": "code",
      "execution_count": null,
      "metadata": {
        "colab": {
          "base_uri": "https://localhost:8080/",
          "height": 131
        },
        "id": "ZwMhFJXVNB-8",
        "outputId": "5f782b36-b0f5-4938-e23d-bad964964d32"
      },
      "outputs": [
        {
          "ename": "SyntaxError",
          "evalue": "ignored",
          "output_type": "error",
          "traceback": [
            "\u001b[0;36m  File \u001b[0;32m\"<ipython-input-40-e0a2690fff25>\"\u001b[0;36m, line \u001b[0;32m2\u001b[0m\n\u001b[0;31m    2myvar=\"omi\"\u001b[0m\n\u001b[0m         ^\u001b[0m\n\u001b[0;31mSyntaxError\u001b[0m\u001b[0;31m:\u001b[0m invalid syntax\n"
          ]
        }
      ],
      "source": [
        "my-var=\"omi\"\n",
        "2myvar=\"omi\"\n",
        "my var=\"omi\"\n",
        "# dosn't work\n",
        "# Illegal variable names \n",
        "# Variable names are case-sensitive"
      ]
    },
    {
      "cell_type": "code",
      "execution_count": null,
      "metadata": {
        "colab": {
          "base_uri": "https://localhost:8080/"
        },
        "id": "nd_lnkVjNmt-",
        "outputId": "f93a05ca-23e0-4a6a-b5aa-09c7f637a050"
      },
      "outputs": [
        {
          "name": "stdout",
          "output_type": "stream",
          "text": [
            "Omi   Aditi Menali\n"
          ]
        }
      ],
      "source": [
        "x , y , z='Omi' ,\"Aditi\" ,\"Menali\"\n",
        "print( x ,'','', y , z) "
      ]
    },
    {
      "cell_type": "code",
      "source": [
        "name = input(\"Enter your name: \")  \n",
        "print(name)  "
      ],
      "metadata": {
        "colab": {
          "base_uri": "https://localhost:8080/"
        },
        "id": "Cj-SqU0t_-lB",
        "outputId": "30dbe77c-424b-46c8-ab0f-c5a11f6c876f"
      },
      "execution_count": null,
      "outputs": [
        {
          "output_type": "stream",
          "name": "stdout",
          "text": [
            "Enter your name: kj\n",
            "kj\n"
          ]
        }
      ]
    },
    {
      "cell_type": "code",
      "execution_count": null,
      "metadata": {
        "colab": {
          "base_uri": "https://localhost:8080/"
        },
        "id": "C8QdeQF3RW-n",
        "outputId": "32669ecb-1e19-4e0a-9aa7-a62a67ed92ef"
      },
      "outputs": [
        {
          "name": "stdout",
          "output_type": "stream",
          "text": [
            "9\n"
          ]
        }
      ],
      "source": [
        "a=b=c=d=e=3\n",
        "print(a+b+c-d+e)"
      ]
    },
    {
      "cell_type": "code",
      "execution_count": null,
      "metadata": {
        "colab": {
          "base_uri": "https://localhost:8080/"
        },
        "id": "sdMZ8qbBRtC5",
        "outputId": "5bdb71e2-bcc6-45bb-e99f-d6e32fadded7"
      },
      "outputs": [
        {
          "name": "stdout",
          "output_type": "stream",
          "text": [
            "cherry cherry bon bon\n"
          ]
        }
      ],
      "source": [
        "c=d=\"cherry\"\n",
        "e=\"bon\"\n",
        "print(c,d,e,e)"
      ]
    },
    {
      "cell_type": "code",
      "execution_count": null,
      "metadata": {
        "colab": {
          "base_uri": "https://localhost:8080/"
        },
        "id": "EL-X741YSIK3",
        "outputId": "67d3a38b-3591-4360-f7ab-4896bbd3d6ad"
      },
      "outputs": [
        {
          "name": "stdout",
          "output_type": "stream",
          "text": [
            "cherry hi cherry\n"
          ]
        }
      ],
      "source": [
        "a=\"cherry\"\n",
        "print(a,\"hi\", a)"
      ]
    },
    {
      "cell_type": "code",
      "execution_count": null,
      "metadata": {
        "colab": {
          "base_uri": "https://localhost:8080/"
        },
        "id": "zK3BGHYvSinx",
        "outputId": "5e7335ad-28c3-4edc-aa72-97e926a9ad33"
      },
      "outputs": [
        {
          "name": "stdout",
          "output_type": "stream",
          "text": [
            "rose lotus tulip\n"
          ]
        }
      ],
      "source": [
        "flower= [\"rose\", \"lotus\", \"tulip\"]\n",
        "a,b,c= flower\n",
        "print(a,b,c)"
      ]
    },
    {
      "cell_type": "code",
      "execution_count": null,
      "metadata": {
        "colab": {
          "base_uri": "https://localhost:8080/"
        },
        "id": "kyqGLNyyowAR",
        "outputId": "a818dbc2-b3d2-45fa-8687-89e7d323a993"
      },
      "outputs": [
        {
          "name": "stdout",
          "output_type": "stream",
          "text": [
            "['pink', 'purple', 'black']\n"
          ]
        }
      ],
      "source": [
        "#List\n",
        "x=[\"pink\",\"purple\", \"black\"]\n",
        "print(x)"
      ]
    },
    {
      "cell_type": "code",
      "execution_count": null,
      "metadata": {
        "colab": {
          "base_uri": "https://localhost:8080/"
        },
        "id": "aVDKeKu0pOO-",
        "outputId": "8a8b944c-843c-46d2-877f-7d6c860cb658"
      },
      "outputs": [
        {
          "name": "stdout",
          "output_type": "stream",
          "text": [
            "('pink', 'blue', 'green')\n",
            "<class 'tuple'>\n"
          ]
        }
      ],
      "source": [
        "#tuple\n",
        "y=('pink', 'blue', 'green')\n",
        "print(y)\n",
        "print(type(y))"
      ]
    },
    {
      "cell_type": "code",
      "execution_count": null,
      "metadata": {
        "colab": {
          "base_uri": "https://localhost:8080/"
        },
        "id": "vf58Uof8ppcv",
        "outputId": "b7dbed6f-9ebc-4e99-e009-f0d12140d9e7"
      },
      "outputs": [
        {
          "name": "stdout",
          "output_type": "stream",
          "text": [
            "range(0, 5)\n",
            "<class 'range'>\n"
          ]
        }
      ],
      "source": [
        "#Range\n",
        "e=range(5)\n",
        "print(e)\n",
        "print(type(e))"
      ]
    },
    {
      "cell_type": "code",
      "execution_count": null,
      "metadata": {
        "colab": {
          "base_uri": "https://localhost:8080/"
        },
        "id": "viMNkzmiqbQi",
        "outputId": "bef7a4ac-0b81-40b6-ee9b-c100bcb36e63"
      },
      "outputs": [
        {
          "name": "stdout",
          "output_type": "stream",
          "text": [
            "{'Name': 'Aditi', 'age': 17, 'phone number': 123456789}\n",
            "<class 'dict'>\n"
          ]
        }
      ],
      "source": [
        "#dictionary\n",
        "r={'Name': 'Aditi', 'age': 17, 'phone number': 123456789}\n",
        "print(r)\n",
        "print(type(r))"
      ]
    },
    {
      "cell_type": "code",
      "execution_count": null,
      "metadata": {
        "colab": {
          "base_uri": "https://localhost:8080/"
        },
        "id": "25P0kGBIrwxa",
        "outputId": "ea6fb0ca-469f-4676-fc32-87a3f9b01b28"
      },
      "outputs": [
        {
          "name": "stdout",
          "output_type": "stream",
          "text": [
            "{'unicorn', 'shifter', 'meow', 'witch', 'vamp'}\n",
            "<class 'set'>\n"
          ]
        }
      ],
      "source": [
        "#set\n",
        "u={'meow', 'unicorn', 'vamp', 'witch', 'shifter'}\n",
        "print(u)\n",
        "print(type(u))"
      ]
    },
    {
      "cell_type": "code",
      "execution_count": null,
      "metadata": {
        "colab": {
          "base_uri": "https://localhost:8080/"
        },
        "id": "PZ6nLgGDsPvg",
        "outputId": "dbd4fdbd-e060-4eb1-8892-f53d730236dd"
      },
      "outputs": [
        {
          "name": "stdout",
          "output_type": "stream",
          "text": [
            "{'table', 'window', 'phone', 'door', 'chair'}\n",
            "<class 'set'>\n"
          ]
        }
      ],
      "source": [
        "#frozenset\n",
        "p={'door','window', 'chair', 'table','phone'}\n",
        "print(p)\n",
        "print(type(p))"
      ]
    },
    {
      "cell_type": "code",
      "execution_count": null,
      "metadata": {
        "colab": {
          "base_uri": "https://localhost:8080/"
        },
        "id": "17F7PAmFs2nA",
        "outputId": "f1a792b2-a770-4c20-fe1a-262ed3e570f3"
      },
      "outputs": [
        {
          "output_type": "stream",
          "name": "stdout",
          "text": [
            "True \n",
            " False\n",
            "<class 'bool'>\n"
          ]
        }
      ],
      "source": [
        "#boolean\n",
        "x=True\n",
        "y=False\n",
        "print(x,\"\\n\",y)\n",
        "print(type(x))"
      ]
    },
    {
      "cell_type": "code",
      "source": [],
      "metadata": {
        "id": "ZOGIE6WkGoY3"
      },
      "execution_count": null,
      "outputs": []
    },
    {
      "cell_type": "code",
      "execution_count": null,
      "metadata": {
        "colab": {
          "base_uri": "https://localhost:8080/"
        },
        "id": "uhtHtaKquBUS",
        "outputId": "dcaa2562-ba28-4836-ad4a-f8c1fa17744b"
      },
      "outputs": [
        {
          "name": "stdout",
          "output_type": "stream",
          "text": [
            "b'hi'\n",
            "<class 'bytes'>\n"
          ]
        }
      ],
      "source": [
        "#bytes\n",
        "w=b\"hi\"\n",
        "print(w)\n",
        "print(type(w))"
      ]
    },
    {
      "cell_type": "code",
      "execution_count": null,
      "metadata": {
        "colab": {
          "base_uri": "https://localhost:8080/"
        },
        "id": "naCPrXyRuZSZ",
        "outputId": "0b676cac-55f5-4599-e7b4-f76afa3bd3a7"
      },
      "outputs": [
        {
          "name": "stdout",
          "output_type": "stream",
          "text": [
            "bytearray(b'\\x00\\x00\\x00\\x00\\x00\\x00\\x00\\x00\\x00')\n"
          ]
        }
      ],
      "source": [
        "#bytearray\n",
        "x=bytearray(9)\n",
        "print(x)"
      ]
    },
    {
      "cell_type": "code",
      "source": [
        "def add():\n",
        "\n",
        "  a=23\n",
        "  b=32\n",
        "  c=a+b\n",
        "  print(c)\n",
        "add()\n",
        "\n",
        "add()\n",
        "add()"
      ],
      "metadata": {
        "colab": {
          "base_uri": "https://localhost:8080/"
        },
        "id": "J1z-pARKPCl_",
        "outputId": "5390ccea-70b5-471b-ac4f-dbb1984c8a38"
      },
      "execution_count": null,
      "outputs": [
        {
          "output_type": "stream",
          "name": "stdout",
          "text": [
            "55\n",
            "55\n",
            "55\n"
          ]
        }
      ]
    },
    {
      "cell_type": "code",
      "execution_count": null,
      "metadata": {
        "colab": {
          "base_uri": "https://localhost:8080/"
        },
        "id": "HkWiEdXBvHUY",
        "outputId": "a583df19-1f06-4a22-fd23-05fb0ec2557b"
      },
      "outputs": [
        {
          "name": "stdout",
          "output_type": "stream",
          "text": [
            "<memory at 0x7feff9c8a940>\n"
          ]
        }
      ],
      "source": [
        "#memoryview\n",
        "y=memoryview(bytes(100))\n",
        "print(y)"
      ]
    },
    {
      "cell_type": "code",
      "execution_count": null,
      "metadata": {
        "colab": {
          "base_uri": "https://localhost:8080/"
        },
        "id": "L5yhUtYJv0ZY",
        "outputId": "578442b8-5a6a-4fda-f643-dcf90bb5c000"
      },
      "outputs": [
        {
          "name": "stdout",
          "output_type": "stream",
          "text": [
            "None\n"
          ]
        }
      ],
      "source": [
        "#NoneType\n",
        "x=None\n",
        "print(x)"
      ]
    },
    {
      "cell_type": "code",
      "execution_count": null,
      "metadata": {
        "colab": {
          "base_uri": "https://localhost:8080/"
        },
        "id": "tqfEkP9MwxcJ",
        "outputId": "478add59-9b1f-482f-c55d-eaea6284c693"
      },
      "outputs": [
        {
          "name": "stdout",
          "output_type": "stream",
          "text": [
            "1900000000000000.0\n",
            "3.3e+101 6800.0\n"
          ]
        }
      ],
      "source": [
        "#exponential\n",
        "q=19e14\n",
        "w=33e100\n",
        "r=68E2\n",
        "print(q)\n",
        "print(w,r)"
      ]
    },
    {
      "cell_type": "code",
      "execution_count": null,
      "metadata": {
        "colab": {
          "base_uri": "https://localhost:8080/"
        },
        "id": "4ij2z42_x2t3",
        "outputId": "6f62ce45-8c9c-412e-a0b6-b0bcd70680b7"
      },
      "outputs": [
        {
          "name": "stdout",
          "output_type": "stream",
          "text": [
            "23\n"
          ]
        }
      ],
      "source": [
        "# using random libraray along with randrange function which will generate any random value\n",
        "import random\n",
        "print(random.randrange(9,99))"
      ]
    },
    {
      "cell_type": "code",
      "execution_count": null,
      "metadata": {
        "colab": {
          "base_uri": "https://localhost:8080/"
        },
        "id": "QOXyK_WDigEP",
        "outputId": "835ea21f-54cd-4768-b12f-52198293efcf"
      },
      "outputs": [
        {
          "name": "stdout",
          "output_type": "stream",
          "text": [
            "Hi I'm Kat\n",
            "I was a human once surving this infected world of 2099\n",
            "I lived and grew up in a cave near the Andorra Sector\n",
            "Until I was kiddnapped by the wolfs of Andorra Sector\n",
            "My life turned upside down when they changed me into a shifter\n"
          ]
        }
      ],
      "source": [
        "#MultilineStrings\n",
        "#three double quotes are used here\n",
        "a=\"\"\"Hi I'm Kat\n",
        "I was a human once surving this infected world of 2099\n",
        "I lived and grew up in a cave near the Andorra Sector\n",
        "Until I was kiddnapped by the wolfs of Andorra Sector\n",
        "My life turned upside down when they changed me into a shifter\"\"\"\n",
        "print(a)"
      ]
    },
    {
      "cell_type": "code",
      "execution_count": null,
      "metadata": {
        "colab": {
          "base_uri": "https://localhost:8080/"
        },
        "id": "oSeI8whziJlV",
        "outputId": "6fdf4e88-e688-4248-c21c-60ea651fc833"
      },
      "outputs": [
        {
          "name": "stdout",
          "output_type": "stream",
          "text": [
            "i\n"
          ]
        }
      ],
      "source": [
        "#Strings Arrays\n",
        "b=\"AditiPatel\"\n",
        "print(b[2])"
      ]
    },
    {
      "cell_type": "code",
      "execution_count": null,
      "metadata": {
        "colab": {
          "base_uri": "https://localhost:8080/"
        },
        "id": "1q12FJoUiJ3L",
        "outputId": "f14d0e97-1825-47fa-9fc9-390af11e4752"
      },
      "outputs": [
        {
          "name": "stdout",
          "output_type": "stream",
          "text": [
            "V\n",
            "a\n",
            "m\n",
            "p\n",
            "i\n",
            "r\n",
            "e\n"
          ]
        }
      ],
      "source": [
        "#Looping through a string\n",
        "for x in \"Vampire\":\n",
        "  print(x)"
      ]
    },
    {
      "cell_type": "code",
      "execution_count": null,
      "metadata": {
        "colab": {
          "base_uri": "https://localhost:8080/"
        },
        "id": "AZ6oliTvlnR-",
        "outputId": "df9f4eb7-34d2-4167-c286-b65b9f583e2e"
      },
      "outputs": [
        {
          "name": "stdout",
          "output_type": "stream",
          "text": [
            "13\n"
          ]
        }
      ],
      "source": [
        "#String length\n",
        "p=\"Purple Hearts\"\n",
        "print(len(p))"
      ]
    },
    {
      "cell_type": "code",
      "execution_count": null,
      "metadata": {
        "colab": {
          "base_uri": "https://localhost:8080/"
        },
        "id": "-mUSJSMZmI4R",
        "outputId": "55f13a3b-d7a0-4a03-9112-a709cabd74f4"
      },
      "outputs": [
        {
          "name": "stdout",
          "output_type": "stream",
          "text": [
            "True\n",
            "False\n"
          ]
        }
      ],
      "source": [
        "#Check String\n",
        "h=\"Harry Potter in the chosen one\"\n",
        "print(\"chosen\" in h)\n",
        "print(\"Hermione\" in h)"
      ]
    },
    {
      "cell_type": "code",
      "execution_count": null,
      "metadata": {
        "colab": {
          "base_uri": "https://localhost:8080/"
        },
        "id": "hiiuR_Ytpy7L",
        "outputId": "bccfccc2-3a83-4528-9bd8-6392f43a1219"
      },
      "outputs": [
        {
          "name": "stdout",
          "output_type": "stream",
          "text": [
            "True\n",
            "False\n"
          ]
        }
      ],
      "source": [
        "#Check not String\n",
        "p=\"Hermione is a bookworm\"\n",
        "print(\"Granger\" not in p)\n",
        "print(\"bookworm\" not in p)"
      ]
    },
    {
      "cell_type": "code",
      "execution_count": null,
      "metadata": {
        "colab": {
          "base_uri": "https://localhost:8080/"
        },
        "id": "7hvBuxWJnjG4",
        "outputId": "fd9c15a0-c029-47bb-c792-38ca9c801506"
      },
      "outputs": [
        {
          "name": "stdout",
          "output_type": "stream",
          "text": [
            "There's a hope that's waiting for you in the dark\n"
          ]
        }
      ],
      "source": [
        "#If function- Check String\n",
        "s=\"No scars to your beautiful\"\n",
        "if \"scars\" in s:\n",
        "  print(\"There's a hope that's waiting for you in the dark\")"
      ]
    },
    {
      "cell_type": "code",
      "execution_count": null,
      "metadata": {
        "colab": {
          "base_uri": "https://localhost:8080/"
        },
        "id": "6_cU6smPopyF",
        "outputId": "bcb05038-7409-40a1-a53b-1c2725bbe835"
      },
      "outputs": [
        {
          "name": "stdout",
          "output_type": "stream",
          "text": [
            "You're still a traitor\n"
          ]
        }
      ],
      "source": [
        "#Check If NOT\n",
        "u=\"You betrayed me\"\n",
        "if \"sorry\" not in u:\n",
        "  print(\"You're still a traitor\")"
      ]
    },
    {
      "cell_type": "code",
      "execution_count": null,
      "metadata": {
        "colab": {
          "base_uri": "https://localhost:8080/"
        },
        "id": "15v2sxq6pMZl",
        "outputId": "a1d7736f-9b41-4332-9806-863aa2402d96"
      },
      "outputs": [
        {
          "name": "stdout",
          "output_type": "stream",
          "text": [
            "I'm a swiftie\n",
            "e\n",
            "I'm a swifti\n",
            "swiftie\n",
            "I'\n",
            "swift\n",
            "ift\n"
          ]
        }
      ],
      "source": [
        "#Slicing\n",
        "t=\"I'm a swiftie\"\n",
        "print(t[0:])\n",
        "print(t[-1])\n",
        "print(t[0:-1])\n",
        "print(t[6:])\n",
        "print(t[0:2])\n",
        "print(t[6:11])\n",
        "print(t[-5:-2])"
      ]
    },
    {
      "cell_type": "code",
      "execution_count": null,
      "metadata": {
        "colab": {
          "base_uri": "https://localhost:8080/"
        },
        "id": "8X3XR2KIq5Yb",
        "outputId": "d89d9413-7e52-4450-fe8f-1cd153dd453e"
      },
      "outputs": [
        {
          "name": "stdout",
          "output_type": "stream",
          "text": [
            "HAPPY BIRTHDAY OMI\n"
          ]
        }
      ],
      "source": [
        "#Modify Strings- Upper case\n",
        "q=\"Happy birthday Omi\"\n",
        "print(q.upper())"
      ]
    },
    {
      "cell_type": "code",
      "execution_count": null,
      "metadata": {
        "colab": {
          "base_uri": "https://localhost:8080/"
        },
        "id": "BcnQ74W1sQLj",
        "outputId": "c0758074-0ede-4987-b1a2-f8753ed874d2"
      },
      "outputs": [
        {
          "name": "stdout",
          "output_type": "stream",
          "text": [
            "meow\n"
          ]
        }
      ],
      "source": [
        "#Modify Strings- Lower case\n",
        "e=\"MEOW\"\n",
        "print(e.lower())"
      ]
    },
    {
      "cell_type": "code",
      "execution_count": null,
      "metadata": {
        "colab": {
          "base_uri": "https://localhost:8080/"
        },
        "id": "Qay7oSxgsqql",
        "outputId": "16ae41fd-497d-4772-d1d7-df7835ca9025"
      },
      "outputs": [
        {
          "name": "stdout",
          "output_type": "stream",
          "text": [
            "Shello HI\n"
          ]
        }
      ],
      "source": [
        "#Modify strings- Remove Whitespace\n",
        "w=\"                Shello HI                    \"                      \n",
        "print(w.strip())"
      ]
    },
    {
      "cell_type": "code",
      "execution_count": null,
      "metadata": {
        "colab": {
          "base_uri": "https://localhost:8080/"
        },
        "id": "JCGbDL_mtF8M",
        "outputId": "244ae872-e5ae-46e3-a969-80d9c4ac55fb"
      },
      "outputs": [
        {
          "name": "stdout",
          "output_type": "stream",
          "text": [
            "Catman\n"
          ]
        }
      ],
      "source": [
        "#Modify Strings- Replace String\n",
        "o=\"Batman\"\n",
        "print(o.replace(\"B\",\"C\"))"
      ]
    },
    {
      "cell_type": "code",
      "execution_count": null,
      "metadata": {
        "colab": {
          "base_uri": "https://localhost:8080/"
        },
        "id": "xkcLrotSuf7y",
        "outputId": "7ad8bc32-583f-42db-b429-4f19fcfd9f8f"
      },
      "outputs": [
        {
          "name": "stdout",
          "output_type": "stream",
          "text": [
            "['She ', 'ell', ' ', 'ea ', 'hell', '']\n"
          ]
        }
      ],
      "source": [
        "#Modify Strings- Split String\n",
        "i=\"She sells sea shells\"\n",
        "print(i.split(\"s\"))"
      ]
    },
    {
      "cell_type": "code",
      "execution_count": null,
      "metadata": {
        "colab": {
          "base_uri": "https://localhost:8080/"
        },
        "id": "gP9jrJk4vY8n",
        "outputId": "bd59d0d1-d539-46b8-a7b5-9fe2a5b3a5f1"
      },
      "outputs": [
        {
          "name": "stdout",
          "output_type": "stream",
          "text": [
            "['', ' a ', ' be ', ' go ', ' met']\n"
          ]
        }
      ],
      "source": [
        "#Split String\n",
        "d=\"she a she be she go she met\"\n",
        "print(d.split(\"she\"))"
      ]
    },
    {
      "cell_type": "code",
      "execution_count": null,
      "metadata": {
        "colab": {
          "base_uri": "https://localhost:8080/"
        },
        "id": "22G_NvHqwBGc",
        "outputId": "a2d773f3-57ef-431a-9aaf-12063e767f22"
      },
      "outputs": [
        {
          "name": "stdout",
          "output_type": "stream",
          "text": [
            "cherryberry\n"
          ]
        }
      ],
      "source": [
        "#Concanatenation\n",
        "a=\"cherry\"\n",
        "b=\"berry\"\n",
        "c= a+b\n",
        "print(c)"
      ]
    },
    {
      "cell_type": "code",
      "execution_count": null,
      "metadata": {
        "colab": {
          "base_uri": "https://localhost:8080/"
        },
        "id": "bfvRfrtrwhR7",
        "outputId": "5406c468-5d5d-4eb3-da82-3c78b63fe4aa"
      },
      "outputs": [
        {
          "name": "stdout",
          "output_type": "stream",
          "text": [
            "My name is Aditi and i am 17.\n"
          ]
        }
      ],
      "source": [
        "#Format String\n",
        "age=17\n",
        "t=\"My name is Aditi and i am {}.\"\n",
        "print(t.format(age))"
      ]
    },
    {
      "cell_type": "code",
      "execution_count": null,
      "metadata": {
        "colab": {
          "base_uri": "https://localhost:8080/"
        },
        "id": "Tyh09CsjxgU9",
        "outputId": "ef35df16-e16e-43c3-969c-402c6ad06735"
      },
      "outputs": [
        {
          "name": "stdout",
          "output_type": "stream",
          "text": [
            "I want 3 kg apples till 7 pm.\n"
          ]
        }
      ],
      "source": [
        "#Format Strings\n",
        "a=3\n",
        "b=\"apples\"\n",
        "c=7\n",
        "d=\"I want {} kg {} till {} pm.\"\n",
        "print(d.format(a,b,c))"
      ]
    },
    {
      "cell_type": "code",
      "execution_count": null,
      "metadata": {
        "colab": {
          "base_uri": "https://localhost:8080/"
        },
        "id": "J-gIbIRtyer4",
        "outputId": "09ff091e-e3d7-4cce-e38d-f689dd0bb287"
      },
      "outputs": [
        {
          "name": "stdout",
          "output_type": "stream",
          "text": [
            "I want 5 kg cherry till 9 am.\n"
          ]
        }
      ],
      "source": [
        "#Format Strings\n",
        "a=\"cherry\"\n",
        "b=9\n",
        "c=5\n",
        "d=\"I want {2} kg {0} till {1} am.\"\n",
        "print(d.format(a,b,c))"
      ]
    },
    {
      "cell_type": "code",
      "execution_count": null,
      "metadata": {
        "colab": {
          "base_uri": "https://localhost:8080/"
        },
        "id": "rqLEnLwgzbHp",
        "outputId": "916c4437-073e-4656-8b09-b73115241d30"
      },
      "outputs": [
        {
          "name": "stdout",
          "output_type": "stream",
          "text": [
            "Vampires \"sparkel\" in sunlight.\n"
          ]
        }
      ],
      "source": [
        "#Escape Character\n",
        "p=\"Vampires \\\"sparkel\\\" in sunlight.\"\n",
        "print(p)"
      ]
    },
    {
      "cell_type": "code",
      "execution_count": null,
      "metadata": {
        "colab": {
          "base_uri": "https://localhost:8080/"
        },
        "id": "wfIzLnOE0rlO",
        "outputId": "10e9def5-16ea-4d9c-9b8d-72c48a5889ed"
      },
      "outputs": [
        {
          "name": "stdout",
          "output_type": "stream",
          "text": [
            "Whatchya doin'?\n"
          ]
        }
      ],
      "source": [
        "#Escape Characters- Single Quotes\n",
        "p=\"Whatchya doin\\'?\"\n",
        "print(p)"
      ]
    },
    {
      "cell_type": "code",
      "execution_count": null,
      "metadata": {
        "colab": {
          "base_uri": "https://localhost:8080/"
        },
        "id": "kXMURNgQ1A4c",
        "outputId": "c0dc0905-39c4-46e5-886d-3c5529d5c1e1"
      },
      "outputs": [
        {
          "name": "stdout",
          "output_type": "stream",
          "text": [
            "Apple\\banana\\pineapple\\cherry\n"
          ]
        }
      ],
      "source": [
        "#Escape Character- Backslash\n",
        "q=\"Apple\\\\banana\\\\pineapple\\\\cherry\"\n",
        "print(q)"
      ]
    },
    {
      "cell_type": "code",
      "execution_count": null,
      "metadata": {
        "colab": {
          "base_uri": "https://localhost:8080/"
        },
        "id": "2X2lP-NN1rdM",
        "outputId": "b0885ed9-16e4-49f7-af93-a5e43892fafe"
      },
      "outputs": [
        {
          "name": "stdout",
          "output_type": "stream",
          "text": [
            "pink \n",
            "purple\n"
          ]
        }
      ],
      "source": [
        "#Escape Character- New Line\n",
        "p=\"pink \\npurple\"\n",
        "print(p)"
      ]
    },
    {
      "cell_type": "code",
      "execution_count": null,
      "metadata": {
        "colab": {
          "base_uri": "https://localhost:8080/"
        },
        "id": "ieRGo40M2Ebo",
        "outputId": "7f9f0d28-93d9-40cd-dd59-77c9a0241d69"
      },
      "outputs": [
        {
          "name": "stdout",
          "output_type": "stream",
          "text": [
            "omi\tpatel\n"
          ]
        }
      ],
      "source": [
        "#Escape Character-tab\n",
        "p=\"omi\\tpatel\"\n",
        "print(p)"
      ]
    },
    {
      "cell_type": "code",
      "execution_count": null,
      "metadata": {
        "colab": {
          "base_uri": "https://localhost:8080/"
        },
        "id": "pqbePAar2_ln",
        "outputId": "8076f699-a1c2-43e2-fe63-2684dc30e42f"
      },
      "outputs": [
        {
          "name": "stdout",
          "output_type": "stream",
          "text": [
            "Omi \bPatel\n"
          ]
        }
      ],
      "source": [
        "#Escape Character- Backspace\n",
        "p=\"Omi \\bPatel\"\n",
        "print(p)"
      ]
    },
    {
      "cell_type": "code",
      "execution_count": null,
      "metadata": {
        "colab": {
          "base_uri": "https://localhost:8080/"
        },
        "id": "qEfBtza6JCit",
        "outputId": "233ab059-1712-4a28-9067-ca07087a9876"
      },
      "outputs": [
        {
          "name": "stdout",
          "output_type": "stream",
          "text": [
            "Omi is mad.\n"
          ]
        }
      ],
      "source": [
        "#String Methods- capitalize() {Converts the first character to upper case}\n",
        "q=\"omi is MAD.\"\n",
        "print(q.capitalize())"
      ]
    },
    {
      "cell_type": "code",
      "execution_count": null,
      "metadata": {
        "colab": {
          "base_uri": "https://localhost:8080/"
        },
        "id": "H8LalGd-JoaN",
        "outputId": "b3d66158-4185-4bb5-f844-ccce596886af"
      },
      "outputs": [
        {
          "name": "stdout",
          "output_type": "stream",
          "text": [
            "omi is mad.\n"
          ]
        }
      ],
      "source": [
        "#String Methods- casefold() {Converts string into lower case}\n",
        "p=\"Omi is MAD.\"\n",
        "print(p.casefold())"
      ]
    },
    {
      "cell_type": "code",
      "execution_count": null,
      "metadata": {
        "colab": {
          "base_uri": "https://localhost:8080/"
        },
        "id": "kbk7LQ62KcqV",
        "outputId": "20a436c6-511c-4868-c9e1-522bb70394d7"
      },
      "outputs": [
        {
          "name": "stdout",
          "output_type": "stream",
          "text": [
            "                                              sparkles                                              \n",
            "iiiiiiiiiiiiiiiiiihappybirthdayiiiiiiiiiiiiiiiiiii\n"
          ]
        }
      ],
      "source": [
        "#String Method- center() {Returns a centered string}\n",
        "a=\"sparkles\"\n",
        "print(a.center(100))\n",
        "b=\"happybirthday\"\n",
        "print(b.center(50,\"i\"))"
      ]
    },
    {
      "cell_type": "code",
      "execution_count": null,
      "metadata": {
        "colab": {
          "base_uri": "https://localhost:8080/"
        },
        "id": "Q5mrInycL-j3",
        "outputId": "99eb10f0-096f-4858-99b8-f218e876bbe6"
      },
      "outputs": [
        {
          "name": "stdout",
          "output_type": "stream",
          "text": [
            "2\n",
            "1\n"
          ]
        }
      ],
      "source": [
        "#String Method- count() {Returns the number of times a specified value occurs in a string}\n",
        "x=\"I hate dark chocolate, they're so biter they don't deserve to be called chocolate.\"\n",
        "print(x.count(\"chocolate\"))\n",
        "print(x.count(\"they\", 20, 30))"
      ]
    },
    {
      "cell_type": "code",
      "execution_count": null,
      "metadata": {
        "colab": {
          "base_uri": "https://localhost:8080/"
        },
        "id": "pv2aRPXFN8dg",
        "outputId": "9ad69a4e-681a-46f5-b425-284beca3a595"
      },
      "outputs": [
        {
          "name": "stdout",
          "output_type": "stream",
          "text": [
            "b'My name is \\xc3\\xa5diti, not St\\xc3\\xa5le, not \\xe1\\xb8\\xbfenali'\n"
          ]
        }
      ],
      "source": [
        "#String Method- encode()\n",
        "e=\"My name is åditi, not Ståle, not ḿenali\"\n",
        "print(e.encode())"
      ]
    },
    {
      "cell_type": "code",
      "execution_count": null,
      "metadata": {
        "colab": {
          "base_uri": "https://localhost:8080/"
        },
        "id": "tHcPwVNPSkCt",
        "outputId": "be6685eb-03a3-4699-fb12-eb83eb0d898e"
      },
      "outputs": [
        {
          "name": "stdout",
          "output_type": "stream",
          "text": [
            "True\n",
            "False\n",
            "True\n"
          ]
        }
      ],
      "source": [
        "#String Method- endswith()\n",
        "e=\"It ends with us\"\n",
        "print(e.endswith(\"us\"))\n",
        "print(e.endswith(\".\"))\n",
        "print(e.endswith(\"with\",5,12))"
      ]
    },
    {
      "cell_type": "code",
      "execution_count": null,
      "metadata": {
        "colab": {
          "base_uri": "https://localhost:8080/"
        },
        "id": "DDrKR-dKOWsz",
        "outputId": "f234e9c3-185f-4e06-d9a3-c079ad4390ad"
      },
      "outputs": [
        {
          "name": "stdout",
          "output_type": "stream",
          "text": [
            "True\n",
            "False\n",
            "True\n"
          ]
        }
      ],
      "source": [
        "#String Method- startswith()\n",
        "#method returns True if the string starts with the specified value, otherwise False\n",
        "s=\"It starts with us\"\n",
        "print(s.startswith(\"It\"))\n",
        "print(s.startswith(\"us\"))\n",
        "print(s.startswith(\"starts\", 3,18))"
      ]
    },
    {
      "cell_type": "code",
      "execution_count": null,
      "metadata": {
        "colab": {
          "base_uri": "https://localhost:8080/"
        },
        "id": "IozZupGsT9X6",
        "outputId": "c8b40a66-bed9-44c4-b67a-8e9aa625d630"
      },
      "outputs": [
        {
          "name": "stdout",
          "output_type": "stream",
          "text": [
            "w    o    l    f\n"
          ]
        }
      ],
      "source": [
        "#String Method- expandtabs() {Sets the tab size of the string}\n",
        "p=\"w\\to\\tl\\tf\"\n",
        "print(p.expandtabs(5))"
      ]
    },
    {
      "cell_type": "code",
      "execution_count": null,
      "metadata": {
        "colab": {
          "base_uri": "https://localhost:8080/"
        },
        "id": "-Di6uNt1UuKD",
        "outputId": "8491b48b-9af3-4cdc-f694-cab8700a27df"
      },
      "outputs": [
        {
          "name": "stdout",
          "output_type": "stream",
          "text": [
            "llo worl\n",
            "HELLO WORLD\n",
            "H/e/l/l/o\n"
          ]
        }
      ],
      "source": [
        "#Revision\n",
        "w=\"Hello world\"\n",
        "print(w[2:10])\n",
        "print(w.upper())\n",
        "p=\"H{}e{}l{}l{}o\"\n",
        "o=\"/\"\n",
        "print(p.format(o,o,o,o))"
      ]
    },
    {
      "cell_type": "code",
      "execution_count": null,
      "metadata": {
        "colab": {
          "base_uri": "https://localhost:8080/"
        },
        "id": "ZPNGPNAgXAt5",
        "outputId": "cf37fc9b-e82c-4ea3-fe6f-5e2a57406563"
      },
      "outputs": [
        {
          "name": "stdout",
          "output_type": "stream",
          "text": [
            "11\n",
            "p\n",
            "-1\n"
          ]
        }
      ],
      "source": [
        "#String Method- find() {finds the first occurrence of the specified value.}\n",
        "#The find() method returns -1 if the value is not found.\n",
        "#The find() method is almost the same as the index() method, the only difference is that the index() method raises an exception if the value is not found.\n",
        "a=\"I heart purple\"\n",
        "print(a.find(\"p\",9,20))\n",
        "print(a[8])\n",
        "print(a.find(\"e\", 5, 9))"
      ]
    },
    {
      "cell_type": "code",
      "execution_count": null,
      "metadata": {
        "colab": {
          "base_uri": "https://localhost:8080/"
        },
        "id": "-RienGRNZYPc",
        "outputId": "af594122-e4bd-4e8d-8da7-0e58bb853cd2"
      },
      "outputs": [
        {
          "name": "stdout",
          "output_type": "stream",
          "text": [
            "For only 99.000000 rupees!\n"
          ]
        }
      ],
      "source": [
        "#String Method- format()\n",
        "#The format() method formats the specified value(s) and insert them inside the string's placeholder.\n",
        "#The placeholder is defined using curly brackets: {}. \n",
        "p=\"For only {price:6f} rupees!\"\n",
        "print(p.format(price=99))"
      ]
    },
    {
      "cell_type": "code",
      "execution_count": null,
      "metadata": {
        "colab": {
          "base_uri": "https://localhost:8080/"
        },
        "id": "SDm9-87kdfbh",
        "outputId": "224ad58c-f995-44e7-c0ac-20f13c971517"
      },
      "outputs": [
        {
          "name": "stdout",
          "output_type": "stream",
          "text": [
            "I have 10       candies\n"
          ]
        }
      ],
      "source": [
        "#Format types- :< {Left aligns}\n",
        "a=\"I have {:<8} candies\"\n",
        "print(a.format(10))"
      ]
    },
    {
      "cell_type": "code",
      "execution_count": null,
      "metadata": {
        "colab": {
          "base_uri": "https://localhost:8080/"
        },
        "id": "2XT8j44ieHmt",
        "outputId": "43703f74-c82a-43df-f2d4-4e21ad06dcaa"
      },
      "outputs": [
        {
          "name": "stdout",
          "output_type": "stream",
          "text": [
            "I have       12 candies\n"
          ]
        }
      ],
      "source": [
        "#Format types- :> {Right aligns}\n",
        "a=\"I have {:>8} candies\"\n",
        "print(a.format(12))"
      ]
    },
    {
      "cell_type": "code",
      "execution_count": null,
      "metadata": {
        "colab": {
          "base_uri": "https://localhost:8080/"
        },
        "id": "giWLB1xVeaoG",
        "outputId": "6996c065-366c-4597-ed54-d7bee2fceb50"
      },
      "outputs": [
        {
          "name": "stdout",
          "output_type": "stream",
          "text": [
            "I have     3      candies\n"
          ]
        }
      ],
      "source": [
        "#Format types- :^ {Center aligns}\n",
        "a=\"I have {:^10} candies\"\n",
        "print(a.format(3))"
      ]
    },
    {
      "cell_type": "code",
      "execution_count": null,
      "metadata": {
        "colab": {
          "base_uri": "https://localhost:8080/"
        },
        "id": "kdEo0qoSgMST",
        "outputId": "1eeaafe1-cd14-4f93-d86b-8ef3654d23a5"
      },
      "outputs": [
        {
          "name": "stdout",
          "output_type": "stream",
          "text": [
            "The temperature is -       22 farhenite.\n"
          ]
        }
      ],
      "source": [
        "#Format types- := {Places the plus/minus sign to the left most position}\n",
        "a=\"The temperature is {:=10} farhenite.\"\n",
        "print(a.format(-22))"
      ]
    },
    {
      "cell_type": "code",
      "execution_count": null,
      "metadata": {
        "colab": {
          "base_uri": "https://localhost:8080/"
        },
        "id": "aM5CwW80es-N",
        "outputId": "b89ddc6e-adfd-4beb-e97f-e7cd34bd6d73"
      },
      "outputs": [
        {
          "name": "stdout",
          "output_type": "stream",
          "text": [
            "Cordinates to the x axis is +3 and y axis -8\n"
          ]
        }
      ],
      "source": [
        "#Format types- :+ {Use a plus sign to indicate if the result is positive or negative}\n",
        "a=\"Cordinates to the x axis is {:+} and y axis {:+}\"\n",
        "print(a.format(3,-8))"
      ]
    },
    {
      "cell_type": "code",
      "execution_count": null,
      "metadata": {
        "colab": {
          "base_uri": "https://localhost:8080/"
        },
        "id": "gC7CdMkifpzR",
        "outputId": "871ec739-aecc-4553-d151-7d81dadf1aca"
      },
      "outputs": [
        {
          "name": "stdout",
          "output_type": "stream",
          "text": [
            "Cordinates to the x axis is -5 and y axis 5.\n"
          ]
        }
      ],
      "source": [
        "#Format types- :- {Use a minus sign for negative values only}\n",
        "a=\"Cordinates to the x axis is {:-} and y axis {:-}.\"\n",
        "print(a.format(-5,+5))"
      ]
    },
    {
      "cell_type": "code",
      "execution_count": null,
      "metadata": {
        "colab": {
          "base_uri": "https://localhost:8080/"
        },
        "id": "HQHv0rcahD-D",
        "outputId": "d5971135-1e20-466d-8836-7651b41d3014"
      },
      "outputs": [
        {
          "name": "stdout",
          "output_type": "stream",
          "text": [
            "I am a 1,200,000,400 years old vampire.\n"
          ]
        }
      ],
      "source": [
        "#Format types- :, {Use a comma as a thousand separator}\n",
        "v=\"I am a {:,} years old vampire.\"\n",
        "print(v.format(1200000400))"
      ]
    },
    {
      "cell_type": "code",
      "execution_count": null,
      "metadata": {
        "colab": {
          "base_uri": "https://localhost:8080/"
        },
        "id": "91TYcighiNCV",
        "outputId": "cf5ca6f7-a096-48ea-c5fa-c22b90741217"
      },
      "outputs": [
        {
          "name": "stdout",
          "output_type": "stream",
          "text": [
            "I am a 120_000_000_000_000_000_498 years old vampire.\n"
          ]
        }
      ],
      "source": [
        "#Format types- :_ {Use a underscore as a thousand separator}\n",
        "v=\"I am a {:_} years old vampire.\"\n",
        "print(v.format(120000000000000000498))"
      ]
    },
    {
      "cell_type": "code",
      "execution_count": null,
      "metadata": {
        "colab": {
          "base_uri": "https://localhost:8080/"
        },
        "id": "F42Y4OvqkGxV",
        "outputId": "693cde84-e866-4f06-8e17-4b3be6238a05"
      },
      "outputs": [
        {
          "name": "stdout",
          "output_type": "stream",
          "text": [
            "The binary version of 2233 is 100010111001\n"
          ]
        }
      ],
      "source": [
        "#Format types- :b {Binary format}\n",
        "p=\"The binary version of {0} is {0:b}\"\n",
        "print(p.format(2233))"
      ]
    },
    {
      "cell_type": "code",
      "execution_count": null,
      "metadata": {
        "colab": {
          "base_uri": "https://localhost:8080/"
        },
        "id": "izOPMdBllMvW",
        "outputId": "8cdc69a7-ed05-446d-804c-9ca3fe9a622f"
      },
      "outputs": [
        {
          "name": "stdout",
          "output_type": "stream",
          "text": [
            "Are you ready ᆉ\n"
          ]
        }
      ],
      "source": [
        "#Format types- :c {Converts the value into the corresponding unicode character}\n",
        "o=\"Are you ready {:c}\"\n",
        "print(o.format(4489))"
      ]
    },
    {
      "cell_type": "code",
      "execution_count": null,
      "metadata": {
        "colab": {
          "base_uri": "https://localhost:8080/"
        },
        "id": "uxlAaXSnoB8-",
        "outputId": "f139d6d1-98ee-49bc-fbef-ca7c066a4d8e"
      },
      "outputs": [
        {
          "name": "stdout",
          "output_type": "stream",
          "text": [
            "That is 58.00\n"
          ]
        }
      ],
      "source": [
        "#Format types- :f {Fix point number format}\n",
        "p=\"That is {:.2f}\"\n",
        "print(p.format(58))"
      ]
    },
    {
      "cell_type": "code",
      "execution_count": null,
      "metadata": {
        "colab": {
          "base_uri": "https://localhost:8080/"
        },
        "id": "_CbiVHewo1wT",
        "outputId": "2d79c9fa-79c6-474b-f84e-846ab8cb2882"
      },
      "outputs": [
        {
          "name": "stdout",
          "output_type": "stream",
          "text": [
            "This is INF\n",
            "This is nan\n"
          ]
        }
      ],
      "source": [
        "#Format types- :F {Fix point number format, in uppercase format (show inf and nan as INF and NAN)}\n",
        "#INF is infinity and NAN is nil or zero\n",
        "x=float(\"inf\")\n",
        "y=float(\"NAN\")\n",
        "p=\"This is {:F}\"\n",
        "q=\"This is {:f}\"\n",
        "print(p.format(x))\n",
        "print(q.format(y))"
      ]
    },
    {
      "cell_type": "code",
      "execution_count": null,
      "metadata": {
        "colab": {
          "base_uri": "https://localhost:8080/"
        },
        "id": "H_ovtF5NqxTK",
        "outputId": "302022df-5012-4b09-8dcb-15bdd7f4af87"
      },
      "outputs": [
        {
          "name": "stdout",
          "output_type": "stream",
          "text": [
            "that is 8900.1\n"
          ]
        }
      ],
      "source": [
        "#Format Type- :g {General format}\n",
        "g=\"that is {:g}\"\n",
        "print(g.format(8900.096888))"
      ]
    },
    {
      "cell_type": "code",
      "execution_count": null,
      "metadata": {
        "colab": {
          "base_uri": "https://localhost:8080/"
        },
        "id": "ErTwm7V3otDx",
        "outputId": "05a3cbaf-e882-417a-9947-f2b8b2dbd632"
      },
      "outputs": [
        {
          "name": "stdout",
          "output_type": "stream",
          "text": [
            "5\n"
          ]
        }
      ],
      "source": [
        "#String Method- index()\n",
        "#finds the first occurrence of the specified value.\n",
        "#raises an exception if the value is not found\n",
        "w=\"Just keep swimming.\"\n",
        "print(w.index(\"k\"))"
      ]
    },
    {
      "cell_type": "code",
      "execution_count": null,
      "metadata": {
        "colab": {
          "base_uri": "https://localhost:8080/"
        },
        "id": "LzGwKKfGqYh6",
        "outputId": "8e3bc4e8-4aa8-425a-b4e6-313846cba938"
      },
      "outputs": [
        {
          "name": "stdout",
          "output_type": "stream",
          "text": [
            "True\n",
            "False\n"
          ]
        }
      ],
      "source": [
        "#String Method- isalnum()\n",
        "#The isalnum() method returns True if all the characters are alphanumeric, meaning alphabet letter (a-z) and numbers (0-9).\n",
        "#Example of characters that are not alphanumeric: (space)!#%&? etc.\n",
        "q=\"qwq75\"\n",
        "e=\"meow 12\"\n",
        "print(q.isalnum())\n",
        "print(e.isalnum())"
      ]
    },
    {
      "cell_type": "code",
      "execution_count": null,
      "metadata": {
        "colab": {
          "base_uri": "https://localhost:8080/"
        },
        "id": "Xkm53uUBsUsD",
        "outputId": "195f69d9-31d5-423f-ffe6-f34bed4069a4"
      },
      "outputs": [
        {
          "name": "stdout",
          "output_type": "stream",
          "text": [
            "True\n",
            "False\n",
            "False\n"
          ]
        }
      ],
      "source": [
        "#String Method- isalpha()\n",
        "#The isalpha() method returns True if all the characters are alphabet letters (a-z).\n",
        "#Example of characters that are not alphabet letters: (space)!#%&? etc.\n",
        "q=\"qwq\"\n",
        "p=\"qwq12\"\n",
        "o=\"uwu 1\"\n",
        "print(q.isalpha())\n",
        "print(p.isalpha())\n",
        "print(o.isalpha())"
      ]
    },
    {
      "cell_type": "code",
      "execution_count": null,
      "metadata": {
        "colab": {
          "base_uri": "https://localhost:8080/"
        },
        "id": "_2LsexJbv-Wb",
        "outputId": "9bb74888-96a2-4379-ea81-72b9c2574403"
      },
      "outputs": [
        {
          "name": "stdout",
          "output_type": "stream",
          "text": [
            "False\n",
            "False\n",
            "True\n",
            "False\n",
            "True\n"
          ]
        }
      ],
      "source": [
        "#Stings Method- isdecimal()\n",
        "p=\"6.7\"\n",
        "q=\"23w\"\n",
        "a=\"\\u0033\" #unicode for 3\n",
        "w=\"-34\"\n",
        "c=\"55\"\n",
        "print(p.isdecimal())\n",
        "print(q.isdecimal())\n",
        "print(a.isdecimal())\n",
        "print(w.isdecimal())\n",
        "print(c.isdecimal())"
      ]
    },
    {
      "cell_type": "code",
      "execution_count": null,
      "metadata": {
        "colab": {
          "base_uri": "https://localhost:8080/"
        },
        "id": "CIpQuL3mwymW",
        "outputId": "08e95c28-dbc0-4cc6-b9fb-88cfe9605e33"
      },
      "outputs": [
        {
          "name": "stdout",
          "output_type": "stream",
          "text": [
            "True\n"
          ]
        }
      ],
      "source": [
        "#String Method- isascii()\n",
        "q=\"qwq@123!\"\n",
        "print(q.isascii())"
      ]
    },
    {
      "cell_type": "code",
      "execution_count": null,
      "metadata": {
        "colab": {
          "base_uri": "https://localhost:8080/"
        },
        "id": "eG7v5E3Kyfba",
        "outputId": "d89d6bd8-1a5b-4bb4-9998-b35214f5ae4d"
      },
      "outputs": [
        {
          "name": "stdout",
          "output_type": "stream",
          "text": [
            "True\n",
            "True\n",
            "True\n",
            "False\n",
            "False\n"
          ]
        }
      ],
      "source": [
        "#String Method- isdigit()\n",
        "#The isdigit() method returns True if all the characters are digits, otherwise False.\n",
        "#Exponents, like ², are also considered to be a digit.\n",
        "a=\"23328\"\n",
        "b=\"\\u00B2\" ##unicode for ²\n",
        "c=\"²\"\n",
        "d=\"2.5\"\n",
        "e=\"-34\"\n",
        "print(a.isdigit())\n",
        "print(b.isdigit())\n",
        "print(c.isdigit())\n",
        "print(d.isdigit())\n",
        "print(e.isdigit())"
      ]
    },
    {
      "cell_type": "code",
      "execution_count": null,
      "metadata": {
        "colab": {
          "base_uri": "https://localhost:8080/"
        },
        "id": "2JcgnjZ8ztQt",
        "outputId": "dd6f9f1c-7b76-4a68-c363-9e9c92a69dff"
      },
      "outputs": [
        {
          "name": "stdout",
          "output_type": "stream",
          "text": [
            "True\n",
            "True\n",
            "False\n",
            "False\n"
          ]
        }
      ],
      "source": [
        "#String Method- isidentifier()\n",
        "#A string is considered a valid identifier if it only contains alphanumeric letters (a-z) and (0-9), or underscores (_). A valid identifier cannot start with a number, or contain any spaces.\n",
        "a=\"qwq\"\n",
        "b=\"owo12\"\n",
        "c=\"uwu 3\"\n",
        "d=\"4kk\"\n",
        "print(a.isidentifier())\n",
        "print(b.isidentifier())\n",
        "print(c.isidentifier())\n",
        "print(d.isidentifier())"
      ]
    },
    {
      "cell_type": "code",
      "execution_count": null,
      "metadata": {
        "colab": {
          "base_uri": "https://localhost:8080/"
        },
        "id": "VV-Uecp30pzf",
        "outputId": "92c6d7b5-ee17-42d2-dda8-8fd4465feb24"
      },
      "outputs": [
        {
          "name": "stdout",
          "output_type": "stream",
          "text": [
            "True\n",
            "False\n",
            "False\n",
            "False\n",
            "True\n"
          ]
        }
      ],
      "source": [
        "#StringMethod- islower() and isupper()\n",
        "a=\"uwu\"\n",
        "b=\"UwU\"\n",
        "c=\"UWU\"\n",
        "print(a.islower())\n",
        "print(b.islower())\n",
        "print(a.isupper())\n",
        "print(b.isupper())\n",
        "print(c.isupper())"
      ]
    },
    {
      "cell_type": "code",
      "execution_count": null,
      "metadata": {
        "colab": {
          "base_uri": "https://localhost:8080/"
        },
        "id": "LKDsbxfl1Ya_",
        "outputId": "fbd12038-bef6-4a71-cc4e-0e8319a56615"
      },
      "outputs": [
        {
          "name": "stdout",
          "output_type": "stream",
          "text": [
            "True\n",
            "True\n"
          ]
        }
      ],
      "source": [
        "#String Method- isnumeric()\n",
        "#The isnumeric() method returns True if all the characters are numeric (0-9), otherwise False.\n",
        "#Exponents, like ² and ¾ are also considered to be numeric values.\n",
        "#\"-1\" and \"1.5\" are NOT considered numeric values, because all the characters in the string must be numeric, and the - and the . are not.\n",
        "a=\"12\"\n",
        "b=\"3¾\"\n",
        "print(a.isnumeric())\n",
        "print(b.isnumeric())"
      ]
    },
    {
      "cell_type": "code",
      "execution_count": null,
      "metadata": {
        "colab": {
          "base_uri": "https://localhost:8080/"
        },
        "id": "Isbe1mVZ4KWo",
        "outputId": "bb402940-5df7-4c72-b918-bd3c873d08a6"
      },
      "outputs": [
        {
          "name": "stdout",
          "output_type": "stream",
          "text": [
            "True\n",
            "False\n"
          ]
        }
      ],
      "source": [
        "#String Method- isprintable()\n",
        "#none printable character can be carriage return and line feed.\n",
        "a=\"qwq 123\"\n",
        "b=\"qwq\\n owo\"\n",
        "print(a.isprintable())\n",
        "print(b.isprintable())"
      ]
    },
    {
      "cell_type": "code",
      "execution_count": null,
      "metadata": {
        "colab": {
          "base_uri": "https://localhost:8080/"
        },
        "id": "taLjN21RwPDC",
        "outputId": "317392a0-293c-4e44-9c17-773e8aec2266"
      },
      "outputs": [
        {
          "name": "stdout",
          "output_type": "stream",
          "text": [
            "True\n",
            "False\n"
          ]
        }
      ],
      "source": [
        "#String Method- isspace()\n",
        "a= \"          \"\n",
        "b=\"    .          \"\n",
        "print(a.isspace())\n",
        "print(b.isspace())"
      ]
    },
    {
      "cell_type": "code",
      "execution_count": null,
      "metadata": {
        "colab": {
          "base_uri": "https://localhost:8080/"
        },
        "id": "2Sj_TzNCxIX7",
        "outputId": "739c3274-a5ed-42c9-bf00-f8b95c943ece"
      },
      "outputs": [
        {
          "name": "stdout",
          "output_type": "stream",
          "text": [
            "True\n",
            "False\n",
            "False\n",
            "True\n",
            "False\n"
          ]
        }
      ],
      "source": [
        "#String Method- istitle()\n",
        "a=\"Hello Kitty\"\n",
        "b=\"Hello kitty\"\n",
        "c=\"hello\"\n",
        "d=\"22 Hello\"\n",
        "e=\"HELLO KITTY\"\n",
        "print(a.istitle())\n",
        "print(b.istitle())\n",
        "print(c.istitle())\n",
        "print(d.istitle())\n",
        "print(e.istitle())"
      ]
    },
    {
      "cell_type": "code",
      "execution_count": null,
      "metadata": {
        "colab": {
          "base_uri": "https://localhost:8080/"
        },
        "id": "sVjTZX2BzQre",
        "outputId": "4f734a08-6e4b-4b20-8016-e9aef6577156"
      },
      "outputs": [
        {
          "name": "stdout",
          "output_type": "stream",
          "text": [
            "False\n",
            "True\n",
            "True\n"
          ]
        }
      ],
      "source": [
        "#String Method- isupper()\n",
        "#True if all the characters are in upper case, otherwise False.\n",
        "a=\"Hello\"\n",
        "b=\"HELLO\"\n",
        "c=\"22HELLO\"\n",
        "print(a.isupper())\n",
        "print(b.isupper())\n",
        "print(c.isupper())"
      ]
    },
    {
      "cell_type": "code",
      "execution_count": null,
      "metadata": {
        "colab": {
          "base_uri": "https://localhost:8080/"
        },
        "id": "oWm_EZYP03Yn",
        "outputId": "8cd7042f-0675-4d1f-96a6-0ea7b04b0a00"
      },
      "outputs": [
        {
          "name": "stdout",
          "output_type": "stream",
          "text": [
            "LilyFlower VioletFlower Sunflower\n",
            "nameandclass\n"
          ]
        }
      ],
      "source": [
        "#String Method- join()\n",
        "#takes all items in an iterable and joins them into one string.\n",
        "a=(\"Lily\",\"Violet\",\"Sunflower\") #tuple\n",
        "b=\"Flower \".join(a)\n",
        "print(b)\n",
        "#joing the keys of key value pair in dictionary\n",
        "x={'name':'Omi', 'class':8}\n",
        "y='and'.join(x)\n",
        "print(y)"
      ]
    },
    {
      "cell_type": "code",
      "execution_count": null,
      "metadata": {
        "colab": {
          "base_uri": "https://localhost:8080/"
        },
        "id": "9WeXXTS55FEV",
        "outputId": "c83beb99-a9b9-4637-eab4-6f800f120256"
      },
      "outputs": [
        {
          "name": "stdout",
          "output_type": "stream",
          "text": [
            "Vampires@@@@@@@@@@@@@@@@@@@@@@@@@@@@@@@@@@@@@ sparkle in the sun.\n"
          ]
        }
      ],
      "source": [
        "#String Method- ljust() {Returns a left justified version of the string}\n",
        "a=\"Vampires\"\n",
        "print(a.ljust(45,\"@\"), \"sparkle in the sun.\")"
      ]
    },
    {
      "cell_type": "code",
      "execution_count": null,
      "metadata": {
        "colab": {
          "base_uri": "https://localhost:8080/"
        },
        "id": "ifymXQ-C7E-5",
        "outputId": "fc41c45f-d9f9-4f19-a1c7-da5df9585a6d"
      },
      "outputs": [
        {
          "name": "stdout",
          "output_type": "stream",
          "text": [
            "screeeeeeeeeeeeeeeeeeeeeeeeeeeeeeeeeeeeeeeeeeeeeeeeeeeeeeeeeeeeeeee\n"
          ]
        }
      ],
      "source": [
        "#String Method- lower()\n",
        "# returns a string where all characters are lower case.\n",
        "q=\"SCREEEEEEEEEEEeeeeeeeeeeeeeeeEEEEEEEEEEEeeeeeeeeeeeeEEEEEEEEEEEEEEE\"\n",
        "print(q.lower())"
      ]
    },
    {
      "cell_type": "code",
      "execution_count": null,
      "metadata": {
        "colab": {
          "base_uri": "https://localhost:8080/"
        },
        "id": "QL5q7sFA78C-",
        "outputId": "b07554be-5dec-4682-ae43-361c9d680335"
      },
      "outputs": [
        {
          "name": "stdout",
          "output_type": "stream",
          "text": [
            "sparkling star         twinkling\n",
            "wwwwwwwwwwwwwqqqqqqqqqqqqqqqq\n"
          ]
        }
      ],
      "source": [
        "#String Method- lstrip()\n",
        "#Remove spaces to the left of the string\n",
        "w=\"                                    star        \"\n",
        "print(\"sparkling\",w.lstrip(),\"twinkling\")\n",
        "o=\"qqqqqqqqqqqqqqqqwwwwwwwwwwwwwqqqqqqqqqqqqqqqq\"\n",
        "print(o.lstrip(\"q\"))"
      ]
    },
    {
      "cell_type": "code",
      "execution_count": null,
      "metadata": {
        "colab": {
          "base_uri": "https://localhost:8080/"
        },
        "id": "owZ2jlaEEnGl",
        "outputId": "78c890ff-2c5f-4b8b-a829-4656391a49fd"
      },
      "outputs": [
        {
          "name": "stdout",
          "output_type": "stream",
          "text": [
            "sparkling                                     star twinkling\n",
            "qqqqqqqqqqqqqqqqwwwwwwwwwwwww\n"
          ]
        }
      ],
      "source": [
        "#String Method- rstrip()\n",
        "w=\"                                    star                   \"\n",
        "o=\"qqqqqqqqqqqqqqqqwwwwwwwwwwwwwqqqqqqqqqqqqqqqq\"\n",
        "print(\"sparkling\",w.rstrip(),\"twinkling\")\n",
        "print(o.rstrip(\"q\"))"
      ]
    },
    {
      "cell_type": "code",
      "execution_count": null,
      "metadata": {
        "colab": {
          "base_uri": "https://localhost:8080/"
        },
        "id": "RQz35LIzQQQV",
        "outputId": "d7989095-c144-4b31-ca9e-cd48ab70bfd9"
      },
      "outputs": [
        {
          "name": "stdout",
          "output_type": "stream",
          "text": [
            "star\n",
            "wwwwwwwwwwwww\n"
          ]
        }
      ],
      "source": [
        "#String Method- strip()\n",
        "#removes any leading (spaces at the beginning) and trailing (spaces at the end) characters (space is the default leading character to remove)\n",
        "w=\"                                    star                   \"\n",
        "print(w.strip())\n",
        "o=\",,,,,,,,,,,,,,,,qqqqqqqqqqqqqqqqwwwwwwwwwwwwwqqqqqqqqqqqqqqqq...............\"\n",
        "print(o.strip(\",q.\"))"
      ]
    },
    {
      "cell_type": "code",
      "execution_count": null,
      "metadata": {
        "colab": {
          "base_uri": "https://localhost:8080/"
        },
        "id": "d-OiH8aP-I6z",
        "outputId": "1adacd30-a67a-4902-fe75-23d66114af4c"
      },
      "outputs": [
        {
          "name": "stdout",
          "output_type": "stream",
          "text": [
            "Hello Cap\n"
          ]
        }
      ],
      "source": [
        "#String Method- maketrans()and translate()\n",
        "#The maketrans() method returns a mapping table that can be used with the translate() method to replace specified characters.\n",
        "p=\"Hello Cam\"\n",
        "e=p.maketrans(\"m\",\"p\")\n",
        "print(p.translate(e))"
      ]
    },
    {
      "cell_type": "code",
      "execution_count": null,
      "metadata": {
        "colab": {
          "base_uri": "https://localhost:8080/"
        },
        "id": "b42IOcT8Avqa",
        "outputId": "f7873953-84a1-46ee-bf5e-3b6b84fef966"
      },
      "outputs": [
        {
          "name": "stdout",
          "output_type": "stream",
          "text": [
            "Hello Eve\n"
          ]
        }
      ],
      "source": [
        "#String Method- maketrans()\n",
        "#Use a mapping table to replace many characters\n",
        "x=\"mCa\"\n",
        "y=\"eEv\"\n",
        "w=p.maketrans(x,y)\n",
        "print(p.translate(w))"
      ]
    },
    {
      "cell_type": "code",
      "execution_count": null,
      "metadata": {
        "colab": {
          "base_uri": "https://localhost:8080/"
        },
        "id": "-SBQJOXFAy8E",
        "outputId": "9b5dedd1-8541-4adb-c623-c5e6bc56aa22"
      },
      "outputs": [
        {
          "name": "stdout",
          "output_type": "stream",
          "text": [
            "H Eve\n"
          ]
        }
      ],
      "source": [
        "#String Method- maketrans()\n",
        "#The third parameter in the mapping table describes characters that you want to remove from the string\n",
        "z=\"ello\"\n",
        "g=p.maketrans(x,y,z)\n",
        "print(p.translate(g))"
      ]
    },
    {
      "cell_type": "code",
      "execution_count": null,
      "metadata": {
        "colab": {
          "base_uri": "https://localhost:8080/"
        },
        "id": "t3VOsWbxAzqn",
        "outputId": "a4c36b15-4439-4337-dbd3-fadbbf33162c"
      },
      "outputs": [
        {
          "name": "stdout",
          "output_type": "stream",
          "text": [
            "{109: 101, 67: 69, 97: 118, 101: None, 108: None, 111: None}\n"
          ]
        }
      ],
      "source": [
        "#String Method- maketrans()\n",
        "#The maketrans() method itself returns a dictionary describing each replacement, in unicode\n",
        "print(p.maketrans(x,y,z))"
      ]
    },
    {
      "cell_type": "code",
      "execution_count": null,
      "metadata": {
        "colab": {
          "base_uri": "https://localhost:8080/"
        },
        "id": "E2FqBnMC6E0a",
        "outputId": "d7782a63-e2c8-4c89-88d2-b8b5aff62c50"
      },
      "outputs": [
        {
          "name": "stdout",
          "output_type": "stream",
          "text": [
            "('Good ', '4', ' u')\n",
            "('Good 4 u', '', '')\n"
          ]
        }
      ],
      "source": [
        "#String Method- partition()\n",
        "#Returns a tuple where the string is parted into three parts\n",
        "w=\"Good 4 u\"\n",
        "print(w.partition(\"4\"))\n",
        "print(w.partition(\"meow\"))"
      ]
    },
    {
      "cell_type": "code",
      "execution_count": null,
      "metadata": {
        "colab": {
          "base_uri": "https://localhost:8080/"
        },
        "id": "7QDqUo3vGdOY",
        "outputId": "7d9f58aa-0018-4ca7-f4e1-71ad72b4098a"
      },
      "outputs": [
        {
          "name": "stdout",
          "output_type": "stream",
          "text": [
            "('Good ', '4', ' u')\n",
            "('', '', 'Good 4 u')\n"
          ]
        }
      ],
      "source": [
        "#String Method- rpartition()\n",
        "print(w.rpartition(\"4\"))\n",
        "print(w.rpartition(\"meow\"))"
      ]
    },
    {
      "cell_type": "code",
      "execution_count": null,
      "metadata": {
        "colab": {
          "base_uri": "https://localhost:8080/"
        },
        "id": "-rX-320F8pqm",
        "outputId": "099e70ca-5ef8-482c-851e-7aff41fbdc33"
      },
      "outputs": [
        {
          "name": "stdout",
          "output_type": "stream",
          "text": [
            "Good 4 chu\n",
            "5 2 ka 4, 4 2 ka 5\n",
            "9 2 ka 4, 4 2 ka 1\n"
          ]
        }
      ],
      "source": [
        "#String Method- replace()\n",
        "#Returns a string where a specified value is replaced with a specified value\n",
        "print(w.replace(\"u\", \"chu\"))\n",
        "e=\"1 2 ka 4, 4 2 ka 1\"\n",
        "print(e.replace(\"1\", \"5\"))\n",
        "print(e.replace(\"1\", \"9\", 1))"
      ]
    },
    {
      "cell_type": "code",
      "execution_count": null,
      "metadata": {
        "colab": {
          "base_uri": "https://localhost:8080/"
        },
        "id": "Fe2YwMER_UA4",
        "outputId": "95943fb6-b34d-4aeb-95fa-121b21390760"
      },
      "outputs": [
        {
          "name": "stdout",
          "output_type": "stream",
          "text": [
            "3\n",
            "-1\n"
          ]
        }
      ],
      "source": [
        "#String Method- rfind()\n",
        "#finds the last occurrence of the specified value.\n",
        "#returns -1 if the value is not found.\n",
        "#The rfind() method is almost the same as the rindex() method.\n",
        "v=\"Vampires can translocate\"\n",
        "print(v.rfind(\"pi\", 1, 5))\n",
        "print(v.rfind(\"q\"))\n",
        "#print(v.rindex(\"q\")) shows error"
      ]
    },
    {
      "cell_type": "code",
      "execution_count": null,
      "metadata": {
        "colab": {
          "base_uri": "https://localhost:8080/"
        },
        "id": "Z_kk1jMSFC8X",
        "outputId": "0bc93651-2f40-4f2a-af32-36e82fc38034"
      },
      "outputs": [
        {
          "name": "stdout",
          "output_type": "stream",
          "text": [
            "                            unicorn are cute.\n",
            "@@@@@@@@@@@@@@@@@@@@@@@@@@@@unicorn are cute.\n"
          ]
        }
      ],
      "source": [
        "#String Method- rjust()\n",
        "#Returns a right justified version of the string\n",
        "u=\"unicorn are cute.\"\n",
        "print(u.rjust(45))\n",
        "print(u.rjust(45,\"@\"))"
      ]
    },
    {
      "cell_type": "code",
      "execution_count": null,
      "metadata": {
        "colab": {
          "base_uri": "https://localhost:8080/"
        },
        "id": "rSWgDDdoF-0r",
        "outputId": "4dfbd015-a10d-424c-9021-256dd58e6522"
      },
      "outputs": [
        {
          "name": "stdout",
          "output_type": "stream",
          "text": [
            "['unicorn', 'are', 'cute.']\n",
            "['unicorn are', 'cute.']\n"
          ]
        }
      ],
      "source": [
        "#String Method- rsplit()\n",
        "print(u.rsplit(\" \"))\n",
        "print(u.rsplit(\" \",1))"
      ]
    },
    {
      "cell_type": "code",
      "execution_count": null,
      "metadata": {
        "colab": {
          "base_uri": "https://localhost:8080/"
        },
        "id": "B_enQ20wKHS0",
        "outputId": "4f644d51-d3f5-4930-a3d7-e32afd1d17c9"
      },
      "outputs": [
        {
          "name": "stdout",
          "output_type": "stream",
          "text": [
            "['Unicorns,', 'the', 'magical', 'creatures,', 'in', 'fiction', 'world.']\n",
            "['Unicorns', 'the magical creatures', 'in fiction world.']\n",
            "['Fae', 'are', 'lethal', 'beings.']\n"
          ]
        }
      ],
      "source": [
        "#String Method- split()\n",
        "u=\"Unicorns, the magical creatures, in fiction world.\"\n",
        "print(u.split())\n",
        "print(u.split(\", \"))\n",
        "w=\"Fae#are#lethal#beings.\"\n",
        "print(w.split(\"#\"))"
      ]
    },
    {
      "cell_type": "code",
      "execution_count": null,
      "metadata": {
        "colab": {
          "base_uri": "https://localhost:8080/"
        },
        "id": "H7R1n5I_Lw3A",
        "outputId": "d6cf6098-62df-4ca3-a80a-401777953b28"
      },
      "outputs": [
        {
          "name": "stdout",
          "output_type": "stream",
          "text": [
            "['Queen Mary of Scotts', 'and', ' Queen Elisabeth I of England', ' are rivals.']\n",
            "['Queen Mary of Scotts\\n', 'and\\n', ' Queen Elisabeth I of England\\n', ' are rivals.']\n",
            "['Queen Mary of Scotts', 'and', ' Queen Elisabeth I of England', ' are rivals.']\n"
          ]
        }
      ],
      "source": [
        "#String Method- splitlines()\n",
        "#Splits the string at line breaks and returns a list\n",
        "p=\"Queen Mary of Scotts\\nand\\n Queen Elisabeth I of England\\n are rivals.\"\n",
        "print(p.splitlines())\n",
        "print(p.splitlines(True)) #True- keeps the line breaks\n",
        "print(p.splitlines(False)) #it's default"
      ]
    },
    {
      "cell_type": "code",
      "execution_count": null,
      "metadata": {
        "colab": {
          "base_uri": "https://localhost:8080/"
        },
        "id": "tviK_hwePxaj",
        "outputId": "df310ba7-77a3-4f9a-aef8-fbd6ae644737"
      },
      "outputs": [
        {
          "name": "stdout",
          "output_type": "stream",
          "text": [
            "lONG MAY SHE reign.\n"
          ]
        }
      ],
      "source": [
        "#String Method- swapcase()\n",
        "#Swaps cases, lower case becomes upper case and vice versa\n",
        "p=\"Long may she REIGN.\"\n",
        "print(p.swapcase())"
      ]
    },
    {
      "cell_type": "code",
      "execution_count": null,
      "metadata": {
        "colab": {
          "base_uri": "https://localhost:8080/"
        },
        "id": "Re8X6oNOQjrV",
        "outputId": "de7ca906-18b0-4de9-8e57-f1500df8ffff"
      },
      "outputs": [
        {
          "name": "stdout",
          "output_type": "stream",
          "text": [
            "There'S So Many Ways To Be Wicked\n",
            "Hello B2B2B2 And 3G3G3G\n"
          ]
        }
      ],
      "source": [
        "#String Method- title()\n",
        "#Converts the first character of each word to upper case\n",
        "m=\"There's so many ways to be wicked\"\n",
        "print(m.title())\n",
        "#Note that the first letter after a non-alphabet letter is converted into a upper case letter\n",
        "w=\"hello b2b2b2 and 3g3g3g\"\n",
        "print(w.title())"
      ]
    },
    {
      "cell_type": "code",
      "execution_count": null,
      "metadata": {
        "colab": {
          "base_uri": "https://localhost:8080/"
        },
        "id": "XT-R_f81TbEJ",
        "outputId": "cd26e98f-2e41-4b0d-bf15-429b1553b2af"
      },
      "outputs": [
        {
          "name": "stdout",
          "output_type": "stream",
          "text": [
            "000000000070\n",
            "00000Vampire\n",
            "000012.004\n"
          ]
        }
      ],
      "source": [
        "#String Method- zfill()\n",
        "#Fills the string with a specified number of 0 values at the beginning\n",
        "a=\"70\"\n",
        "b=\"Vampire\"\n",
        "c=\"12.004\"\n",
        "print(a.zfill(12))\n",
        "print(b.zfill(12))\n",
        "print(c.zfill(10))"
      ]
    },
    {
      "cell_type": "code",
      "execution_count": null,
      "metadata": {
        "colab": {
          "base_uri": "https://localhost:8080/"
        },
        "id": "G3iJG5jtYeYM",
        "outputId": "e14b18f0-252b-4827-985a-5ab4825d564f"
      },
      "outputs": [
        {
          "name": "stdout",
          "output_type": "stream",
          "text": [
            "meow\n",
            "meow\n",
            "meeeeeeeeeeeew\n"
          ]
        }
      ],
      "source": [
        "#Python Indentation()\n",
        "#Indentation refers to the spaces at the beginning of a code line.\n",
        "if 9>4:\n",
        "  print(\"meow\")\n",
        "  print(\"meow\") \n",
        "#            print(\"meow\") doesn't work\n",
        "#You have to use the same number of spaces in the same block of code\n",
        "if 7>2:\n",
        "            print(\"meeeeeeeeeeeew\")"
      ]
    },
    {
      "cell_type": "code",
      "execution_count": null,
      "metadata": {
        "colab": {
          "base_uri": "https://localhost:8080/",
          "height": 35
        },
        "id": "FqXuFv4oaqji",
        "outputId": "2090790d-d1d3-425b-b123-8a0c26e114e7"
      },
      "outputs": [
        {
          "data": {
            "application/vnd.google.colaboratory.intrinsic+json": {
              "type": "string"
            },
            "text/plain": [
              "'multiple\\nline\\ncomment'"
            ]
          },
          "execution_count": 11,
          "metadata": {},
          "output_type": "execute_result"
        }
      ],
      "source": [
        "\"\"\"multiple\n",
        "line\n",
        "comment\"\"\""
      ]
    },
    {
      "cell_type": "code",
      "execution_count": null,
      "metadata": {
        "colab": {
          "base_uri": "https://localhost:8080/"
        },
        "id": "lCtLb1XOa2go",
        "outputId": "1f1b9091-ccb9-408d-badf-3419c39c2d42"
      },
      "outputs": [
        {
          "name": "stdout",
          "output_type": "stream",
          "text": [
            "True\n",
            "True\n",
            "True\n",
            "False\n",
            "True\n",
            "False\n"
          ]
        }
      ],
      "source": [
        "#Booleans- {Booleans represent one of two values: True or False.}\n",
        "print(12>3)\n",
        "print(13>=5)\n",
        "print(4==4)\n",
        "print(3==6)\n",
        "#print(1=4) doesn't work\n",
        "print(1<3)\n",
        "print(13<=5)"
      ]
    },
    {
      "cell_type": "code",
      "execution_count": null,
      "metadata": {
        "colab": {
          "base_uri": "https://localhost:8080/"
        },
        "id": "fwDB-Fgrczb2",
        "outputId": "9791a868-8d83-43bd-d3b1-a6a325348f50"
      },
      "outputs": [
        {
          "name": "stdout",
          "output_type": "stream",
          "text": [
            "meow\n"
          ]
        }
      ],
      "source": [
        "#Booleans\n",
        "a=70\n",
        "b=12\n",
        "if a > b:\n",
        "  print(\"meow\")\n",
        "else:\n",
        "  print(\"nu\")"
      ]
    },
    {
      "cell_type": "code",
      "execution_count": null,
      "metadata": {
        "colab": {
          "base_uri": "https://localhost:8080/"
        },
        "id": "k1oLs9PZd6lx",
        "outputId": "9cb88412-2630-4b30-adc9-098d423be3b3"
      },
      "outputs": [
        {
          "name": "stdout",
          "output_type": "stream",
          "text": [
            "True\n",
            "True\n",
            "True\n"
          ]
        }
      ],
      "source": [
        "#Booleans (True)\n",
        "#Almost any value is evaluated to True if it has some sort of content.\n",
        "#Any string is True, except empty strings.\n",
        "#Any number is True, except 0.\n",
        "#Any list, tuple, set, and dictionary are True, except empty ones.\n",
        "print(bool(12))\n",
        "print(bool(\"mew\"))\n",
        "print(bool([\"apple\", \"cherry\", \"banana\"]))"
      ]
    },
    {
      "cell_type": "code",
      "execution_count": null,
      "metadata": {
        "colab": {
          "base_uri": "https://localhost:8080/"
        },
        "id": "8pIHeB4oeqX-",
        "outputId": "29621677-204b-463a-ede7-715fc90f0012"
      },
      "outputs": [
        {
          "name": "stdout",
          "output_type": "stream",
          "text": [
            "False\n",
            "False\n",
            "False\n",
            "False\n",
            "False\n",
            "False\n",
            "False\n"
          ]
        }
      ],
      "source": [
        "#Booleans (False)\n",
        "#In fact, there are not many values that evaluate to False, except empty values, such as (), [], {}, \"\", the number 0, and the value None. And of course the value False evaluates to False.\n",
        "print(bool(False))\n",
        "print(bool(None))\n",
        "print(bool(0))\n",
        "print(bool(\"\"))\n",
        "print(bool(()))\n",
        "print(bool([]))\n",
        "print(bool({}))"
      ]
    },
    {
      "cell_type": "code",
      "execution_count": null,
      "metadata": {
        "colab": {
          "base_uri": "https://localhost:8080/"
        },
        "id": "IafpHGIYjHVo",
        "outputId": "d6c83646-72b2-4b60-b04a-9490e5f6292f"
      },
      "outputs": [
        {
          "name": "stdout",
          "output_type": "stream",
          "text": [
            "105\n",
            "95\n",
            "500\n",
            "20.0\n",
            "0\n",
            "10000000000\n",
            "20\n",
            "33\n"
          ]
        }
      ],
      "source": [
        "#Python Arithmetic Operators\n",
        "a=100\n",
        "b=5\n",
        "c=3\n",
        "print(a+b) #addition\n",
        "print(a-b) #substraction\n",
        "print(a*b) #multiplication\n",
        "print(a/b) #division\n",
        "print(a%b) #modulus (i.e. reminder in division)\n",
        "print(a**b) #exponentiation\n",
        "print(a//b) #floor division\n",
        "print(a//c) #floor division (rounds the result down to the nearest whole number)"
      ]
    },
    {
      "cell_type": "code",
      "execution_count": null,
      "metadata": {
        "colab": {
          "base_uri": "https://localhost:8080/"
        },
        "id": "1n7l-nb2iG3A",
        "outputId": "d33a0d75-3f76-438b-c1fb-ab358517684a"
      },
      "outputs": [
        {
          "name": "stdout",
          "output_type": "stream",
          "text": [
            "10\n",
            "12\n",
            "7\n",
            "14\n",
            "7.0\n",
            "1.0\n",
            "3\n",
            "9\n"
          ]
        }
      ],
      "source": [
        "#Python Assignment Operators\n",
        "x=10 #\"=\"\n",
        "print(x)\n",
        "x+=2 #\"+=\" (x=x+2)\n",
        "print(x)\n",
        "x-=5 #\"-=\" (x=x-2)\n",
        "print(x)\n",
        "x*=2 #\"*=\" (x=x*2)\n",
        "print(x)\n",
        "x/=2 #\"/=\" (x=x/2)\n",
        "print(x)\n",
        "x%=3 #\"*%=\" (x=x%3)\n",
        "print(x)\n",
        "x=10\n",
        "x//=3 #\"//=\" (x=x//3)\n",
        "print(x)\n",
        "x**=2 #\"**=\" (x=x**2)\n",
        "print(x)"
      ]
    },
    {
      "cell_type": "code",
      "execution_count": null,
      "metadata": {
        "colab": {
          "base_uri": "https://localhost:8080/"
        },
        "id": "BY4fNCNLoezT",
        "outputId": "7cc3232a-7aee-462b-a84e-ccb1fb67f95c"
      },
      "outputs": [
        {
          "name": "stdout",
          "output_type": "stream",
          "text": [
            "False\n",
            "True\n",
            "True\n",
            "True\n",
            "False\n",
            "True\n",
            "False\n",
            "True\n",
            "True\n"
          ]
        }
      ],
      "source": [
        "#Python Comparison Operators\n",
        "x=5\n",
        "y=4\n",
        "z=5\n",
        "print(x==y) #Equal\n",
        "print(x==z) \n",
        "print(x!=y) #Not Equal\n",
        "print(x>y) #Greater than\n",
        "print(x<y) #Less Than\n",
        "print(x>=y) #Greater than or equal to\n",
        "print(x<=y) #Less than or equal to\n",
        "print(x>=z)\n",
        "print(x<=z)"
      ]
    },
    {
      "cell_type": "code",
      "execution_count": null,
      "metadata": {
        "colab": {
          "base_uri": "https://localhost:8080/"
        },
        "id": "OY0z-UT4skje",
        "outputId": "54744e17-e8f9-4853-c0de-701a9a1c44c2"
      },
      "outputs": [
        {
          "name": "stdout",
          "output_type": "stream",
          "text": [
            "True\n",
            "True\n",
            "False\n"
          ]
        }
      ],
      "source": [
        "#Python Logical Operators\n",
        "x=5\n",
        "print(x > 3 and x < 10) #and\n",
        "print(x > 3 or x < 10) #or\n",
        "print(not(x > 3 and x < 10)) #not"
      ]
    },
    {
      "cell_type": "code",
      "execution_count": null,
      "metadata": {
        "colab": {
          "base_uri": "https://localhost:8080/"
        },
        "id": "QP5tLAYat_zC",
        "outputId": "374f3e5b-d20e-4d49-ec6f-cbf0dcc639dd"
      },
      "outputs": [
        {
          "name": "stdout",
          "output_type": "stream",
          "text": [
            "False\n",
            "True\n",
            "False\n",
            "True\n",
            "False\n"
          ]
        }
      ],
      "source": [
        "#Python Identity Operators\n",
        "x=\"Vampire\"\n",
        "y=\"Vampire\"\n",
        "x=z\n",
        "print(x is y)\n",
        "print(x is z)\n",
        "print(x==y)\n",
        "print(x is not y)\n",
        "print(x is not z)"
      ]
    },
    {
      "cell_type": "code",
      "execution_count": null,
      "metadata": {
        "colab": {
          "base_uri": "https://localhost:8080/"
        },
        "id": "l_RruFyAvTBL",
        "outputId": "acebea0c-b09f-4e43-ab70-0364089d0e9e"
      },
      "outputs": [
        {
          "name": "stdout",
          "output_type": "stream",
          "text": [
            "True\n",
            "False\n",
            "True\n"
          ]
        }
      ],
      "source": [
        "#Python Membership Operators\n",
        "x=[\"apple\",\"cherry\",\"strawberry\"]\n",
        "print(\"cherry\" in x)\n",
        "print(\"berry\" in x)\n",
        "print(\"berry\" not in x)"
      ]
    },
    {
      "cell_type": "code",
      "execution_count": null,
      "metadata": {
        "id": "LXsO-GNEwR6f"
      },
      "outputs": [],
      "source": [
        "#Python Bitwise Operators\n",
        "#& AND\tSets each bit to 1 if both bits are 1\n",
        "# | OR\tSets each bit to 1 if one of two bits is 1\n",
        "# ^\tXOR\tSets each bit to 1 if only one of two bits is 1\n",
        "#~ \tNOT\tInverts all the bits\n",
        "#<<\tZero fill left shift\tShift left by pushing zeros in from the right and let the leftmost bits fall off\n",
        "#>>\tSigned right shift\tShift right by pushing copies of the leftmost bit in from the left, and let the rightmost bits fall off"
      ]
    },
    {
      "cell_type": "code",
      "execution_count": null,
      "metadata": {
        "colab": {
          "base_uri": "https://localhost:8080/"
        },
        "id": "UdiWYCxD0LTd",
        "outputId": "537a4c31-c803-4633-801f-1b66c56987a4"
      },
      "outputs": [
        {
          "name": "stdout",
          "output_type": "stream",
          "text": [
            "['apple', 'cherry', 'strawberry', 'apple']\n",
            "4\n",
            "['meow', 4, True, 23]\n"
          ]
        }
      ],
      "source": [
        "#Lists-Allow Duplicates\n",
        "x=[\"apple\",\"cherry\",\"strawberry\",\"apple\"]\n",
        "print(x)\n",
        "#List Length\n",
        "print(len(x))\n",
        "#A list with strings, integers and boolean values:\n",
        "y=[\"meow\", 4 , True, 23]\n",
        "print(y)"
      ]
    },
    {
      "cell_type": "code",
      "execution_count": null,
      "metadata": {
        "colab": {
          "base_uri": "https://localhost:8080/"
        },
        "id": "XAxVGWLT4FIV",
        "outputId": "bb213b50-d04f-4ffb-ed61-0c43d8f0e3ff"
      },
      "outputs": [
        {
          "name": "stdout",
          "output_type": "stream",
          "text": [
            "['apple', 'cat', 18, 65, 'meow']\n"
          ]
        }
      ],
      "source": [
        "#list() constructor\n",
        "z=list((\"apple\",\"cat\", 18, 65, \"meow\"))\n",
        "print(z)"
      ]
    },
    {
      "cell_type": "code",
      "execution_count": null,
      "metadata": {
        "colab": {
          "base_uri": "https://localhost:8080/"
        },
        "id": "oCTWvfqc5VH0",
        "outputId": "f325e429-d66e-4a8f-9fd5-140fc9327aa7"
      },
      "outputs": [
        {
          "name": "stdout",
          "output_type": "stream",
          "text": [
            "cat\n"
          ]
        }
      ],
      "source": [
        "#Access List Items\n",
        "print(z[1])"
      ]
    },
    {
      "cell_type": "code",
      "execution_count": null,
      "metadata": {
        "colab": {
          "base_uri": "https://localhost:8080/"
        },
        "id": "hd48WTRP22ge",
        "outputId": "9ea2cd8b-5ba5-4acc-d35c-b11fddeac992"
      },
      "outputs": [
        {
          "name": "stdout",
          "output_type": "stream",
          "text": [
            "cat\n"
          ]
        }
      ],
      "source": [
        "#Negative Indexing\n",
        "print(z[-4])"
      ]
    },
    {
      "cell_type": "code",
      "execution_count": null,
      "metadata": {
        "colab": {
          "base_uri": "https://localhost:8080/"
        },
        "id": "qd22WMkq3TBP",
        "outputId": "9d5901dd-cc9b-4fad-b9a4-9f3e81bc18d1"
      },
      "outputs": [
        {
          "name": "stdout",
          "output_type": "stream",
          "text": [
            "[18, 65, 'meow']\n",
            "['apple', 'cat', 18]\n",
            "[18, 65, 'meow']\n"
          ]
        }
      ],
      "source": [
        "#Range of Indexes\n",
        "#The search will start at index 2 (included) and end at index 5 (not included).\n",
        "print(z[2:5])\n",
        "print(z[:3])\n",
        "print(z[2:])"
      ]
    },
    {
      "cell_type": "code",
      "execution_count": null,
      "metadata": {
        "colab": {
          "base_uri": "https://localhost:8080/"
        },
        "id": "X5Exy2Ki4P3l",
        "outputId": "a3e7aad9-03b9-4327-8e2e-5c9681f5697d"
      },
      "outputs": [
        {
          "name": "stdout",
          "output_type": "stream",
          "text": [
            "['apple', 'cat', 18]\n"
          ]
        }
      ],
      "source": [
        "#Range of Negative Indexes\n",
        "print(z[-5:-2])"
      ]
    },
    {
      "cell_type": "code",
      "execution_count": null,
      "metadata": {
        "colab": {
          "base_uri": "https://localhost:8080/"
        },
        "id": "BZxsqUcY5vk3",
        "outputId": "691fbeae-49d5-41f5-f838-d40c9fecd899"
      },
      "outputs": [
        {
          "name": "stdout",
          "output_type": "stream",
          "text": [
            "Supes!\n"
          ]
        }
      ],
      "source": [
        "#Check if Item Exists\n",
        "p=[\"Vamps\", \"fae\",\"angels\",\"shifters\",\"Maze\",\"shifter\"]\n",
        "if \"fae\" in p:\n",
        "  print(\"Supes!\")"
      ]
    },
    {
      "cell_type": "code",
      "execution_count": null,
      "metadata": {
        "colab": {
          "base_uri": "https://localhost:8080/"
        },
        "id": "RP7e8m1w7AJi",
        "outputId": "e2feb609-0e66-4a95-af62-b06c8139d9ee"
      },
      "outputs": [
        {
          "name": "stdout",
          "output_type": "stream",
          "text": [
            "['Vamps', 'fae', 'angels', 'shifters', 'Witches', 'shifter']\n"
          ]
        }
      ],
      "source": [
        "#Change Item Value\n",
        "p[4]=\"Witches\"\n",
        "print(p)"
      ]
    },
    {
      "cell_type": "code",
      "execution_count": null,
      "metadata": {
        "colab": {
          "base_uri": "https://localhost:8080/"
        },
        "id": "rvgfBBrz7kmy",
        "outputId": "fd4e9af0-d46b-4cc6-cb35-38713684a960"
      },
      "outputs": [
        {
          "name": "stdout",
          "output_type": "stream",
          "text": [
            "[0, 1, 'a', 'b', 'c', 'm', 'n', 6, 7, 8]\n",
            "[0, 1, 'meow', 7, 8]\n"
          ]
        }
      ],
      "source": [
        "#Change a Range of Item Values\n",
        "w=[0,1,2,3,4,5,6,7,8]\n",
        "w[2:6]=['a','b','c','m','n']\n",
        "print(w)\n",
        "w[2:8]=[\"meow\"]\n",
        "print(w)\n",
        "#The length of the list will change when the number of items inserted does not match the number of items replaced."
      ]
    },
    {
      "cell_type": "code",
      "execution_count": null,
      "metadata": {
        "colab": {
          "base_uri": "https://localhost:8080/"
        },
        "id": "BLOLVNpa98mj",
        "outputId": "7129366e-245e-45fb-b340-0fd51aae66ce"
      },
      "outputs": [
        {
          "name": "stdout",
          "output_type": "stream",
          "text": [
            "[0, 'mew', 1, 'meow', 7, 'UwU', 8]\n"
          ]
        }
      ],
      "source": [
        "#Insert Items\n",
        "w.insert(1,\"mew\")\n",
        "w.insert(5,\"UwU\")\n",
        "print(w)"
      ]
    },
    {
      "cell_type": "code",
      "execution_count": null,
      "metadata": {
        "colab": {
          "base_uri": "https://localhost:8080/"
        },
        "id": "CutQgJWk_NVn",
        "outputId": "2110d7d0-ba25-459f-ed0e-80259e299e38"
      },
      "outputs": [
        {
          "name": "stdout",
          "output_type": "stream",
          "text": [
            "[0, 'mew', 1, 'meow', 7, 'UwU', 8, 'OwO']\n"
          ]
        }
      ],
      "source": [
        "#Append Items\n",
        "w.append(\"OwO\")\n",
        "print(w)"
      ]
    },
    {
      "cell_type": "code",
      "execution_count": null,
      "metadata": {
        "colab": {
          "base_uri": "https://localhost:8080/"
        },
        "id": "T4zPv06NAGXN",
        "outputId": "106f4e31-cb0c-4b21-d090-1cd51b7b0000"
      },
      "outputs": [
        {
          "name": "stdout",
          "output_type": "stream",
          "text": [
            "['Vamps', 'fae', 'angels', 'shifters', 'Maze', 'shifter', 0, 1, 'meow', 7, 8]\n"
          ]
        }
      ],
      "source": [
        "#Extend List\n",
        "#To append elements from another list to the current list, use the extend() method.\n",
        "p.extend(w)\n",
        "print(p)"
      ]
    },
    {
      "cell_type": "code",
      "execution_count": null,
      "metadata": {
        "colab": {
          "base_uri": "https://localhost:8080/"
        },
        "id": "VzHLPHLp-eRd",
        "outputId": "5e870bc9-3097-456f-80ea-f3e60b019894"
      },
      "outputs": [
        {
          "name": "stdout",
          "output_type": "stream",
          "text": [
            "['apple', 'banana', 'cherry', 'kiwi', 'orange']\n"
          ]
        }
      ],
      "source": [
        "#Add Any Iterable\n",
        "thislist = [\"apple\", \"banana\", \"cherry\"]\n",
        "thistuple = (\"kiwi\", \"orange\")\n",
        "thislist.extend(thistuple)\n",
        "print(thislist)"
      ]
    },
    {
      "cell_type": "code",
      "execution_count": null,
      "metadata": {
        "colab": {
          "base_uri": "https://localhost:8080/"
        },
        "id": "Zy9Th-8F_znm",
        "outputId": "d53d9ab4-e2d3-4dd4-a5f6-5b22f6aec492"
      },
      "outputs": [
        {
          "name": "stdout",
          "output_type": "stream",
          "text": [
            "['apple', 'cherry', 'kiwi', 'orange']\n"
          ]
        }
      ],
      "source": [
        "#Remove Specified Item\n",
        "thislist.remove(\"banana\")\n",
        "print(thislist)"
      ]
    },
    {
      "cell_type": "code",
      "execution_count": null,
      "metadata": {
        "colab": {
          "base_uri": "https://localhost:8080/"
        },
        "id": "n3UE9TFLAvlF",
        "outputId": "5175639b-cbf4-4435-be68-82ad01d7ff88"
      },
      "outputs": [
        {
          "name": "stdout",
          "output_type": "stream",
          "text": [
            "['apple', 'cherry', 'orange']\n",
            "['apple', 'cherry']\n",
            "['banana', 'cherry']\n"
          ]
        }
      ],
      "source": [
        "#Remove Specified Index- pop()\n",
        "thislist.pop(2)\n",
        "print(thislist)\n",
        "#If you do not specify the index, the pop() method removes the last item.\n",
        "thislist.pop()\n",
        "print(thislist)\n",
        "#The del keyword also removes the specified index\n",
        "t = [\"apple\", \"banana\", \"cherry\"]\n",
        "del t[0]\n",
        "print(t)\n",
        "#The del keyword can also delete the list completely.\n",
        "del thislist\n",
        "#print(thislist) will show error becaue \"thislist\" is deleted."
      ]
    },
    {
      "cell_type": "code",
      "execution_count": null,
      "metadata": {
        "colab": {
          "base_uri": "https://localhost:8080/"
        },
        "id": "ngG8yAzmCcMZ",
        "outputId": "8b87e24a-389b-40e1-c041-95e48642140d"
      },
      "outputs": [
        {
          "name": "stdout",
          "output_type": "stream",
          "text": [
            "[]\n"
          ]
        }
      ],
      "source": [
        "#Clear the List\n",
        "t.clear()\n",
        "print(t)"
      ]
    },
    {
      "cell_type": "code",
      "execution_count": null,
      "metadata": {
        "colab": {
          "base_uri": "https://localhost:8080/"
        },
        "id": "oCUlLVYBCw2h",
        "outputId": "a5afb553-4eda-42d3-fde5-c609d3dd02e5"
      },
      "outputs": [
        {
          "name": "stdout",
          "output_type": "stream",
          "text": [
            "Vamps\n",
            "fae\n",
            "angels\n",
            "shifters\n",
            "Maze\n",
            "shifter\n",
            "0\n",
            "1\n",
            "meow\n",
            "7\n",
            "8\n"
          ]
        }
      ],
      "source": [
        "#Loop Through a List\n",
        "for x in p:\n",
        "  print(x)"
      ]
    },
    {
      "cell_type": "code",
      "execution_count": null,
      "metadata": {
        "colab": {
          "base_uri": "https://localhost:8080/"
        },
        "id": "Iz9kv1kJDwEe",
        "outputId": "e508c9cc-3c1b-42d4-869d-5d7bb2b3bef1"
      },
      "outputs": [
        {
          "name": "stdout",
          "output_type": "stream",
          "text": [
            "Vamps\n",
            "fae\n",
            "angels\n",
            "shifters\n",
            "Maze\n",
            "shifter\n",
            "0\n",
            "1\n",
            "meow\n",
            "7\n",
            "8\n"
          ]
        }
      ],
      "source": [
        "#Loop Through the Index Numbers\n",
        "for i in range(len(p)):\n",
        "  print(p[i])"
      ]
    },
    {
      "cell_type": "code",
      "execution_count": null,
      "metadata": {
        "colab": {
          "base_uri": "https://localhost:8080/"
        },
        "id": "idD-dWtyImob",
        "outputId": "c7bc0c35-5b19-40d0-99e2-9c8684dc2b59"
      },
      "outputs": [
        {
          "name": "stdout",
          "output_type": "stream",
          "text": [
            "apple\n",
            "banana\n",
            "cherry\n",
            "\n",
            "cherry\n"
          ]
        }
      ],
      "source": [
        "#Using a While Loop\n",
        "t = [\"apple\", \"banana\", \"cherry\"]\n",
        "i=0\n",
        "while i< len(t):\n",
        "  print(t[i])\n",
        "  i=i+1\n",
        "print(\"\")\n",
        "x=2\n",
        "while x< len(t):\n",
        "  print(t[x])\n",
        "  x=x+1"
      ]
    },
    {
      "cell_type": "code",
      "execution_count": null,
      "metadata": {
        "colab": {
          "base_uri": "https://localhost:8080/"
        },
        "id": "VnK63I14LeGh",
        "outputId": "1f4b1ee3-11f3-46bd-f9d0-bce9fdb3682a"
      },
      "outputs": [
        {
          "name": "stdout",
          "output_type": "stream",
          "text": [
            "apple\n",
            "banana\n",
            "cherry\n"
          ]
        },
        {
          "data": {
            "text/plain": [
              "[None, None, None]"
            ]
          },
          "execution_count": 40,
          "metadata": {},
          "output_type": "execute_result"
        }
      ],
      "source": [
        "#Looping Using List Comprehension\n",
        "#List Comprehension offers the shortest syntax for looping through lists:\n",
        "[print(w) for w in t]"
      ]
    },
    {
      "cell_type": "code",
      "execution_count": null,
      "metadata": {
        "colab": {
          "base_uri": "https://localhost:8080/"
        },
        "id": "DeZr112QMIFG",
        "outputId": "926b1cd4-de7b-4d51-e7bd-1afb02826fbc"
      },
      "outputs": [
        {
          "name": "stdout",
          "output_type": "stream",
          "text": [
            "['apple', 'banana', 'mango']\n"
          ]
        }
      ],
      "source": [
        "#Without List Comprehension\n",
        "s = [\"apple\", \"banana\", \"cherry\", \"kiwi\", \"mango\"]\n",
        "k=[]\n",
        "for x in s:\n",
        "  if \"a\" in x:\n",
        "    k.append(x)\n",
        "print(k)"
      ]
    },
    {
      "cell_type": "code",
      "execution_count": null,
      "metadata": {
        "colab": {
          "base_uri": "https://localhost:8080/"
        },
        "id": "0oKLw-pTN70g",
        "outputId": "a4550f0d-f570-4067-fd9e-4fdcaed4a425"
      },
      "outputs": [
        {
          "name": "stdout",
          "output_type": "stream",
          "text": [
            "['apple', 'banana', 'mango']\n"
          ]
        }
      ],
      "source": [
        "#With List Comprehension\n",
        "k=[x for x in s if \"a\" in x]\n",
        "print(k)"
      ]
    },
    {
      "cell_type": "code",
      "execution_count": null,
      "metadata": {
        "colab": {
          "base_uri": "https://localhost:8080/"
        },
        "id": "oShTpAR0PJxk",
        "outputId": "65155a6c-533e-449a-86b9-14207c2075ba"
      },
      "outputs": [
        {
          "name": "stdout",
          "output_type": "stream",
          "text": [
            "['apple', 'banana', 'cherry', 'mango']\n"
          ]
        }
      ],
      "source": [
        "#Condition\n",
        "k=[x for x in s if x !=\"kiwi\"]\n",
        "print(k)"
      ]
    },
    {
      "cell_type": "code",
      "execution_count": null,
      "metadata": {
        "colab": {
          "base_uri": "https://localhost:8080/"
        },
        "id": "UxctGFWwQ6ZQ",
        "outputId": "e6f5ba57-4b5e-4da4-f271-faf9da9d074b"
      },
      "outputs": [
        {
          "name": "stdout",
          "output_type": "stream",
          "text": [
            "['apple', 'banana', 'cherry', 'kiwi', 'mango']\n"
          ]
        }
      ],
      "source": [
        "#With no if statement\n",
        "k=[x for x in s]\n",
        "print(k)"
      ]
    },
    {
      "cell_type": "code",
      "execution_count": null,
      "metadata": {
        "colab": {
          "base_uri": "https://localhost:8080/"
        },
        "id": "gltwgNQfSG2q",
        "outputId": "dd3773a5-e33a-48ef-865d-c53c164a2242"
      },
      "outputs": [
        {
          "name": "stdout",
          "output_type": "stream",
          "text": [
            "[0, 1, 2, 3, 4, 5, 6, 7, 8, 9, 10]\n",
            "[6, 7, 8, 9, 10]\n"
          ]
        }
      ],
      "source": [
        "#Iterable\n",
        "k=[x for x in range(11)]\n",
        "print(k)\n",
        "n=[x for x in range(11) if x>5]\n",
        "print(n)"
      ]
    },
    {
      "cell_type": "code",
      "execution_count": null,
      "metadata": {
        "colab": {
          "base_uri": "https://localhost:8080/"
        },
        "id": "0d5ZMhOWTX7t",
        "outputId": "659753ec-5127-47f0-8490-60cce31a9458"
      },
      "outputs": [
        {
          "name": "stdout",
          "output_type": "stream",
          "text": [
            "['APPLE', 'BANANA', 'CHERRY', 'KIWI', 'MANGO']\n",
            "['UwU', 'UwU', 'UwU', 'UwU', 'UwU']\n",
            "['apple', 'banana', 'cherry', 'strawbwerry', 'mango']\n"
          ]
        }
      ],
      "source": [
        "#Expression \n",
        "k=[x.upper() for x in s]\n",
        "print(k)\n",
        "n=['UwU' for x in s]\n",
        "print(n)\n",
        "u=[x if x != \"kiwi\" else \"strawbwerry\" for x in s] #Return the item if it is not kiwi, if it is kiwi return strawberry.\n",
        "print(u)"
      ]
    },
    {
      "cell_type": "code",
      "execution_count": null,
      "metadata": {
        "colab": {
          "base_uri": "https://localhost:8080/"
        },
        "id": "bP0GJ8Y4Sb14",
        "outputId": "5d8a86f3-b7a9-45d2-85a9-adc87cc6beb3"
      },
      "outputs": [
        {
          "name": "stdout",
          "output_type": "stream",
          "text": [
            "['a', 'c', 'd', 'e', 'f', 'p', 'u', 'z']\n",
            "[0, 1, 2, 3, 4, 5, 6, 8, 9]\n"
          ]
        }
      ],
      "source": [
        "#Sort List Alphanumerically\n",
        "x=['d','f','a','p','z','c','u','e']\n",
        "x.sort()\n",
        "print(x)\n",
        "y=[6,2,9,4,1,8,3,0,5]\n",
        "y.sort()\n",
        "print(y)"
      ]
    },
    {
      "cell_type": "code",
      "execution_count": null,
      "metadata": {
        "colab": {
          "base_uri": "https://localhost:8080/"
        },
        "id": "3O1AznxETpNI",
        "outputId": "f08a1010-3833-4e2a-a7ef-2996966e6200"
      },
      "outputs": [
        {
          "name": "stdout",
          "output_type": "stream",
          "text": [
            "['z', 'u', 'p', 'f', 'e', 'd', 'c', 'a']\n",
            "[9, 8, 6, 5, 4, 3, 2, 1, 0]\n"
          ]
        }
      ],
      "source": [
        "#Sort Descending: (reverse = True)\n",
        "x.sort(reverse= True)\n",
        "print(x)\n",
        "y.sort(reverse=True)\n",
        "print(y)"
      ]
    },
    {
      "cell_type": "code",
      "execution_count": null,
      "metadata": {
        "colab": {
          "base_uri": "https://localhost:8080/"
        },
        "id": "8-_i7AzCVRle",
        "outputId": "4b4d3be0-0970-4cd3-acc7-50368dd2ec53"
      },
      "outputs": [
        {
          "name": "stdout",
          "output_type": "stream",
          "text": [
            "[4, 3, 5, 6, 2, 1, 8, 0, 9]\n"
          ]
        }
      ],
      "source": [
        "#Customize Sort Function: (key = function)\n",
        "#you can use anything instead of the word function\n",
        "def f(n):\n",
        "  return abs(n-4)\n",
        "y=[6,2,9,4,1,8,3,0,5]\n",
        "y.sort(key=f)\n",
        "print(y)"
      ]
    },
    {
      "cell_type": "code",
      "execution_count": null,
      "metadata": {
        "colab": {
          "base_uri": "https://localhost:8080/"
        },
        "id": "JIcctfk6Z34w",
        "outputId": "685149d6-df33-4646-bb29-91f1857fc1f9"
      },
      "outputs": [
        {
          "name": "stdout",
          "output_type": "stream",
          "text": [
            "['CheRRY', 'KIWI', 'Orange', 'banana']\n",
            "['banana', 'CheRRY', 'KIWI', 'Orange']\n"
          ]
        }
      ],
      "source": [
        "#Case Insensitive Sort\n",
        "#By default the sort() method is case sensitive, resulting in all capital letters being sorted before lower case letters\n",
        "l = [\"banana\", \"Orange\", \"KIWI\", \"CheRRY\"]\n",
        "l.sort()\n",
        "print(l)\n",
        "#Perform a case-insensitive sort of the list\n",
        "l.sort(key=str.lower)\n",
        "print(l)"
      ]
    },
    {
      "cell_type": "code",
      "execution_count": null,
      "metadata": {
        "colab": {
          "base_uri": "https://localhost:8080/"
        },
        "id": "4skkNZPxeZ7u",
        "outputId": "0ba856c4-3780-4ebf-bab9-33e563664f04"
      },
      "outputs": [
        {
          "name": "stdout",
          "output_type": "stream",
          "text": [
            "['CheRRY', 'KIWI', 'Orange', 'banana']\n"
          ]
        }
      ],
      "source": [
        "#Reverse Order: reverse()\n",
        "#Reverse the order of the list items\n",
        "l = [\"banana\", \"Orange\", \"KIWI\", \"CheRRY\"]\n",
        "l.reverse()\n",
        "print(l)"
      ]
    },
    {
      "cell_type": "code",
      "execution_count": null,
      "metadata": {
        "colab": {
          "base_uri": "https://localhost:8080/"
        },
        "id": "yLb2e4y2cF_Q",
        "outputId": "9c41aa61-fa8b-45db-9f6b-da375296a4b2"
      },
      "outputs": [
        {
          "name": "stdout",
          "output_type": "stream",
          "text": [
            "['CheRRY', 'KIWI', 'Orange', 'banana']\n",
            "['CheRRY', 'KIWI', 'Orange', 'banana']\n"
          ]
        }
      ],
      "source": [
        "#Copy Lists\n",
        "j=l.copy()\n",
        "print(j)\n",
        "i=list(l) #method2\n",
        "print(i)"
      ]
    },
    {
      "cell_type": "code",
      "execution_count": null,
      "metadata": {
        "colab": {
          "base_uri": "https://localhost:8080/"
        },
        "id": "4VzxRD4Jr2-K",
        "outputId": "c6058b34-a292-4797-86ca-278129223408"
      },
      "outputs": [
        {
          "name": "stdout",
          "output_type": "stream",
          "text": [
            "['CheRRY', 'KIWI', 'Orange', 'banana', 'CheRRY', 'KIWI', 'Orange', 'banana']\n",
            "['a', 'c', 'd', 'e', 'f', 'p', 'u', 'z', 0, 1, 2, 3, 4, 5, 6, 8, 9, 0, 1, 2, 3, 4, 5, 6, 8, 9]\n",
            "['a', 'c', 'd', 'e', 'f', 'p', 'u', 'z', 0, 1, 2, 3, 4, 5, 6, 8, 9, 0, 1, 2, 3, 4, 5, 6, 8, 9]\n",
            "['a', 'c', 'd', 'e', 'f', 'p', 'u', 'z', 0, 1, 2, 3, 4, 5, 6, 8, 9, 0, 1, 2, 3, 4, 5, 6, 8, 9, 0, 1, 2, 3, 4, 5, 6, 8, 9]\n"
          ]
        }
      ],
      "source": [
        "#Join Two Lists\n",
        "u=j+i\n",
        "print(u)\n",
        "z=x+y\n",
        "print(z)\n",
        "for w in y: #method2\n",
        "  x.append(w)\n",
        "print(x)\n",
        "x.extend(y) #method3\n",
        "print(x)"
      ]
    },
    {
      "cell_type": "code",
      "execution_count": null,
      "metadata": {
        "colab": {
          "base_uri": "https://localhost:8080/"
        },
        "id": "dq3CQrjNvl68",
        "outputId": "1b6f9de2-6861-4c00-977e-f3eb74c4bc1a"
      },
      "outputs": [
        {
          "name": "stdout",
          "output_type": "stream",
          "text": [
            "['banana', 'Orange', 'KIWI']\n",
            "['banana', 'KIWI']\n"
          ]
        }
      ],
      "source": [
        "#pop()\n",
        "#The pop() method removes the element at the specified position.\n",
        "l = [\"banana\", \"Orange\", \"KIWI\", \"CheRRY\"]\n",
        "l.pop()\n",
        "print(l)\n",
        "l.pop(1)\n",
        "print(l)"
      ]
    },
    {
      "cell_type": "markdown",
      "metadata": {
        "id": "OHirx1gWwxP3"
      },
      "source": [
        "#List Methods\n",
        "1. append()\tAdds an element at the end of the list\n",
        "2. clear()\tRemoves all the elements from the list\n",
        "3. copy()\tReturns a copy of the list\n",
        "4. count()\tReturns the number of elements with the specified value\n",
        "5. extend()\tAdd the elements of a list (or any iterable), to  the end of the current list\n",
        "6. index()\tReturns the index of the first element with the specified value\n",
        "7. insert()\tAdds an element at the specified position\n",
        "8. pop()\tRemoves the element at the specified position\n",
        "9. remove()\tRemoves the item with the specified value\n",
        "10. reverse()\tReverses the order of the list\n",
        "11. sort()\tSorts the list"
      ]
    },
    {
      "cell_type": "code",
      "execution_count": null,
      "metadata": {
        "colab": {
          "base_uri": "https://localhost:8080/"
        },
        "id": "UXv24xylB-Gr",
        "outputId": "42885941-9eb6-4942-bc6e-9a9e970a7fe4"
      },
      "outputs": [
        {
          "name": "stdout",
          "output_type": "stream",
          "text": [
            "('cat', 'UwU', 'meow', 'Vamp')\n",
            "4\n",
            "('mew', 3, True, 86, False, 'Evie')\n",
            "(4, 5, 6, 7, 9)\n"
          ]
        }
      ],
      "source": [
        "#Tuple\n",
        "t=(\"cat\", \"UwU\", \"meow\", \"Vamp\")\n",
        "print(t)\n",
        "print(len(t))\n",
        "#Tuple items are ordered, unchangeable, and allow duplicate values.\n",
        "#Tuples are ordered, it means that the items have a defined order.\n",
        "#Tuples are unchangeable, meaning that we cannot change, add or remove items after the tuple has been created.\n",
        "t4=(\"mew\",3,True,86,False,\"Evie\") #Tuple with different data types\n",
        "print(t4)\n",
        "#The tuple() Constructor\n",
        "t3=tuple((4,5,6,7,9))\n",
        "print(t3)"
      ]
    },
    {
      "cell_type": "code",
      "execution_count": null,
      "metadata": {
        "colab": {
          "base_uri": "https://localhost:8080/"
        },
        "id": "Ihu4VPT9IQEM",
        "outputId": "83e988dc-de64-44da-e548-a692f55953c4"
      },
      "outputs": [
        {
          "name": "stdout",
          "output_type": "stream",
          "text": [
            "('UwU',)\n",
            "<class 'tuple'>\n",
            "<class 'str'>\n"
          ]
        }
      ],
      "source": [
        "#Tuple With One Item\n",
        "#To create a tuple with only one item, you have to add a comma after the item, otherwise Python will not recognize it as a tuple.\n",
        "t1=(\"UwU\",)\n",
        "print(t1)\n",
        "print(type(t1))\n",
        "t2=(\"mew\") #not a tuple\n",
        "print(type(t2))"
      ]
    },
    {
      "cell_type": "markdown",
      "metadata": {
        "id": "S8pW-wVOKi8X"
      },
      "source": [
        "#Python Collections (Arrays)\n",
        "There are four collection data types in the Python programming language:\n",
        "\n",
        "1.**List** is a collection which is ordered and changeable. Allows duplicate members.\n",
        "\n",
        "2.**Tuple** is a collection which is ordered and unchangeable. Allows duplicate members.\n",
        "\n",
        "3.**Set** is a collection which is unordered, unchangeable*, and unindexed.No duplicate members.\n",
        "\n",
        "4.**Dictionary** is a collection which is ordered** and changeable. No duplicate members."
      ]
    },
    {
      "cell_type": "code",
      "execution_count": null,
      "metadata": {
        "colab": {
          "base_uri": "https://localhost:8080/"
        },
        "id": "q2L3hq5LLVSZ",
        "outputId": "31c0fd5a-6dd1-4f47-ca62-6c422181caeb"
      },
      "outputs": [
        {
          "name": "stdout",
          "output_type": "stream",
          "text": [
            "meow\n",
            "Vamp\n",
            "('UwU', 'meow')\n",
            "('cat', 'UwU')\n",
            "('meow', 'Vamp')\n",
            "('cat', 'UwU')\n",
            "qwq\n"
          ]
        }
      ],
      "source": [
        "#Access Tuple Items\n",
        "t=(\"cat\", \"UwU\", \"meow\", \"Vamp\")\n",
        "print(t[2])\n",
        "print(t[-1]) #Access Tuple Items\n",
        "print(t[1:3]) #Range of Indexes\n",
        "print(t[:2])\n",
        "print(t[2:])\n",
        "print(t[-4:-2]) #Range of Negative Indexes\n",
        "#Check if Item Exists\n",
        "if \"UwU\" in t:\n",
        "  print(\"qwq\")"
      ]
    },
    {
      "cell_type": "code",
      "execution_count": null,
      "metadata": {
        "colab": {
          "background_save": true,
          "base_uri": "https://localhost:8080/"
        },
        "id": "aELleqjrNlyw",
        "outputId": "909a1ab3-f886-4329-e60c-5a63ec2e1083"
      },
      "outputs": [
        {
          "name": "stdout",
          "output_type": "stream",
          "text": [
            "('UwU', 'qwq', 'Vamp', '@w@', 'Cherry', '@w@', 'Cherry')\n"
          ]
        }
      ],
      "source": [
        "#Change Tuple Values\n",
        "#Once a tuple is created, you cannot change its values. Tuples are unchangeable, or immutable as it also is called.\n",
        "#But there is a workaround. You can convert the tuple into a list, change the list, and convert the list back into a tuple.\n",
        "t5=list(t)\n",
        "t5[1]=\"qwq\"\n",
        "t=tuple(t5)\n",
        "print(t)"
      ]
    },
    {
      "cell_type": "code",
      "execution_count": null,
      "metadata": {
        "colab": {
          "background_save": true,
          "base_uri": "https://localhost:8080/"
        },
        "id": "vxzH7cAuRrjd",
        "outputId": "e67141cf-23fa-4fc8-94d4-4598d6a8fe34"
      },
      "outputs": [
        {
          "name": "stdout",
          "output_type": "stream",
          "text": [
            "('UwU', 'meow', 'Vamp', '@w@', 'Cherry', '@w@')\n",
            "('UwU', 'meow', 'Vamp', '@w@', 'Cherry', '@w@', 'Cherry')\n"
          ]
        }
      ],
      "source": [
        "#Tuple:Add Items\n",
        "#method1:Convert into a list\n",
        "w=list(t)\n",
        "w.append(\"@w@\")\n",
        "t=tuple(w)\n",
        "print(t)\n",
        "#method2:Add tuple to a tuple\n",
        "w=(\"Cherry\",)\n",
        "t +=w\n",
        "print(t)"
      ]
    },
    {
      "cell_type": "code",
      "execution_count": null,
      "metadata": {
        "colab": {
          "base_uri": "https://localhost:8080/"
        },
        "id": "4WUC9oBDVlch",
        "outputId": "85808c09-7e6b-4875-f95c-1f65283d8a88"
      },
      "outputs": [
        {
          "name": "stdout",
          "output_type": "stream",
          "text": [
            "('UwU', 'meow', 'Vamp', '@w@', 'Cherry')\n"
          ]
        }
      ],
      "source": [
        "#Tuple:Remove Items\n",
        "y=list(t)\n",
        "y.remove(\"cat\")\n",
        "t=tuple(y)\n",
        "print(t)"
      ]
    },
    {
      "cell_type": "code",
      "source": [
        "#Delete Tuple\n",
        "#The del keyword can delete the tuple completely\n",
        "del(t4)\n",
        "#print(t4) # won't be printed cause it's deleted"
      ],
      "metadata": {
        "id": "_oQRI2kgBEjP"
      },
      "execution_count": null,
      "outputs": []
    },
    {
      "cell_type": "markdown",
      "source": [
        "![Screenshot 2022-09-01 083741.png](data:image/png;base64,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)"
      ],
      "metadata": {
        "id": "xDbkdWLqBJ18"
      }
    },
    {
      "cell_type": "code",
      "source": [
        "#Packing a Tuple\n",
        "#When we create a tuple, we normally assign values to it. This is called \"packing\" a tuple.\n",
        "s = (\"apple\", \"banana\", \"cherry\")\n",
        "print(s)"
      ],
      "metadata": {
        "colab": {
          "base_uri": "https://localhost:8080/"
        },
        "id": "iTQ78JCfeIm8",
        "outputId": "17699fad-50fc-4f5a-a1ba-c0a4419a3f6c"
      },
      "execution_count": null,
      "outputs": [
        {
          "output_type": "stream",
          "name": "stdout",
          "text": [
            "('apple', 'banana', 'cherry')\n"
          ]
        }
      ]
    },
    {
      "cell_type": "code",
      "source": [
        "#Unpacking a Tuple\n",
        "#we are also allowed to extract the values back into variables. This is called \"unpacking\"\n",
        "(a,b,c) = s\n",
        "print(a)\n",
        "print(c)\n",
        "print(c)"
      ],
      "metadata": {
        "colab": {
          "base_uri": "https://localhost:8080/"
        },
        "id": "2RePF7MtgBAW",
        "outputId": "d63382e8-002c-43b5-f209-3196a7798219"
      },
      "execution_count": null,
      "outputs": [
        {
          "output_type": "stream",
          "name": "stdout",
          "text": [
            "apple\n",
            "cherry\n",
            "cherry\n"
          ]
        }
      ]
    },
    {
      "cell_type": "code",
      "source": [
        "#Using Asterisk*\n",
        "#If the number of variables is less than the number of values, you can add an * to the variable name and the values will be assigned to the variable as a list:\n",
        "p=(\"meow\",\"UwU\", \"fae\", \"Vamp\", \"werewolf\", \"QwQ\")\n",
        "(a,*b,c) = p\n",
        "print(a)\n",
        "print(b)\n",
        "print(c)"
      ],
      "metadata": {
        "colab": {
          "base_uri": "https://localhost:8080/"
        },
        "id": "IoAPIx04lchD",
        "outputId": "c7d81ec4-0dbe-483c-a0e2-80520331ce19"
      },
      "execution_count": null,
      "outputs": [
        {
          "output_type": "stream",
          "name": "stdout",
          "text": [
            "meow\n",
            "['UwU', 'fae', 'Vamp', 'werewolf']\n",
            "QwQ\n"
          ]
        }
      ]
    },
    {
      "cell_type": "code",
      "source": [
        "#Loop Through a Tuple\n",
        "for x in p:\n",
        "  print(x)"
      ],
      "metadata": {
        "colab": {
          "base_uri": "https://localhost:8080/"
        },
        "id": "YP_8RKComE-4",
        "outputId": "929518d2-3537-4bb7-f524-7f283ac6bfd5"
      },
      "execution_count": null,
      "outputs": [
        {
          "output_type": "stream",
          "name": "stdout",
          "text": [
            "meow\n",
            "UwU\n",
            "fae\n",
            "Vamp\n",
            "werewolf\n",
            "QwQ\n"
          ]
        }
      ]
    },
    {
      "cell_type": "code",
      "source": [
        "#Loop Through the Index Numbers\n",
        "for x in range(len(p)):\n",
        "  print(p[x])"
      ],
      "metadata": {
        "colab": {
          "base_uri": "https://localhost:8080/"
        },
        "id": "j_QlvCgQp4SQ",
        "outputId": "788b3f3e-17b6-40ef-bb28-f223ea6ce321"
      },
      "execution_count": null,
      "outputs": [
        {
          "output_type": "stream",
          "name": "stdout",
          "text": [
            "meow\n",
            "UwU\n",
            "fae\n",
            "Vamp\n",
            "werewolf\n",
            "QwQ\n"
          ]
        }
      ]
    },
    {
      "cell_type": "code",
      "source": [
        "#Using a While Loop\n",
        "i=0\n",
        "while i<len(p):\n",
        "  print(p[i])\n",
        "  i=i+1"
      ],
      "metadata": {
        "colab": {
          "base_uri": "https://localhost:8080/"
        },
        "id": "6KfPhkjBrLTz",
        "outputId": "9cb360fd-5211-4da6-816b-8758f5902a43"
      },
      "execution_count": null,
      "outputs": [
        {
          "output_type": "stream",
          "name": "stdout",
          "text": [
            "meow\n",
            "UwU\n",
            "fae\n",
            "Vamp\n",
            "werewolf\n",
            "QwQ\n"
          ]
        }
      ]
    },
    {
      "cell_type": "code",
      "source": [
        "#Join Two Tuples\n",
        "sum=s+p\n",
        "print(sum)"
      ],
      "metadata": {
        "colab": {
          "base_uri": "https://localhost:8080/"
        },
        "id": "E2qFbnq7sJcb",
        "outputId": "4b37a9a9-5a6a-43e2-d083-c1727ebb0c8e"
      },
      "execution_count": null,
      "outputs": [
        {
          "output_type": "stream",
          "name": "stdout",
          "text": [
            "('apple', 'banana', 'cherry', 'meow', 'UwU', 'fae', 'Vamp', 'werewolf', 'QwQ')\n"
          ]
        }
      ]
    },
    {
      "cell_type": "code",
      "source": [
        "#Multiply Tuples\n",
        "w=p*3\n",
        "print(w)"
      ],
      "metadata": {
        "colab": {
          "base_uri": "https://localhost:8080/"
        },
        "id": "zt42OSVRsamb",
        "outputId": "a7a83919-47e5-4c2c-f9b0-d3ea7056ebd3"
      },
      "execution_count": null,
      "outputs": [
        {
          "output_type": "stream",
          "name": "stdout",
          "text": [
            "('meow', 'UwU', 'fae', 'Vamp', 'werewolf', 'QwQ', 'meow', 'UwU', 'fae', 'Vamp', 'werewolf', 'QwQ', 'meow', 'UwU', 'fae', 'Vamp', 'werewolf', 'QwQ')\n"
          ]
        }
      ]
    },
    {
      "cell_type": "code",
      "source": [
        "#Python Tuple Methods: count() and index()\n",
        "#count() {Returns the number of times a specified value occurs in a tuple}\n",
        "x=w.count('UwU')\n",
        "print(x)\n",
        "#index() {Searches the tuple for a specified value and returns the position of where it was found}\n",
        "y=s.index(\"cherry\")\n",
        "print(y)"
      ],
      "metadata": {
        "colab": {
          "base_uri": "https://localhost:8080/"
        },
        "id": "D0eC8HsQsqrr",
        "outputId": "221a466c-b656-46fc-9e14-f95097c3f1a0"
      },
      "execution_count": null,
      "outputs": [
        {
          "output_type": "stream",
          "name": "stdout",
          "text": [
            "3\n",
            "2\n"
          ]
        }
      ]
    },
    {
      "cell_type": "code",
      "source": [
        "#Set (Unordered, Unchangable)\n",
        "p={\"UwU\", \"qwq\", \"meow\",\"uvu\"}\n",
        "print(p)\n",
        "#Duplicates Not Allowed\n",
        "q={1,2,2,1,3,4,4,3,2,1}\n",
        "print(q)\n",
        "#Get the Length of a Set\n",
        "print(len(p))\n",
        "#Set items can be of any data type\n",
        "#A set can contain different data types \n",
        "e={17,True,\"Evie\"}\n",
        "print(e)\n",
        "#The set() Constructor\n",
        "r=set((\"UwU\",\"qwq\"))\n",
        "print(r)"
      ],
      "metadata": {
        "colab": {
          "base_uri": "https://localhost:8080/"
        },
        "id": "qnSgg9_6qfJf",
        "outputId": "eb9dc99a-cd02-4dc9-9568-6cf8e5c4d968"
      },
      "execution_count": null,
      "outputs": [
        {
          "output_type": "stream",
          "name": "stdout",
          "text": [
            "{'uvu', 'meow', 'qwq', 'UwU'}\n",
            "{1, 2, 3, 4}\n",
            "4\n",
            "{17, True, 'Evie'}\n",
            "{'qwq', 'UwU'}\n"
          ]
        }
      ]
    },
    {
      "cell_type": "code",
      "source": [
        "#Acess Set Items\n",
        "#You cannot access items in a set by referring to an index or a key.\n",
        "#But you can loop through the set items using a for loop.\n",
        "for x in p:\n",
        "  print(x)\n",
        "#Check if \"meow\" is present in the set:\n",
        "print(\"meow\" in p)\n",
        "print(\"banana\" in p)"
      ],
      "metadata": {
        "colab": {
          "base_uri": "https://localhost:8080/"
        },
        "id": "5HpjdJ-63JeZ",
        "outputId": "63d386b9-749b-48ca-f38d-624178954cf5"
      },
      "execution_count": null,
      "outputs": [
        {
          "output_type": "stream",
          "name": "stdout",
          "text": [
            "UwU\n",
            "qwq\n",
            "uvu\n",
            "meow\n",
            "True\n",
            "False\n"
          ]
        }
      ]
    },
    {
      "cell_type": "code",
      "source": [
        "#Add Items: add()\n",
        "p.add(\"kitty\")\n",
        "print(p)\n",
        "#Add Sets\n",
        "p.update(e)\n",
        "print(p)\n",
        "#Add Any Iterable\n",
        "s=[\"cherry\",\"cherry\",\"cherry\",\"bon\",\"bon\",\"cheeeerryyyyyyyyy\"]\n",
        "p.update(s)\n",
        "print(p)"
      ],
      "metadata": {
        "colab": {
          "base_uri": "https://localhost:8080/"
        },
        "id": "b9egcFUcyQrt",
        "outputId": "ad664dba-1c95-4238-bbe5-6a5c45756d7e"
      },
      "execution_count": null,
      "outputs": [
        {
          "output_type": "stream",
          "name": "stdout",
          "text": [
            "{'uvu', 'qwq', 'kitty', 'meow', 'UwU'}\n",
            "{True, 'uvu', 'qwq', 'kitty', 'meow', 17, 'UwU', 'Evie'}\n",
            "{True, 'bon', 'uvu', 'cherry', 'qwq', 'cheeeerryyyyyyyyy', 'kitty', 'meow', 17, 'UwU', 'Evie'}\n"
          ]
        }
      ]
    },
    {
      "cell_type": "code",
      "source": [
        "#Remove Set Items\n",
        "#Remove Item\n",
        "#To remove an item in a set, use the remove(), or the discard() method.\n",
        "# If the item to remove does not exist, remove() will raise an error.\n",
        "p.remove(True)\n",
        "print(p)\n",
        "#If the item to remove does not exist, discard() will NOT raise an error.\n",
        "p.discard(\"qwq\")\n",
        "print(p)"
      ],
      "metadata": {
        "colab": {
          "base_uri": "https://localhost:8080/"
        },
        "id": "8hxfr9VE4vef",
        "outputId": "7c6cf358-cbb0-4211-abb2-7c8c997eb618"
      },
      "execution_count": null,
      "outputs": [
        {
          "output_type": "stream",
          "name": "stdout",
          "text": [
            "{'bon', 'uvu', 'cherry', 'qwq', 'cheeeerryyyyyyyyy', 'kitty', 'meow', 17, 'UwU', 'Evie'}\n",
            "{'bon', 'uvu', 'cherry', 'cheeeerryyyyyyyyy', 'kitty', 'meow', 17, 'UwU', 'Evie'}\n"
          ]
        }
      ]
    },
    {
      "cell_type": "code",
      "source": [
        "#Remove Set Items\n",
        "#Remove the last item by using the pop() method:\n",
        "#Sets are unordered, so when using the pop() method, you do not know which item that gets removed.\n",
        "p={\"UwU\", \"qwq\", \"meow\",\"uvu\"}\n",
        "x=p.pop()\n",
        "print(x) #removed item\n",
        "print(p) #the set after removal\n",
        "w=[\"Aditi\",\"Menali\",\"Omi\"]\n",
        "print(w.pop())\n",
        "print(w)\n",
        "#clear() method \n",
        "w.clear()\n",
        "print(w)\n",
        "del(w)  #del keyword will delete the set completely #this will raise an error because the set no longer exists"
      ],
      "metadata": {
        "colab": {
          "base_uri": "https://localhost:8080/"
        },
        "id": "C6x-IT_86Gbe",
        "outputId": "dec86cd4-a610-4a60-c1a5-f37622df0c67"
      },
      "execution_count": null,
      "outputs": [
        {
          "output_type": "stream",
          "name": "stdout",
          "text": [
            "meow\n",
            "{'UwU', 'qwq', 'uvu'}\n",
            "Omi\n",
            "['Aditi', 'Menali']\n",
            "[]\n"
          ]
        }
      ]
    },
    {
      "cell_type": "code",
      "source": [
        "#Loop Sets #Loop Items\n",
        "for x in p:\n",
        "  print(x)"
      ],
      "metadata": {
        "colab": {
          "base_uri": "https://localhost:8080/"
        },
        "id": "7ize17wb9Gp9",
        "outputId": "0876c0cc-6568-45b3-dcce-0e597a0203e2"
      },
      "execution_count": null,
      "outputs": [
        {
          "output_type": "stream",
          "name": "stdout",
          "text": [
            "UwU\n",
            "qwq\n",
            "uvu\n"
          ]
        }
      ]
    },
    {
      "cell_type": "code",
      "source": [
        "#Join Two Sets\n",
        "#union() method returns a new set with all items from both sets:\n",
        "x=p.union(e)\n",
        "print(x)\n",
        "#update() method inserts the items in set2 into set1\n",
        "q.update(p)\n",
        "print(q)\n",
        "#Both union() and update() will exclude any duplicate items."
      ],
      "metadata": {
        "id": "KM8QaZx_8MCX",
        "colab": {
          "base_uri": "https://localhost:8080/"
        },
        "outputId": "0429efc2-5c4c-413d-db0d-1ed95d6f7ecf"
      },
      "execution_count": null,
      "outputs": [
        {
          "output_type": "stream",
          "name": "stdout",
          "text": [
            "{1, 2, 3, 4, 'meow', 'qwq', 17, 'UwU', 'Evie', 'uvu'}\n",
            "{1, 2, 3, 4, 'meow', 'qwq', 'UwU', 'uvu'}\n"
          ]
        }
      ]
    },
    {
      "cell_type": "code",
      "source": [
        "#Keep ONLY the Duplicates\n",
        "#intersection_update() method\n",
        "x.intersection_update(q)\n",
        "print(x)\n",
        "#Both only contains the items that are present in both sets\n",
        "#intersection() [will return a new set]\n",
        "y=x.intersection(q)\n",
        "print(y)"
      ],
      "metadata": {
        "colab": {
          "base_uri": "https://localhost:8080/"
        },
        "id": "7NfqAHU9C7EA",
        "outputId": "6cf8f3e4-928e-4f19-f369-1c16b4014e33"
      },
      "execution_count": null,
      "outputs": [
        {
          "output_type": "stream",
          "name": "stdout",
          "text": [
            "{1, 2, 3, 4, 'meow', 'qwq', 'UwU', 'uvu'}\n",
            "{1, 2, 3, 4, 'meow', 'qwq', 'UwU', 'uvu'}\n"
          ]
        }
      ]
    },
    {
      "cell_type": "code",
      "source": [
        "#Keep All, But NOT the Duplicates\n",
        "#symmetric_difference_update() method\n",
        "x={1, 2, 3, 4, 'meow', 'qwq', 17, 'UwU', 'Evie', 'uvu'}\n",
        "x.symmetric_difference_update(q)\n",
        "print(x)\n",
        "#symmetric_difference() method [will return a new set]\n",
        "x={1, 2, 3, 4, 'meow', 'qwq', 17, 'UwU', 'Evie', 'uvu'}\n",
        "y=x.symmetric_difference(q)\n",
        "print(y)"
      ],
      "metadata": {
        "colab": {
          "base_uri": "https://localhost:8080/"
        },
        "id": "-u2PdiGhFQ9a",
        "outputId": "be1e1216-ce83-432b-d338-3a4cb1df3c90"
      },
      "execution_count": null,
      "outputs": [
        {
          "output_type": "stream",
          "name": "stdout",
          "text": [
            "{17, 'Evie'}\n",
            "{17, 'Evie'}\n"
          ]
        }
      ]
    },
    {
      "cell_type": "code",
      "source": [
        "#isdisjoint() Method\n",
        "#Returns whether two sets have a intersection or not\n",
        "p={\"UwU\", \"qwq\", \"meow\",\"uvu\"}\n",
        "e={17,True,\"Evie\"}\n",
        "r=set((\"UwU\",\"qwq\"))\n",
        "z=p.isdisjoint(e)\n",
        "print(z)\n",
        "z1=p.isdisjoint(r)\n",
        "print(z1)"
      ],
      "metadata": {
        "colab": {
          "base_uri": "https://localhost:8080/"
        },
        "id": "GOSnYNkQHI78",
        "outputId": "69c729a4-2a7c-44df-91e5-77870ca0eeae"
      },
      "execution_count": null,
      "outputs": [
        {
          "output_type": "stream",
          "name": "stdout",
          "text": [
            "True\n",
            "False\n"
          ]
        }
      ]
    },
    {
      "cell_type": "code",
      "source": [
        "#issubset() Method\n",
        "#Returns whether another set contains this set or not\n",
        "x = {\"a\", \"b\", \"c\"}\n",
        "y = {\"f\", \"e\", \"d\", \"c\", \"b\", \"a\"}\n",
        "z=x.issubset(y)\n",
        "print(z)\n",
        "#Return False if not all items in set x are present in set y\n",
        "y = {\"f\", \"e\", \"d\", \"c\", \"b\"}\n",
        "z1=x.issubset(y)\n",
        "print(z1)"
      ],
      "metadata": {
        "colab": {
          "base_uri": "https://localhost:8080/"
        },
        "id": "99gPVSo7I5Jr",
        "outputId": "dec956e6-5e37-47a8-e0c9-205655b49416"
      },
      "execution_count": null,
      "outputs": [
        {
          "output_type": "stream",
          "name": "stdout",
          "text": [
            "True\n",
            "True\n"
          ]
        }
      ]
    },
    {
      "cell_type": "code",
      "source": [
        "#issuperset() Method\n",
        "#Returns whether this set contains another set or not\n",
        "x = {\"f\", \"e\", \"d\", \"c\", \"b\", \"a\"}\n",
        "y = {\"a\", \"b\", \"c\"}\n",
        "z=x.issuperset(y)\n",
        "print(z)\n",
        "#Return False if not all items in set y are present in set x\n",
        "x = {\"f\", \"e\", \"d\", \"c\", \"b\"}\n",
        "z1=x.issuperset(y)\n",
        "print(z1)"
      ],
      "metadata": {
        "colab": {
          "base_uri": "https://localhost:8080/"
        },
        "id": "1Y_WTi6-KBkg",
        "outputId": "11b2c3c8-48bd-4c27-ab88-a9fc24ecec25"
      },
      "execution_count": null,
      "outputs": [
        {
          "output_type": "stream",
          "name": "stdout",
          "text": [
            "True\n",
            "False\n"
          ]
        }
      ]
    },
    {
      "cell_type": "markdown",
      "source": [
        "#Python Set Methods\n",
        "\n",
        "1. ***add()*** Adds an element to the set\n",
        "\n",
        "2. ***clear()***\tRemoves all the elements from the set\n",
        "\n",
        "3. ***copy()***\tReturns a copy of the set\n",
        "\n",
        "4. ***difference()***\tReturns a set containing the difference between two or more sets\n",
        "\n",
        "5. ***difference_update()***\tRemoves the items in this set that are also included in another, specified set\n",
        "\n",
        "6. ***discard()***\tRemove the specified item\n",
        "\n",
        "7. ***intersection()***\tReturns a set, that is the intersection of two or more sets\n",
        "\n",
        "8. ***intersection_update()***\tRemoves the items in this set that are not present in other, specified set(s)\n",
        "\n",
        "9. ***isdisjoint()***\tReturns whether two sets have a intersection or not\n",
        "\n",
        "10. ***issubset()***\tReturns whether another set contains this set or not\n",
        "\n",
        "11. ***issuperset()***\tReturns whether this set contains another set or not\n",
        "\n",
        "12. ***pop()***\tRemoves an element from the set\n",
        "\n",
        "13. ***remove()***\tRemoves the specified element\n",
        "\n",
        "14. ***symmetric_difference()***\tReturns a set with the symmetric differences of two sets\n",
        "\n",
        "15. ***symmetric_difference_update()***\tinserts the symmetric \n",
        "differences from this set and another\n",
        "\n",
        "16. ***union()***\tReturn a set containing the union of sets\n",
        "\n",
        "17. ***update()***\tUpdate the set with another set, or any other iterable"
      ],
      "metadata": {
        "id": "aZWwEa2OJ7s_"
      }
    },
    {
      "cell_type": "code",
      "source": [
        "#Dictionary(ordered, changeable, and does not allow duplicates)\n",
        "#The values in dictionary items can be of any data type.\n",
        "t = {\"Name\": \"Aditi\", \"Age\": 17, \"Currently\": \"Student\"}\n",
        "print(t)\n",
        "print(t[\"Age\"])\n",
        "print(len(t))\n",
        "print(type(t))"
      ],
      "metadata": {
        "colab": {
          "base_uri": "https://localhost:8080/"
        },
        "id": "PkLmD4gGcaIy",
        "outputId": "284f1003-4a7f-4af0-f948-033e279b83fb"
      },
      "execution_count": null,
      "outputs": [
        {
          "output_type": "stream",
          "name": "stdout",
          "text": [
            "{'Name': 'Aditi', 'Age': 17, 'Currently': 'Student'}\n",
            "17\n",
            "3\n",
            "<class 'dict'>\n"
          ]
        }
      ]
    },
    {
      "cell_type": "code",
      "source": [
        "#Accessing Items\n",
        "print(t[\"Currently\"])\n",
        "#There is also a method called get() that will give you the same result\n",
        "x=t.get(\"Name\")\n",
        "print(x)\n",
        "#Get Keys\n",
        "print(t.keys())\n",
        "t[\"City\"]=\"Bhopal\" #Adding a key\n",
        "print(t.keys())\n",
        "#Get Values\n",
        "print(t.values())\n",
        "t[\"FavColour\"]=\"Purple\"\n",
        "print(t.values()) #Adding Values\n",
        "t[\"FavColour\"]=\"Aqua\" #Replacing a value #Change values\n",
        "print(t.values())\n",
        "#Get Items\n",
        "print(t.items())\n",
        "#Check if Key Exists\n",
        "if \"Name\" in t:\n",
        "  print(\"Evie\")\n",
        "#Update Dictionary\n",
        "t.update({\"Age\":18})\n",
        "print(t)\n",
        "#Removing Items\n",
        "t.pop(\"FavColour\") #pop() method\n",
        "print(t)\n",
        "t.popitem() #popitem() method\n",
        "print(t)\n",
        "del t[\"Currently\"] #del method\n",
        "print(t)\n",
        "#del keyword can also delete the dictionary completely\n",
        "#del t\n",
        "#print(t) #this will cause an error because \"t\" no longer exists."
      ],
      "metadata": {
        "colab": {
          "base_uri": "https://localhost:8080/"
        },
        "id": "XcSYbHVhlFu8",
        "outputId": "c879a8ed-f3ac-4e57-bdc2-41684bcae411"
      },
      "execution_count": null,
      "outputs": [
        {
          "output_type": "stream",
          "name": "stdout",
          "text": [
            "Student\n",
            "Aditi\n",
            "dict_keys(['Name', 'Age', 'Currently'])\n",
            "dict_keys(['Name', 'Age', 'Currently', 'City'])\n",
            "dict_values(['Aditi', 18, 'Student', 'Bhopal'])\n",
            "dict_values(['Aditi', 18, 'Student', 'Bhopal', 'Purple'])\n",
            "dict_values(['Aditi', 18, 'Student', 'Bhopal', 'Aqua'])\n",
            "dict_items([('Name', 'Aditi'), ('Age', 18), ('Currently', 'Student'), ('City', 'Bhopal'), ('FavColour', 'Aqua')])\n",
            "Evie\n",
            "{'Name': 'Aditi', 'Age': 18, 'Currently': 'Student', 'City': 'Bhopal', 'FavColour': 'Aqua'}\n",
            "{'Name': 'Aditi', 'Age': 18, 'Currently': 'Student', 'City': 'Bhopal'}\n",
            "{'Name': 'Aditi', 'Age': 18, 'Currently': 'Student'}\n",
            "{'Name': 'Aditi', 'Age': 18}\n"
          ]
        }
      ]
    },
    {
      "cell_type": "code",
      "source": [
        "#clear() method empties the dictionary\n",
        "t.clear()\n",
        "print(t)"
      ],
      "metadata": {
        "colab": {
          "base_uri": "https://localhost:8080/"
        },
        "id": "WwMeTlyfydtG",
        "outputId": "fad79248-b5e6-47e1-e165-b2822a047be6"
      },
      "execution_count": null,
      "outputs": [
        {
          "output_type": "stream",
          "name": "stdout",
          "text": [
            "{}\n"
          ]
        }
      ]
    },
    {
      "cell_type": "code",
      "source": [
        "#Loop Through a Dictionary\n",
        "t = {\"Name\": \"Aditi\", \"Age\": 17, \"Currently\": \"Student\"}\n",
        "#Print all key names\n",
        "for x in t:\n",
        "  print(x)\n",
        "print(\" \")\n",
        "#Print all values\n",
        "for x in t:\n",
        "  print(t[x])\n",
        "print(\"  \")\n",
        "#Printing values: values() method\n",
        "for x in t.values():\n",
        "  print(x)\n",
        "print(\"  \")\n",
        "#Printing keys: keys() method\n",
        "for x in t.keys():\n",
        "  print(x)\n",
        "print(\" \")\n",
        "#items() method {Loop through both keys and values}\n",
        "for x in t.items():\n",
        "  print(x)"
      ],
      "metadata": {
        "colab": {
          "base_uri": "https://localhost:8080/"
        },
        "id": "gdG17jizywL6",
        "outputId": "b772edfe-227c-476c-8a99-dd4f58d81d3c"
      },
      "execution_count": null,
      "outputs": [
        {
          "output_type": "stream",
          "name": "stdout",
          "text": [
            "Name\n",
            "Age\n",
            "Currently\n",
            " \n",
            "Aditi\n",
            "17\n",
            "Student\n",
            "  \n",
            "Aditi\n",
            "17\n",
            "Student\n",
            "  \n",
            "Name\n",
            "Age\n",
            "Currently\n",
            " \n",
            "('Name', 'Aditi')\n",
            "('Age', 17)\n",
            "('Currently', 'Student')\n"
          ]
        }
      ]
    },
    {
      "cell_type": "code",
      "source": [
        "#Copy a Dictionary\n",
        "#can't use list1= list2 as changes made in list1 will be made in list2 too\n",
        "#copy() method\n",
        "q=t.copy()\n",
        "print(q)\n",
        "#dict() function\n",
        "p=dict(t)\n",
        "print(p)"
      ],
      "metadata": {
        "colab": {
          "base_uri": "https://localhost:8080/"
        },
        "id": "N4O9m0Nt04hU",
        "outputId": "2c62db37-5631-4f26-a92e-c1872733487c"
      },
      "execution_count": null,
      "outputs": [
        {
          "output_type": "stream",
          "name": "stdout",
          "text": [
            "{'Name': 'Aditi', 'Age': 17, 'Currently': 'Student'}\n",
            "{'Name': 'Aditi', 'Age': 17, 'Currently': 'Student'}\n"
          ]
        }
      ]
    },
    {
      "cell_type": "code",
      "source": [
        "#Nested Dictionaries\n",
        "y = {\"child1\" : {\"name\" : \"Emil\",\"year\" : 2004},\n",
        "  \"child2\" : {\"name\" : \"Tobias\",\"year\" : 2007},\n",
        "  \"child3\" : {\"name\" : \"Linus\",\"year\" : 2011}}\n",
        "print(y)\n",
        "#method2\n",
        "child1 = {\"name\" : \"Emil\",\"year\" : 2004}\n",
        "child2 = {\"name\" : \"Tobias\",\"year\" : 2007}\n",
        "child3 = {\"name\" : \"Linus\",\"year\" : 2011}\n",
        "y = {\"child1\" : child1,\"child2\" : child2,\"child3\" : child3}\n",
        "print(y)"
      ],
      "metadata": {
        "colab": {
          "base_uri": "https://localhost:8080/"
        },
        "id": "RShIVteu28yR",
        "outputId": "938965eb-c70c-4c36-930f-a83f0577833c"
      },
      "execution_count": null,
      "outputs": [
        {
          "output_type": "stream",
          "name": "stdout",
          "text": [
            "{'child1': {'name': 'Emil', 'year': 2004}, 'child2': {'name': 'Tobias', 'year': 2007}, 'child3': {'name': 'Linus', 'year': 2011}}\n",
            "{'child1': {'name': 'Emil', 'year': 2004}, 'child2': {'name': 'Tobias', 'year': 2007}, 'child3': {'name': 'Linus', 'year': 2011}}\n"
          ]
        }
      ]
    },
    {
      "cell_type": "code",
      "source": [
        "#setdefault()\n",
        "#Returns the value of the specified key. If the key does not exist: insert the key, with the specified value\n",
        "x=t.setdefault(\"Name\",\"Evie\")\n",
        "print(x)\n",
        "#when the item doesn't exist\n",
        "y=t.setdefault(\"Colour\",\"Black\")\n",
        "print(y)"
      ],
      "metadata": {
        "colab": {
          "base_uri": "https://localhost:8080/"
        },
        "id": "70FMProp56VC",
        "outputId": "7617995c-2c6e-4a2d-da62-69195689a654"
      },
      "execution_count": null,
      "outputs": [
        {
          "output_type": "stream",
          "name": "stdout",
          "text": [
            "Aditi\n",
            "Black\n"
          ]
        }
      ]
    },
    {
      "cell_type": "code",
      "source": [
        "#Python If ... Else\n",
        "#Equals: a == b\n",
        "#Not Equals: a != b\n",
        "#Less than: a < b\n",
        "#Less than or equal to: a <= b\n",
        "#Greater than: a > b\n",
        "#Greater than or equal to: a >= b\n",
        "x=6\n",
        "y=4\n",
        "if x>y:\n",
        "  print(\"x is greater than y\")\n",
        "#Elif\n",
        "if x<y:\n",
        "  print(\"x is lesser than y\")\n",
        "elif x>y:\n",
        "  print(\"x is greater than y\")"
      ],
      "metadata": {
        "id": "i-stUrDjFC2s",
        "colab": {
          "base_uri": "https://localhost:8080/"
        },
        "outputId": "5daedb0d-06fa-4580-b5fd-98e988473f60"
      },
      "execution_count": null,
      "outputs": [
        {
          "output_type": "stream",
          "name": "stdout",
          "text": [
            "x is greater than y\n",
            "x is greater than y\n"
          ]
        }
      ]
    },
    {
      "cell_type": "code",
      "source": [
        "#Else\n",
        "a=30\n",
        "b=30\n",
        "if a<b:\n",
        "  print(\"a is lesser than b\")\n",
        "elif a>b:\n",
        "  print(\"a is greater than b\")\n",
        "else:\n",
        "  print(\"a is equal to b\")"
      ],
      "metadata": {
        "colab": {
          "base_uri": "https://localhost:8080/"
        },
        "id": "jXTFcJjRLFRK",
        "outputId": "e5ed9ff4-7d0d-4fdf-a653-54b2fa534064"
      },
      "execution_count": null,
      "outputs": [
        {
          "output_type": "stream",
          "name": "stdout",
          "text": [
            "a is equal to b\n"
          ]
        }
      ]
    },
    {
      "cell_type": "code",
      "source": [
        "#else\n",
        "if x<y:\n",
        "  print(\"x is greater than y\")\n",
        "else:\n",
        "  print(\"x is lesser than y\")"
      ],
      "metadata": {
        "colab": {
          "base_uri": "https://localhost:8080/"
        },
        "id": "-ek1Ab9rL5uo",
        "outputId": "8a234fcc-e232-4b5f-f990-607ee34d6eb5"
      },
      "execution_count": null,
      "outputs": [
        {
          "output_type": "stream",
          "name": "stdout",
          "text": [
            "x is lesser than y\n"
          ]
        }
      ]
    },
    {
      "cell_type": "code",
      "source": [
        "#Short Hand If\n",
        "#If you have only one statement to execute, you can put it on the same line as the if statement.\n",
        "if x > y: print(\"x is greater than y\")\n",
        "#Short Hand If ... Else\n",
        "print(\"X\") if y>x else print(\"Y\")\n",
        "print(\"A\") if a>b else print(\"equal\") if a==b else print(\"B\")"
      ],
      "metadata": {
        "colab": {
          "base_uri": "https://localhost:8080/"
        },
        "id": "8Gpk54seMiHF",
        "outputId": "69a3b0b1-4431-496f-fd30-e90e58489f57"
      },
      "execution_count": null,
      "outputs": [
        {
          "output_type": "stream",
          "name": "stdout",
          "text": [
            "x is greater than y\n",
            "Y\n",
            "equal\n"
          ]
        }
      ]
    },
    {
      "cell_type": "code",
      "source": [
        "#And\n",
        "a=6\n",
        "b=4\n",
        "c=8\n",
        "if a>b and c>b:\n",
        "  print(\"Both conditions are true\")"
      ],
      "metadata": {
        "colab": {
          "base_uri": "https://localhost:8080/"
        },
        "id": "tgntvTa9PrJg",
        "outputId": "4110f310-ba43-433a-e0cb-b459417d9c10"
      },
      "execution_count": null,
      "outputs": [
        {
          "output_type": "stream",
          "name": "stdout",
          "text": [
            "Both conditions are true\n"
          ]
        }
      ]
    },
    {
      "cell_type": "code",
      "source": [
        "#Or\n",
        "if a>b or b>a:\n",
        "  print(\"At least one of the conditions is True\")"
      ],
      "metadata": {
        "colab": {
          "base_uri": "https://localhost:8080/"
        },
        "id": "hA9NdZZ1P4bW",
        "outputId": "e74d51d4-2487-4ce3-c941-e990ac8308fb"
      },
      "execution_count": null,
      "outputs": [
        {
          "output_type": "stream",
          "name": "stdout",
          "text": [
            "At least one of the conditions is True\n"
          ]
        }
      ]
    },
    {
      "cell_type": "code",
      "source": [
        "#Nested If\n",
        "#can have if statements inside if statements\n",
        "z=38\n",
        "if z>10:\n",
        "  print(\"Above ten\")\n",
        "  if z>20:\n",
        "    print(\"Also above 20\")\n",
        "    if z>30:\n",
        "      print(\"Also above 30\")\n",
        "      if z>40:\n",
        "        print(\"Also above 40\")\n",
        "      else:\n",
        "          print(\"but not above 40\")"
      ],
      "metadata": {
        "colab": {
          "base_uri": "https://localhost:8080/"
        },
        "id": "MNZcGItHQYmB",
        "outputId": "22e68087-9258-4f62-a62c-ef7a080e9ecb"
      },
      "execution_count": null,
      "outputs": [
        {
          "output_type": "stream",
          "name": "stdout",
          "text": [
            "Above ten\n",
            "Also above 20\n",
            "Also above 30\n",
            "but not above 40\n"
          ]
        }
      ]
    },
    {
      "cell_type": "code",
      "source": [
        "#The pass Statement\n",
        "#if statements cannot be empty, but if you for some reason have an if statement with no content, put in the pass statement to avoid getting an error\n",
        "x=6\n",
        "y=4\n",
        "if y>x:\n",
        "  pass"
      ],
      "metadata": {
        "id": "9XtOFLnLVUNO"
      },
      "execution_count": null,
      "outputs": []
    },
    {
      "cell_type": "code",
      "source": [
        "#While Loop\n",
        "#while loop we can execute a set of statements as long as a condition is true.\n",
        "u=1\n",
        "while u<100:\n",
        "  print(u)\n",
        "  u+=12"
      ],
      "metadata": {
        "colab": {
          "base_uri": "https://localhost:8080/"
        },
        "id": "RTBLwY7WM4vk",
        "outputId": "a938e4ad-6599-45e5-db42-a65b51efecc6"
      },
      "execution_count": null,
      "outputs": [
        {
          "output_type": "stream",
          "name": "stdout",
          "text": [
            "1\n",
            "13\n",
            "25\n",
            "37\n",
            "49\n",
            "61\n",
            "73\n",
            "85\n",
            "97\n"
          ]
        }
      ]
    },
    {
      "cell_type": "code",
      "source": [
        "#Break statement\n",
        "i=1\n",
        "while i<100:\n",
        "  print(i)\n",
        "  if (i>60):\n",
        "    break\n",
        "  i+=10\n",
        "print(\"..........\")\n",
        "a= 1\n",
        "while a < 6:\n",
        "  print(a)\n",
        "  if (a == 3):\n",
        "    break\n",
        "  a += 1\n"
      ],
      "metadata": {
        "colab": {
          "base_uri": "https://localhost:8080/"
        },
        "id": "ZKBR1U3vPlOn",
        "outputId": "d627db27-b6a8-451c-bf61-55426ffe945e"
      },
      "execution_count": null,
      "outputs": [
        {
          "output_type": "stream",
          "name": "stdout",
          "text": [
            "1\n",
            "11\n",
            "21\n",
            "31\n",
            "41\n",
            "51\n",
            "61\n",
            "..........\n",
            "1\n",
            "2\n",
            "3\n"
          ]
        }
      ]
    },
    {
      "cell_type": "code",
      "source": [
        "#continue Statement\n",
        "i = 5\n",
        "while i < 16:\n",
        "  i += 1\n",
        "  if i == 10:\n",
        "    continue\n",
        "  print(i)\n",
        "# Note that number 10 is missing in the result"
      ],
      "metadata": {
        "colab": {
          "base_uri": "https://localhost:8080/"
        },
        "id": "jtzoiFc7SM2B",
        "outputId": "4cd615ba-88c8-4557-bcea-f3c50fea19cd"
      },
      "execution_count": null,
      "outputs": [
        {
          "output_type": "stream",
          "name": "stdout",
          "text": [
            "6\n",
            "7\n",
            "8\n",
            "9\n",
            "11\n",
            "12\n",
            "13\n",
            "14\n",
            "15\n",
            "16\n"
          ]
        }
      ]
    },
    {
      "cell_type": "code",
      "source": [
        "#else Statement\n",
        "i = 1\n",
        "while i < 60:\n",
        "  print(i)\n",
        "  i += 10\n",
        "else:\n",
        "  print(\"i is no longer less than 60\")"
      ],
      "metadata": {
        "colab": {
          "base_uri": "https://localhost:8080/"
        },
        "id": "2K7DWl0SU0oE",
        "outputId": "dda744ca-bb52-449f-ed33-11a6048f92b3"
      },
      "execution_count": null,
      "outputs": [
        {
          "output_type": "stream",
          "name": "stdout",
          "text": [
            "1\n",
            "11\n",
            "21\n",
            "31\n",
            "41\n",
            "51\n",
            "i is no longer less than 100\n"
          ]
        }
      ]
    },
    {
      "cell_type": "code",
      "source": [
        "#For loops\n",
        "f=[\"cherry\",\"apple\",\"litchi\"]\n",
        "for x in f:\n",
        "  print(x)\n",
        "for x in \"apple\": #Looping Through a String\n",
        "  print(x)"
      ],
      "metadata": {
        "colab": {
          "base_uri": "https://localhost:8080/"
        },
        "id": "9W1tK6PiXbPP",
        "outputId": "3c42a62f-35ad-4ac3-ad63-97111a7496a7"
      },
      "execution_count": null,
      "outputs": [
        {
          "output_type": "stream",
          "name": "stdout",
          "text": [
            "cherry\n",
            "apple\n",
            "litchi\n",
            "a\n",
            "p\n",
            "p\n",
            "l\n",
            "e\n"
          ]
        }
      ]
    },
    {
      "cell_type": "code",
      "source": [
        "#break Statement\n",
        "f=[\"cherry\",\"berry\",\"apple\",\"litchi\"]\n",
        "for x in f:\n",
        "  print(x)\n",
        "  if x == \"apple\":\n",
        "    break"
      ],
      "metadata": {
        "colab": {
          "base_uri": "https://localhost:8080/"
        },
        "id": "T4F-cPTzY7eg",
        "outputId": "684d8c05-40d2-42de-d07a-1653b56aea42"
      },
      "execution_count": null,
      "outputs": [
        {
          "output_type": "stream",
          "name": "stdout",
          "text": [
            "cherry\n",
            "berry\n",
            "apple\n"
          ]
        }
      ]
    },
    {
      "cell_type": "code",
      "source": [
        "#Break statement\n",
        "f=[\"cherry\",\"berry\",\"apple\",\"litchi\"]\n",
        "for x in f:\n",
        "  if x == \"apple\":\n",
        "    break\n",
        "  print(x)"
      ],
      "metadata": {
        "colab": {
          "base_uri": "https://localhost:8080/"
        },
        "id": "m_jUVQKjaAbt",
        "outputId": "da03f146-f5ba-4cd9-976c-5280c4bad38a"
      },
      "execution_count": null,
      "outputs": [
        {
          "output_type": "stream",
          "name": "stdout",
          "text": [
            "cherry\n",
            "berry\n"
          ]
        }
      ]
    },
    {
      "cell_type": "code",
      "source": [
        "#continue Statement\n",
        "#With the continue statement we can stop the current iteration of the loop, and continue with the next\n",
        "for x in f:\n",
        "  if x==\"apple\":\n",
        "    continue          #will not print apple\n",
        "  print(x)"
      ],
      "metadata": {
        "colab": {
          "base_uri": "https://localhost:8080/"
        },
        "id": "Px3dT9WIaYZa",
        "outputId": "82f10b53-7ff5-4f40-ccec-500d1dd01eaf"
      },
      "execution_count": null,
      "outputs": [
        {
          "output_type": "stream",
          "name": "stdout",
          "text": [
            "cherry\n",
            "berry\n",
            "litchi\n"
          ]
        }
      ]
    },
    {
      "cell_type": "code",
      "source": [
        "#The range() Function\n",
        "#To loop through a set of code a specified number of times\n",
        "#The range() function returns a sequence of numbers, starting from 0 by default, and increments by 1 (by default), and ends at a specified number.\n",
        "for x in range(5):\n",
        "  print(x)\n",
        "print(\".....\")\n",
        "for y in range(2,8):\n",
        "  print(y)"
      ],
      "metadata": {
        "colab": {
          "base_uri": "https://localhost:8080/"
        },
        "id": "9foCb6ymbVAk",
        "outputId": "61781052-8a83-4f5d-c02f-7cea55a4c805"
      },
      "execution_count": null,
      "outputs": [
        {
          "output_type": "stream",
          "name": "stdout",
          "text": [
            "0\n",
            "1\n",
            "2\n",
            "3\n",
            "4\n",
            ".....\n",
            "2\n",
            "3\n",
            "4\n",
            "5\n",
            "6\n",
            "7\n"
          ]
        }
      ]
    },
    {
      "cell_type": "code",
      "source": [
        "#range() Function\n",
        "#The range() function defaults to increment the sequence by 1, however it is possible to specify the increment value by adding a third parameter\n",
        "for x in range(5,51,5):\n",
        "  print(x)"
      ],
      "metadata": {
        "colab": {
          "base_uri": "https://localhost:8080/"
        },
        "id": "OFdYYHV5dFqG",
        "outputId": "a1145e1e-8438-42ee-ad2f-2396dabbbc2f"
      },
      "execution_count": null,
      "outputs": [
        {
          "output_type": "stream",
          "name": "stdout",
          "text": [
            "5\n",
            "10\n",
            "15\n",
            "20\n",
            "25\n",
            "30\n",
            "35\n",
            "40\n",
            "45\n",
            "50\n"
          ]
        }
      ]
    },
    {
      "cell_type": "code",
      "source": [
        "#For Loop: Else\n",
        "#The else keyword in a for loop specifies a block of code to be executed when the loop is finished\n",
        "for x in range(6):\n",
        "  print(x)\n",
        "else:\n",
        "  print(\"Annnnnnnnnd that's it!\")"
      ],
      "metadata": {
        "colab": {
          "base_uri": "https://localhost:8080/"
        },
        "id": "K6iSLTpkdlXi",
        "outputId": "fc7150b6-e5a4-49f5-bc4a-3e03e4538446"
      },
      "execution_count": null,
      "outputs": [
        {
          "output_type": "stream",
          "name": "stdout",
          "text": [
            "0\n",
            "1\n",
            "2\n",
            "3\n",
            "4\n",
            "5\n",
            "Annnnnnnnnd that's it!\n"
          ]
        }
      ]
    },
    {
      "cell_type": "code",
      "source": [
        "##For Loop: Else\n",
        "#The else block will NOT be executed if the loop is stopped by a break statement.\n",
        "for x in range(11):\n",
        "  if x == 7: break\n",
        "  print(x)\n",
        "else:\n",
        "  print(\"Finally finished!\")"
      ],
      "metadata": {
        "colab": {
          "base_uri": "https://localhost:8080/"
        },
        "id": "xKQ0FEy2gWzz",
        "outputId": "16d4ce5d-b2b4-4963-f4f5-e263ffbebade"
      },
      "execution_count": null,
      "outputs": [
        {
          "output_type": "stream",
          "name": "stdout",
          "text": [
            "0\n",
            "1\n",
            "2\n",
            "3\n",
            "4\n",
            "5\n",
            "6\n"
          ]
        }
      ]
    },
    {
      "cell_type": "code",
      "source": [
        "#For loop: Nested Loops {loop inside a loop}\n",
        "#The \"inner loop\" will be executed one time for each iteration of the \"outer loop\"\n",
        "f=[\"cherry\",\"berry\",\"apple\",\"litchi\"]\n",
        "u=[\"uwu\",\"@w@\"]\n",
        "for x in u:\n",
        "  for y in f:\n",
        "    print(x,y)"
      ],
      "metadata": {
        "colab": {
          "base_uri": "https://localhost:8080/"
        },
        "id": "IIZ6n1Chgm3y",
        "outputId": "b3c66df8-ed3e-4c63-b344-3a4983b2ffc1"
      },
      "execution_count": null,
      "outputs": [
        {
          "output_type": "stream",
          "name": "stdout",
          "text": [
            "uwu cherry\n",
            "uwu berry\n",
            "uwu apple\n",
            "uwu litchi\n",
            "@w@ cherry\n",
            "@w@ berry\n",
            "@w@ apple\n",
            "@w@ litchi\n"
          ]
        }
      ]
    },
    {
      "cell_type": "code",
      "source": [
        "#The pass Statement\n",
        "#for loops cannot be empty, but if you for some reason have a for loop with no content, put in the pass statement to avoid getting an error.\n",
        "for x in [0,3,6]:\n",
        "  pass"
      ],
      "metadata": {
        "id": "p3JQbK9ThZBP"
      },
      "execution_count": null,
      "outputs": []
    },
    {
      "cell_type": "code",
      "source": [
        "#Creating a Function\n",
        "def uwu():\n",
        "  print(\"Blue side of the skyyyyyyyyyyyyyyy\")\n",
        "uwu()          #Calling a Function"
      ],
      "metadata": {
        "id": "awkGQc9LfY9T",
        "colab": {
          "base_uri": "https://localhost:8080/"
        },
        "outputId": "974bd155-6ed6-4dd5-d69b-657ede01a08b"
      },
      "execution_count": null,
      "outputs": [
        {
          "output_type": "stream",
          "name": "stdout",
          "text": [
            "Blue side of the skyyyyyyyyyyyyyyy\n"
          ]
        }
      ]
    },
    {
      "cell_type": "code",
      "source": [
        "#Functions: Arguments\n",
        "def qwq(uvu):\n",
        "  print(uvu + \" Patel\")\n",
        "qwq(\"Aditi\")\n",
        "qwq(\"Omi\")\n",
        "qwq(\"Menali\")"
      ],
      "metadata": {
        "colab": {
          "base_uri": "https://localhost:8080/"
        },
        "id": "tVGqxDUNh-86",
        "outputId": "14de5569-cb96-4925-d2ec-4f535b1e2006"
      },
      "execution_count": null,
      "outputs": [
        {
          "output_type": "stream",
          "name": "stdout",
          "text": [
            "Aditi Patel\n",
            "Omi Patel\n",
            "Menali Patel\n"
          ]
        }
      ]
    },
    {
      "cell_type": "code",
      "source": [
        "#Number of Arguments\n",
        "#This function expects 2 arguments, and gets 2 arguments\n",
        "#If you try to call the function with 1 or 3 arguments, you will get an error\n",
        "def uwu(Fname,Lname):\n",
        "  print(Fname+\" \"+Lname)\n",
        "uwu(\"Aditi\",\"Patel\")"
      ],
      "metadata": {
        "colab": {
          "base_uri": "https://localhost:8080/"
        },
        "id": "5PQGmgF3i3Zf",
        "outputId": "f4597bfe-0448-44f7-bb13-846edf5e668b"
      },
      "execution_count": null,
      "outputs": [
        {
          "output_type": "stream",
          "name": "stdout",
          "text": [
            "Aditi Patel\n"
          ]
        }
      ]
    },
    {
      "cell_type": "code",
      "source": [
        "#Arbitrary Arguments, *args\n",
        "def uwu(*meow):\n",
        "  print(\"The cutest kitten is \"+meow[1]+\".\")\n",
        "uwu(\"Amythyst\",\"Aditi\",\"Anshu\")"
      ],
      "metadata": {
        "colab": {
          "base_uri": "https://localhost:8080/"
        },
        "id": "YEU6NQWhkfix",
        "outputId": "070c3af0-dc5e-405e-8586-0812c3121ca3"
      },
      "execution_count": null,
      "outputs": [
        {
          "output_type": "stream",
          "name": "stdout",
          "text": [
            "The cutest kitten is Aditi.\n"
          ]
        }
      ]
    },
    {
      "cell_type": "code",
      "source": [
        "#Keyword Arguments\n",
        "def uwu(mew1,mew2,mew3):\n",
        "  print(\"The most dangerous kitten is \"+mew1+\".\")\n",
        "uwu(mew1=\"Amythyst\",mew2=\"Aditi\",mew3=\"Anshu\")"
      ],
      "metadata": {
        "colab": {
          "base_uri": "https://localhost:8080/"
        },
        "id": "X64n27zNluPE",
        "outputId": "c0f82f4f-f5e5-4725-daab-6eb24e63fa9c"
      },
      "execution_count": null,
      "outputs": [
        {
          "output_type": "stream",
          "name": "stdout",
          "text": [
            "The most dangerous kitten is Amythyst.\n"
          ]
        }
      ]
    },
    {
      "cell_type": "code",
      "source": [
        "#Arbitrary Keyword Arguments, **kwargs\n",
        "def uwu(**mew):\n",
        "  print(\"Her last name is \" + mew[\"lname\"])\n",
        "uwu(fname = \"Aditi\", lname = \"Patel\")"
      ],
      "metadata": {
        "colab": {
          "base_uri": "https://localhost:8080/"
        },
        "id": "PMFBTUXBmhPV",
        "outputId": "7a005beb-9e74-484f-a61d-18e303a605be"
      },
      "execution_count": null,
      "outputs": [
        {
          "output_type": "stream",
          "name": "stdout",
          "text": [
            "Her last name is Patel\n"
          ]
        }
      ]
    },
    {
      "cell_type": "code",
      "source": [
        "#Default Parameter Value\n",
        "def qwq(colour=\"Purple\"):\n",
        "  print(\"My fav colour is \"+colour)\n",
        "qwq(\"Pink\")\n",
        "qwq(\"Aqua\")\n",
        "qwq()\n",
        "qwq(\"Black\")"
      ],
      "metadata": {
        "colab": {
          "base_uri": "https://localhost:8080/"
        },
        "id": "piLuuvWZntk2",
        "outputId": "54dd6cf7-e4b6-4391-b50e-abba33c90979"
      },
      "execution_count": null,
      "outputs": [
        {
          "output_type": "stream",
          "name": "stdout",
          "text": [
            "My fav colour is Pink\n",
            "My fav colour is Aqua\n",
            "My fav colour is Purple\n",
            "My fav colour is Black\n"
          ]
        }
      ]
    },
    {
      "cell_type": "code",
      "source": [
        "#Passing a List as an Argument\n",
        "def f(friuts):\n",
        "  for x in fruits:\n",
        "    print(x)\n",
        "fruits=[\"cherry\",\"berry\",\"strawberry\"]\n",
        "f(fruits)"
      ],
      "metadata": {
        "colab": {
          "base_uri": "https://localhost:8080/"
        },
        "id": "qjt0Q5gsofHX",
        "outputId": "5fabadb4-81fa-4ae4-eb2f-e08670430f72"
      },
      "execution_count": null,
      "outputs": [
        {
          "output_type": "stream",
          "name": "stdout",
          "text": [
            "cherry\n",
            "berry\n",
            "strawberry\n"
          ]
        }
      ]
    },
    {
      "cell_type": "code",
      "source": [
        "#Return Values (for calculation)\n",
        "def uwu(x):\n",
        "  return 10*x\n",
        "print(uwu(4))\n",
        "print(uwu(5))\n",
        "print(uwu(6))"
      ],
      "metadata": {
        "colab": {
          "base_uri": "https://localhost:8080/"
        },
        "id": "ugImRIjopOqC",
        "outputId": "43150670-6389-4da4-86d3-a32053ee2d93"
      },
      "execution_count": null,
      "outputs": [
        {
          "output_type": "stream",
          "name": "stdout",
          "text": [
            "40\n",
            "50\n",
            "60\n"
          ]
        }
      ]
    },
    {
      "cell_type": "code",
      "source": [
        "#The pass Statement\n",
        "def empty():\n",
        "  pass"
      ],
      "metadata": {
        "id": "OcSBB6uapuDe"
      },
      "execution_count": null,
      "outputs": []
    },
    {
      "cell_type": "code",
      "source": [
        "#Recursion\n",
        "def tri_recursion(k):\n",
        "  if(k > 0):\n",
        "    result = k + tri_recursion(k - 1)\n",
        "    print(result)\n",
        "  else:\n",
        "    result = 0\n",
        "  return result\n",
        "print(\"\\n\\nRecursion Example Results\")\n",
        "tri_recursion(6)"
      ],
      "metadata": {
        "colab": {
          "base_uri": "https://localhost:8080/"
        },
        "id": "Mg9vKFRSrQnb",
        "outputId": "e664de01-54d6-4682-b114-8a082be398c4"
      },
      "execution_count": null,
      "outputs": [
        {
          "output_type": "stream",
          "name": "stdout",
          "text": [
            "\n",
            "\n",
            "Recursion Example Results\n",
            "1\n",
            "3\n",
            "6\n",
            "10\n",
            "15\n",
            "21\n"
          ]
        },
        {
          "output_type": "execute_result",
          "data": {
            "text/plain": [
              "21"
            ]
          },
          "metadata": {},
          "execution_count": 27
        }
      ]
    },
    {
      "cell_type": "code",
      "source": [
        "#Python Lambda\n",
        "#A lambda function is a small anonymous function.\n",
        "#A lambda function can take any number of arguments, but can only have one expression.\n",
        "x= lambda a: a +5\n",
        "print(x(5))"
      ],
      "metadata": {
        "colab": {
          "base_uri": "https://localhost:8080/"
        },
        "id": "_z4gpnMUqD8K",
        "outputId": "93b2b2d5-c39e-45a3-daf5-751ded6bd251"
      },
      "execution_count": null,
      "outputs": [
        {
          "output_type": "stream",
          "name": "stdout",
          "text": [
            "10\n"
          ]
        }
      ]
    },
    {
      "cell_type": "code",
      "source": [
        "#lambda\n",
        "x= lambda a,b: a*b\n",
        "print(x(2,8))"
      ],
      "metadata": {
        "colab": {
          "base_uri": "https://localhost:8080/"
        },
        "id": "chvTYyaNtYKv",
        "outputId": "c3e83d0a-865c-4692-840e-7f171cddf46a"
      },
      "execution_count": null,
      "outputs": [
        {
          "output_type": "stream",
          "name": "stdout",
          "text": [
            "16\n"
          ]
        }
      ]
    },
    {
      "cell_type": "code",
      "source": [
        "#lambda\n",
        "x= lambda a,b,c:a+b-c\n",
        "print(x(4,6,2))"
      ],
      "metadata": {
        "colab": {
          "base_uri": "https://localhost:8080/"
        },
        "id": "tkG1EoXFtrTe",
        "outputId": "c93c2358-6df4-42f0-a570-fd7399e7d6ad"
      },
      "execution_count": null,
      "outputs": [
        {
          "output_type": "stream",
          "name": "stdout",
          "text": [
            "8\n"
          ]
        }
      ]
    },
    {
      "cell_type": "code",
      "source": [
        "#lambda #to make a function that always doubles the number you send in\n",
        "def uwu(n):\n",
        "  return lambda a:a*n\n",
        "qwq= uwu(2)\n",
        "print(qwq(11))"
      ],
      "metadata": {
        "colab": {
          "base_uri": "https://localhost:8080/"
        },
        "id": "Q9E5S6mEwV5C",
        "outputId": "219ab2a2-2e97-4ca7-d52e-a44d00cb6812"
      },
      "execution_count": null,
      "outputs": [
        {
          "output_type": "stream",
          "name": "stdout",
          "text": [
            "22\n"
          ]
        }
      ]
    },
    {
      "cell_type": "code",
      "source": [
        "#lambda #to make a function that always triples the number you send in\n",
        "def uwu(n):\n",
        "  return lambda a:a*n\n",
        "qwq= uwu(3)\n",
        "print(qwq(11))"
      ],
      "metadata": {
        "colab": {
          "base_uri": "https://localhost:8080/"
        },
        "id": "z1pwMSGIx74y",
        "outputId": "3ab26cb3-bdf0-402f-c050-6cbefc589a46"
      },
      "execution_count": null,
      "outputs": [
        {
          "output_type": "stream",
          "name": "stdout",
          "text": [
            "33\n"
          ]
        }
      ]
    },
    {
      "cell_type": "code",
      "source": [
        "#lambda #use the same function definition to make both functions (double and triple) in the same program\n",
        "def uwu(n):\n",
        "  return lambda a:a*n\n",
        "qwq= uwu(2)\n",
        "twt= uwu(3)\n",
        "print(qwq(11))\n",
        "print(twt(11))"
      ],
      "metadata": {
        "colab": {
          "base_uri": "https://localhost:8080/"
        },
        "id": "Tlc0K3Iqyl52",
        "outputId": "18d91ab6-84bd-4ae0-8988-9d32ca6f6729"
      },
      "execution_count": null,
      "outputs": [
        {
          "output_type": "stream",
          "name": "stdout",
          "text": [
            "22\n",
            "33\n"
          ]
        }
      ]
    },
    {
      "cell_type": "code",
      "source": [
        "#Array\n",
        "#Lists and Arrays are almost same except in Array only a same type of data type is used\n",
        "#Python does not have built-in support for Arrays, but Python Lists can be used instead.\n",
        "c=[\"pink\",\"purple\",\"black\"]\n",
        "x=c[1]   #Access the Elements of an Array\n",
        "print(x)\n",
        "c[2]=\"aqua\"  #Modify the value\n",
        "print(c)\n",
        "print(len(c))  #Length of an Array"
      ],
      "metadata": {
        "colab": {
          "base_uri": "https://localhost:8080/"
        },
        "id": "8fuTdSWyN3Qg",
        "outputId": "e4688fed-a521-43be-8948-c97beb6ac68c"
      },
      "execution_count": null,
      "outputs": [
        {
          "output_type": "stream",
          "name": "stdout",
          "text": [
            "purple\n",
            "['pink', 'purple', 'aqua']\n",
            "3\n"
          ]
        }
      ]
    },
    {
      "cell_type": "code",
      "source": [
        "#Looping Array Elements\n",
        "c=[\"pink\",\"purple\",\"black\"]\n",
        "for x in c:\n",
        "  print(x)"
      ],
      "metadata": {
        "colab": {
          "base_uri": "https://localhost:8080/"
        },
        "id": "4KJ9cyoWSdvH",
        "outputId": "751f6f4a-362b-4e80-d085-339ea5c573a7"
      },
      "execution_count": null,
      "outputs": [
        {
          "output_type": "stream",
          "name": "stdout",
          "text": [
            "pink\n",
            "purple\n",
            "black\n"
          ]
        }
      ]
    },
    {
      "cell_type": "code",
      "source": [
        "#Adding Array Elements\n",
        "c=[\"pink\",\"purple\",\"black\"]\n",
        "c.append(\"aqua\")   #append() method\n",
        "print(c)\n",
        "c.extend(\"orange\")  #extend() method {adds iterables}\n",
        "print(c)"
      ],
      "metadata": {
        "colab": {
          "base_uri": "https://localhost:8080/"
        },
        "id": "DF1-OurETTUR",
        "outputId": "cd81912c-71e7-410d-c5a6-90964583f85b"
      },
      "execution_count": null,
      "outputs": [
        {
          "output_type": "stream",
          "name": "stdout",
          "text": [
            "['pink', 'purple', 'black', 'aqua']\n",
            "['pink', 'purple', 'black', 'aqua', 'o', 'r', 'a', 'n', 'g', 'e']\n"
          ]
        }
      ]
    },
    {
      "cell_type": "code",
      "source": [
        "#extend() method\n",
        "c=[\"pink\",\"purple\",\"black\"]\n",
        "p=(1,5,3,9)\n",
        "c.extend(p)\n",
        "print(c)"
      ],
      "metadata": {
        "colab": {
          "base_uri": "https://localhost:8080/"
        },
        "id": "7q7h0SabYflV",
        "outputId": "504115ef-f722-4c68-e5f9-268633e54403"
      },
      "execution_count": null,
      "outputs": [
        {
          "output_type": "stream",
          "name": "stdout",
          "text": [
            "['pink', 'purple', 'black', 1, 5, 3, 9]\n"
          ]
        }
      ]
    },
    {
      "cell_type": "code",
      "source": [
        "#Removing Array Elements\n",
        "c.pop(2) #pop() method\n",
        "print(c)\n",
        "c.remove(\"pink\")  #remove method\n",
        "print(c)"
      ],
      "metadata": {
        "colab": {
          "base_uri": "https://localhost:8080/"
        },
        "id": "kmdi1B5kThTz",
        "outputId": "c27a8949-c82d-4808-c5c0-86feef3076ac"
      },
      "execution_count": null,
      "outputs": [
        {
          "output_type": "stream",
          "name": "stdout",
          "text": [
            "['pink', 'purple', 'aqua']\n",
            "['purple', 'aqua']\n"
          ]
        }
      ]
    },
    {
      "cell_type": "code",
      "source": [
        "#clear() method in Array\n",
        "#Removes all the elements from the list\n",
        "c.clear()\n",
        "print(c)"
      ],
      "metadata": {
        "colab": {
          "base_uri": "https://localhost:8080/"
        },
        "id": "C4vQnIKFUp2-",
        "outputId": "ac1949c5-a072-476d-af91-9ecd05dddd5b"
      },
      "execution_count": null,
      "outputs": [
        {
          "output_type": "stream",
          "name": "stdout",
          "text": [
            "[]\n"
          ]
        }
      ]
    },
    {
      "cell_type": "code",
      "source": [
        "#copy() method in Array\n",
        "f=[\"cherry\",\"merry\",\"carry\",\"larry\"]\n",
        "x=f.copy()\n",
        "print(x)"
      ],
      "metadata": {
        "colab": {
          "base_uri": "https://localhost:8080/"
        },
        "id": "uIxWExzGVMYx",
        "outputId": "a32b8a34-a873-4a0a-9314-fdb6553b1d7f"
      },
      "execution_count": null,
      "outputs": [
        {
          "output_type": "stream",
          "name": "stdout",
          "text": [
            "['cherry', 'merry', 'carry', 'larry']\n"
          ]
        }
      ]
    },
    {
      "cell_type": "code",
      "source": [
        "#count() method in Array\n",
        "#returns the number of elements with the specified value\n",
        "k=[\"cherry\",\"merry\",\"larry\",\"larry\"]\n",
        "x=k.count(\"larry\")\n",
        "print(x)"
      ],
      "metadata": {
        "colab": {
          "base_uri": "https://localhost:8080/"
        },
        "id": "ts8H5PcSWdbF",
        "outputId": "16d35a8d-d626-4c58-99bc-2d8583492813"
      },
      "execution_count": null,
      "outputs": [
        {
          "output_type": "stream",
          "name": "stdout",
          "text": [
            "2\n"
          ]
        }
      ]
    },
    {
      "cell_type": "code",
      "source": [
        "#index() method in Array\n",
        "#returns the position at the first occurrence of the specified value.\n",
        "#The index() method only returns the first occurrence of the value.\n",
        "x=k.index(\"larry\")\n",
        "print(x)"
      ],
      "metadata": {
        "colab": {
          "base_uri": "https://localhost:8080/"
        },
        "id": "aunzrDE_YE0V",
        "outputId": "4bcd0260-7421-47f4-a21a-c2d316dfd892"
      },
      "execution_count": null,
      "outputs": [
        {
          "output_type": "stream",
          "name": "stdout",
          "text": [
            "2\n"
          ]
        }
      ]
    },
    {
      "cell_type": "code",
      "source": [
        "#insert() method in Array\n",
        "#inserts the specified value at the specified position.\n",
        "k.insert(3,\"ferry\")\n",
        "print(k)"
      ],
      "metadata": {
        "colab": {
          "base_uri": "https://localhost:8080/"
        },
        "id": "oFtyiyzjZICT",
        "outputId": "4d653437-b68a-4a5a-f9db-dc60ab9f47a8"
      },
      "execution_count": null,
      "outputs": [
        {
          "output_type": "stream",
          "name": "stdout",
          "text": [
            "['cherry', 'merry', 'larry', 'ferry', 'larry']\n"
          ]
        }
      ]
    },
    {
      "cell_type": "code",
      "source": [
        "#reverse() method in Array\n",
        "k.reverse()\n",
        "print(k)"
      ],
      "metadata": {
        "colab": {
          "base_uri": "https://localhost:8080/"
        },
        "id": "IDwHShzDZJja",
        "outputId": "03a2b479-289d-4b5c-ad61-0bbb3c87ede0"
      },
      "execution_count": null,
      "outputs": [
        {
          "output_type": "stream",
          "name": "stdout",
          "text": [
            "['larry', 'ferry', 'larry', 'merry', 'cherry']\n"
          ]
        }
      ]
    },
    {
      "cell_type": "code",
      "source": [
        "#reversed() function\n",
        "#returns a reversed iterator object.\n",
        "#only works in loops\n",
        "y=reversed(k)\n",
        "for x in y:\n",
        "  print(x)"
      ],
      "metadata": {
        "colab": {
          "base_uri": "https://localhost:8080/"
        },
        "id": "fPzqB3c8boLX",
        "outputId": "eb6f8f6e-8278-4c2c-eebf-6472c498f247"
      },
      "execution_count": null,
      "outputs": [
        {
          "output_type": "stream",
          "name": "stdout",
          "text": [
            "cherry\n",
            "merry\n",
            "larry\n",
            "ferry\n",
            "larry\n"
          ]
        }
      ]
    },
    {
      "cell_type": "code",
      "source": [
        "#sort() method in Array\n",
        "#sorts the list ascending by default\n",
        "k=['larry', 'ferry', 'larry', 'merry', 'cherry'] \n",
        "k.sort() #Sort the list alphabetically\n",
        "print(k)\n",
        "k.sort(reverse=True) #Sort the list descending\n",
        "print(k)"
      ],
      "metadata": {
        "id": "Yq7HSprcckvj",
        "colab": {
          "base_uri": "https://localhost:8080/"
        },
        "outputId": "d42c21d7-6582-4c3d-f2ae-218dd2ad2f5c"
      },
      "execution_count": null,
      "outputs": [
        {
          "output_type": "stream",
          "name": "stdout",
          "text": [
            "['cherry', 'ferry', 'larry', 'larry', 'merry']\n",
            "['merry', 'larry', 'larry', 'ferry', 'cherry']\n"
          ]
        }
      ]
    },
    {
      "cell_type": "code",
      "source": [
        "#sort() : length of the value\n",
        "def uwu(e):\n",
        "  return len(e)\n",
        "cars = ['Ford', 'Mitsubishi', 'BMW', 'VW']\n",
        "cars.sort(key=uwu)\n",
        "print(cars)"
      ],
      "metadata": {
        "colab": {
          "base_uri": "https://localhost:8080/"
        },
        "id": "gXQ-bOygeU_j",
        "outputId": "0b29afb7-a183-42cd-e8e4-ec6f22531018"
      },
      "execution_count": null,
      "outputs": [
        {
          "output_type": "stream",
          "name": "stdout",
          "text": [
            "['VW', 'BMW', 'Ford', 'Mitsubishi']\n"
          ]
        }
      ]
    },
    {
      "cell_type": "code",
      "source": [
        "#Sort a list of dictionaries based on the \"year\" value of the dictionaries:\n",
        "def uwu(e):\n",
        "  return e['year']\n",
        "cars = [ {'car': 'Ford', 'year': 2005},\n",
        "         {'car': 'Mitsubishi', 'year': 2000},\n",
        "         {'car': 'BMW', 'year': 2019},\n",
        "         {'car': 'VW', 'year': 2011} ]\n",
        "cars.sort(key=uwu)\n",
        "print(cars)"
      ],
      "metadata": {
        "colab": {
          "base_uri": "https://localhost:8080/"
        },
        "id": "sUGJ5Ldfgiaq",
        "outputId": "4f28da6a-04e3-4e45-8d66-27e0f516f46b"
      },
      "execution_count": null,
      "outputs": [
        {
          "output_type": "stream",
          "name": "stdout",
          "text": [
            "[{'car': 'Mitsubishi', 'year': 2000}, {'car': 'Ford', 'year': 2005}, {'car': 'VW', 'year': 2011}, {'car': 'BMW', 'year': 2019}]\n"
          ]
        }
      ]
    },
    {
      "cell_type": "code",
      "source": [
        "#Sort the list by the length of the values and reversed\n",
        "def uwu(e):\n",
        "  return len(e)\n",
        "cars = ['Ford', 'Mitsubishi', 'BMW', 'VW']\n",
        "cars.sort(reverse=True, key=uwu)\n",
        "print(cars)"
      ],
      "metadata": {
        "colab": {
          "base_uri": "https://localhost:8080/"
        },
        "id": "YyiUYIupijUG",
        "outputId": "daf7b3b2-e593-4239-a99e-64b6dd90a7b9"
      },
      "execution_count": null,
      "outputs": [
        {
          "output_type": "stream",
          "name": "stdout",
          "text": [
            "['Mitsubishi', 'Ford', 'BMW', 'VW']\n"
          ]
        }
      ]
    },
    {
      "cell_type": "code",
      "source": [
        "#Python Classes/Objects\n",
        "#Create a Class\n",
        "class uwu:\n",
        "  x=5\n",
        "print(uwu)"
      ],
      "metadata": {
        "colab": {
          "base_uri": "https://localhost:8080/"
        },
        "id": "B1EL5BsCkLoX",
        "outputId": "67a6c5f1-c0a9-41db-af9a-f39d31570396"
      },
      "execution_count": null,
      "outputs": [
        {
          "output_type": "stream",
          "name": "stdout",
          "text": [
            "<class '__main__.uwu'>\n"
          ]
        }
      ]
    },
    {
      "cell_type": "code",
      "source": [
        "#Create Object\n",
        "class uwu:\n",
        "  x=\"Unicorn!\"\n",
        "q=uwu()\n",
        "print(q.x)"
      ],
      "metadata": {
        "colab": {
          "base_uri": "https://localhost:8080/"
        },
        "id": "7mZRSumamlli",
        "outputId": "b1e20fa0-6907-40be-9625-3c3a588ce43e"
      },
      "execution_count": null,
      "outputs": [
        {
          "output_type": "stream",
          "name": "stdout",
          "text": [
            "Unicorn!\n"
          ]
        }
      ]
    },
    {
      "cell_type": "code",
      "source": [
        "#The __init__() Function\n",
        "class Person:\n",
        "  def __init__(self,name,age):\n",
        "    self.name= name\n",
        "    self.age= age\n",
        "p = Person(\"Aditi\",17)\n",
        "print(p.name)\n",
        "print(p.age)"
      ],
      "metadata": {
        "colab": {
          "base_uri": "https://localhost:8080/"
        },
        "id": "vD039arZnvo2",
        "outputId": "34aac432-04ab-446c-e1e6-9116cca689c2"
      },
      "execution_count": null,
      "outputs": [
        {
          "output_type": "stream",
          "name": "stdout",
          "text": [
            "Aditi\n",
            "17\n"
          ]
        }
      ]
    },
    {
      "cell_type": "code",
      "source": [
        "#The __str__() Function\n",
        "class Person:\n",
        "  def __init__(self,name,age):\n",
        "    self.name= name\n",
        "    self.age= age\n",
        "  def __str__(self):\n",
        "    return f\"{self.name}({self.age})\"\n",
        "p = Person(\"Aditi\",17)\n",
        "print(p)"
      ],
      "metadata": {
        "colab": {
          "base_uri": "https://localhost:8080/"
        },
        "id": "uaKeVw9ntA2-",
        "outputId": "cc8bad7f-d2a4-4884-d430-13fe55fae65f"
      },
      "execution_count": null,
      "outputs": [
        {
          "output_type": "stream",
          "name": "stdout",
          "text": [
            "Aditi(17)\n"
          ]
        }
      ]
    },
    {
      "cell_type": "code",
      "source": [
        "#Object Methods\n",
        "class Person:\n",
        "  def __init__(self,name,age):\n",
        "    self.name= name\n",
        "    self.age= age\n",
        "  def uwu(self):\n",
        "    print(\"Hola! I ish \"+ self.name)\n",
        "p=Person(\"Aditi\",17)\n",
        "p.uwu()"
      ],
      "metadata": {
        "colab": {
          "base_uri": "https://localhost:8080/"
        },
        "id": "PA6FVGbju3qV",
        "outputId": "d66344ca-241a-4b2d-bc60-24a2c7c8bb1f"
      },
      "execution_count": null,
      "outputs": [
        {
          "output_type": "stream",
          "name": "stdout",
          "text": [
            "Hola! I ish Aditi\n"
          ]
        }
      ]
    },
    {
      "cell_type": "code",
      "source": [
        "#The self Parameter\n",
        "#you can use any any word other than self\n",
        "class Person:\n",
        "  def __init__(meow,name,age):\n",
        "    meow.name= name\n",
        "    meow.age= age\n",
        "  def uwu(meow):\n",
        "    print(\"Hola! I ish \"+ meow.name)\n",
        "p=Person(\"Aditi\",17)\n",
        "p.uwu()"
      ],
      "metadata": {
        "id": "awLLrXuaw3jA",
        "colab": {
          "base_uri": "https://localhost:8080/"
        },
        "outputId": "b404e4af-90db-43ca-9921-9f509f8da4e4"
      },
      "execution_count": null,
      "outputs": [
        {
          "output_type": "stream",
          "name": "stdout",
          "text": [
            "Hola! I ish Aditi\n"
          ]
        }
      ]
    },
    {
      "cell_type": "code",
      "source": [
        "#Modify Object Properties\n",
        "class Person:\n",
        "  def __init__(self,name,age):\n",
        "    self.name= name\n",
        "    self.age= age\n",
        "  def uwu(self):\n",
        "    print(\"Hola! I ish \"+ self.name)\n",
        "p=Person(\"Aditi\",17)\n",
        "p.age=21\n",
        "print(p.age)"
      ],
      "metadata": {
        "colab": {
          "base_uri": "https://localhost:8080/"
        },
        "id": "kV7WcegSvexi",
        "outputId": "9fe48f15-1158-488e-f0d5-1100160f0a06"
      },
      "execution_count": null,
      "outputs": [
        {
          "output_type": "stream",
          "name": "stdout",
          "text": [
            "21\n"
          ]
        }
      ]
    },
    {
      "cell_type": "code",
      "source": [
        "#Delete Object Properties\n",
        "#You can delete properties on objects by using the del keyword\n",
        "class Person:\n",
        "  def __init__(self,name,age):\n",
        "    self.name= name\n",
        "    self.age= age\n",
        "  def uwu(self):\n",
        "    print(\"Hola! I ish \"+ self.name)\n",
        "p=Person(\"Aditi\",17)\n",
        "del p.age\n",
        "print(p.age) #It is supposed to show error because 'age' is deleted"
      ],
      "metadata": {
        "colab": {
          "base_uri": "https://localhost:8080/",
          "height": 206
        },
        "id": "a4YxB4uzwDEe",
        "outputId": "7ed961c8-63fa-4775-c9c9-802104cc63e8"
      },
      "execution_count": null,
      "outputs": [
        {
          "output_type": "error",
          "ename": "AttributeError",
          "evalue": "ignored",
          "traceback": [
            "\u001b[0;31m---------------------------------------------------------------------------\u001b[0m",
            "\u001b[0;31mAttributeError\u001b[0m                            Traceback (most recent call last)",
            "\u001b[0;32m<ipython-input-5-30702916b1f8>\u001b[0m in \u001b[0;36m<module>\u001b[0;34m\u001b[0m\n\u001b[1;32m      9\u001b[0m \u001b[0mp\u001b[0m\u001b[0;34m=\u001b[0m\u001b[0mPerson\u001b[0m\u001b[0;34m(\u001b[0m\u001b[0;34m\"Aditi\"\u001b[0m\u001b[0;34m,\u001b[0m\u001b[0;36m17\u001b[0m\u001b[0;34m)\u001b[0m\u001b[0;34m\u001b[0m\u001b[0;34m\u001b[0m\u001b[0m\n\u001b[1;32m     10\u001b[0m \u001b[0;32mdel\u001b[0m \u001b[0mp\u001b[0m\u001b[0;34m.\u001b[0m\u001b[0mage\u001b[0m\u001b[0;34m\u001b[0m\u001b[0;34m\u001b[0m\u001b[0m\n\u001b[0;32m---> 11\u001b[0;31m \u001b[0mprint\u001b[0m\u001b[0;34m(\u001b[0m\u001b[0mp\u001b[0m\u001b[0;34m.\u001b[0m\u001b[0mage\u001b[0m\u001b[0;34m)\u001b[0m\u001b[0;34m\u001b[0m\u001b[0;34m\u001b[0m\u001b[0m\n\u001b[0m",
            "\u001b[0;31mAttributeError\u001b[0m: 'Person' object has no attribute 'age'"
          ]
        }
      ]
    },
    {
      "cell_type": "code",
      "source": [
        "#Delete Objects\n",
        "#You can delete objects by using the del keyword\n",
        "class Person:\n",
        "  def __init__(self,name,age):\n",
        "    self.name= name\n",
        "    self.age= age\n",
        "  def uwu(self):\n",
        "    print(\"Hola! I ish \"+ self.name)\n",
        "p=Person(\"Aditi\",17)\n",
        "del p\n",
        "print(p) #It is supposed to show error because 'p' is deleted"
      ],
      "metadata": {
        "colab": {
          "base_uri": "https://localhost:8080/",
          "height": 206
        },
        "id": "wiEWgIeWxIjJ",
        "outputId": "756439db-acf5-4736-e909-dde10b912a6e"
      },
      "execution_count": null,
      "outputs": [
        {
          "output_type": "error",
          "ename": "NameError",
          "evalue": "ignored",
          "traceback": [
            "\u001b[0;31m---------------------------------------------------------------------------\u001b[0m",
            "\u001b[0;31mNameError\u001b[0m                                 Traceback (most recent call last)",
            "\u001b[0;32m<ipython-input-14-2eb3e1df2805>\u001b[0m in \u001b[0;36m<module>\u001b[0;34m\u001b[0m\n\u001b[1;32m      9\u001b[0m \u001b[0mp\u001b[0m\u001b[0;34m=\u001b[0m\u001b[0mPerson\u001b[0m\u001b[0;34m(\u001b[0m\u001b[0;34m\"Aditi\"\u001b[0m\u001b[0;34m,\u001b[0m\u001b[0;36m17\u001b[0m\u001b[0;34m)\u001b[0m\u001b[0;34m\u001b[0m\u001b[0;34m\u001b[0m\u001b[0m\n\u001b[1;32m     10\u001b[0m \u001b[0;32mdel\u001b[0m \u001b[0mp\u001b[0m\u001b[0;34m\u001b[0m\u001b[0;34m\u001b[0m\u001b[0m\n\u001b[0;32m---> 11\u001b[0;31m \u001b[0mprint\u001b[0m\u001b[0;34m(\u001b[0m\u001b[0mp\u001b[0m\u001b[0;34m)\u001b[0m \u001b[0;31m#It is supposed to show error because 'p' is deleted\u001b[0m\u001b[0;34m\u001b[0m\u001b[0;34m\u001b[0m\u001b[0m\n\u001b[0m",
            "\u001b[0;31mNameError\u001b[0m: name 'p' is not defined"
          ]
        }
      ]
    },
    {
      "cell_type": "code",
      "source": [
        "#The pass Statement\n",
        "#class definitions cannot be empty, but if you for some reason have a class definition with no content, put in the pass statement to avoid getting an error.\n",
        "class person:\n",
        "  pass"
      ],
      "metadata": {
        "id": "_pfKYcB8xx5c"
      },
      "execution_count": null,
      "outputs": []
    },
    {
      "cell_type": "code",
      "source": [
        "#Python Inheritance\n",
        "#Create a Parent Class\n",
        "class Person:\n",
        "  def __init__(self, fname, lname):\n",
        "    self.fn = fname\n",
        "    self.ln = lname\n",
        "\n",
        "  def uwu(self):\n",
        "    print(self.fn, self.ln)\n",
        "x=Person(\"Aditi\",\"Patel\")\n",
        "x.uwu()"
      ],
      "metadata": {
        "colab": {
          "base_uri": "https://localhost:8080/"
        },
        "id": "xD4Wx1be0xX8",
        "outputId": "f476b2e4-1f7e-4726-94bf-5b523cea131b"
      },
      "execution_count": null,
      "outputs": [
        {
          "output_type": "stream",
          "name": "stdout",
          "text": [
            "Aditi Patel\n"
          ]
        }
      ]
    },
    {
      "cell_type": "code",
      "source": [
        "#Python Inheritence\n",
        "#Create a Child Class\n",
        "class Student(Person):\n",
        "  pass\n",
        "x=Student(\"Omi\",\"Patel\")\n",
        "x.uwu()"
      ],
      "metadata": {
        "colab": {
          "base_uri": "https://localhost:8080/"
        },
        "id": "FynI1TDO6k0n",
        "outputId": "e546e0ea-8144-48e5-a320-7a7291354f5f"
      },
      "execution_count": null,
      "outputs": [
        {
          "output_type": "stream",
          "name": "stdout",
          "text": [
            "Omi Patel\n"
          ]
        }
      ]
    },
    {
      "cell_type": "code",
      "source": [
        "#Add the __init__() Function\n",
        "#The child's __init__() function overrides the inheritance of the parent's __init__() function.\n",
        "class Person:\n",
        "  def __init__(self, fname, lname):\n",
        "    self.fn = fname\n",
        "    self.ln = lname\n",
        "\n",
        "  def uwu(self):\n",
        "    print(self.fn, self.ln)\n",
        "\n",
        "class Student(Person):\n",
        "  def __init__(self,fname,lname):\n",
        "    Person.__init__(self,fname,lname)\n",
        "x=Student(\"Aditi\",\"Patel\")\n",
        "x.uwu()"
      ],
      "metadata": {
        "colab": {
          "base_uri": "https://localhost:8080/"
        },
        "id": "cpblxjbK0CEp",
        "outputId": "b1770db0-73da-4dd0-8995-913fc35d9cb6"
      },
      "execution_count": null,
      "outputs": [
        {
          "output_type": "stream",
          "name": "stdout",
          "text": [
            "Aditi Patel\n"
          ]
        }
      ]
    },
    {
      "cell_type": "code",
      "source": [
        "#Use the super() Function\n",
        "class Person:\n",
        "  def __init__(self, fname, lname):\n",
        "    self.fn = fname\n",
        "    self.ln = lname\n",
        "\n",
        "  def uwu(self):\n",
        "    print(self.fn, self.ln)\n",
        "\n",
        "class Student(Person):\n",
        "  def __init__(self,fname,lname):\n",
        "    super().__init__(fname,lname)\n",
        "x=Student(\"Aditi\",\"Patel\")\n",
        "x.uwu()"
      ],
      "metadata": {
        "colab": {
          "base_uri": "https://localhost:8080/"
        },
        "id": "VcBbklpA3PyS",
        "outputId": "d1035e3e-5f96-4d0a-aa36-b44778da6923"
      },
      "execution_count": null,
      "outputs": [
        {
          "output_type": "stream",
          "name": "stdout",
          "text": [
            "Aditi Patel\n"
          ]
        }
      ]
    },
    {
      "cell_type": "code",
      "source": [
        "#Add Properties\n",
        "class Person:\n",
        "  def __init__(self, fname, lname):\n",
        "    self.fn = fname\n",
        "    self.ln = lname\n",
        "\n",
        "  def uwu(self):\n",
        "    print(self.fn, self.ln)\n",
        "\n",
        "class Student(Person):\n",
        "  def __init__(self,fname,lname):\n",
        "    super().__init__(fname,lname)\n",
        "    self.graduationyear=2022\n",
        "x=Student(\"Aditi\",\"Patel\")\n",
        "print(x.graduationyear)"
      ],
      "metadata": {
        "colab": {
          "base_uri": "https://localhost:8080/"
        },
        "id": "7jkz1V_X46pl",
        "outputId": "de372a89-0af5-40e0-ac69-eb36b23fb1b7"
      },
      "execution_count": null,
      "outputs": [
        {
          "output_type": "stream",
          "name": "stdout",
          "text": [
            "2022\n"
          ]
        }
      ]
    },
    {
      "cell_type": "code",
      "source": [
        "#Add Properties\n",
        "class Person:\n",
        "  def __init__(self, fname, lname):\n",
        "    self.fn = fname\n",
        "    self.ln = lname\n",
        "\n",
        "  def uwu(self):\n",
        "    print(self.fn, self.ln)\n",
        "\n",
        "class Student(Person):\n",
        "  def __init__(self,fname,lname,year):\n",
        "    super().__init__(fname,lname)\n",
        "    self.graduationyear=year\n",
        "\n",
        "x=Student(\"Aditi\",\"Patel\",2022)\n",
        "print(x.graduationyear)"
      ],
      "metadata": {
        "colab": {
          "base_uri": "https://localhost:8080/"
        },
        "id": "PvxnPXVY57ol",
        "outputId": "7cf3d9cf-2802-4e9c-c82c-26af363a9a07"
      },
      "execution_count": null,
      "outputs": [
        {
          "output_type": "stream",
          "name": "stdout",
          "text": [
            "2022\n"
          ]
        }
      ]
    },
    {
      "cell_type": "code",
      "source": [
        "#Add Methods\n",
        "class Person:\n",
        "  def __init__(self, fname, lname):\n",
        "    self.fn = fname\n",
        "    self.ln = lname\n",
        "\n",
        "  def uwu(self):\n",
        "    print(self.fn, self.ln)\n",
        "\n",
        "class Student(Person):\n",
        "  def __init__(self,fname,lname,year):\n",
        "    super().__init__(fname,lname)\n",
        "    self.graduationyear=year\n",
        "\n",
        "  def welcome(self):\n",
        "    print(\"Welcome\",self.fn,self.ln,\"to the class of\",self.graduationyear)\n",
        "  \n",
        "x=Student(\"Aditi\",\"Patel\",2022)\n",
        "x.welcome()"
      ],
      "metadata": {
        "colab": {
          "base_uri": "https://localhost:8080/"
        },
        "id": "yelfT5hM6RTa",
        "outputId": "b0ec40dd-9914-41a2-e9ab-14cd64c461fd"
      },
      "execution_count": null,
      "outputs": [
        {
          "output_type": "stream",
          "name": "stdout",
          "text": [
            "Welcome Aditi Patel to the class of 2022\n"
          ]
        }
      ]
    },
    {
      "cell_type": "code",
      "source": [
        "#Iterator\n",
        "#consist of the methods __iter__() and __next__().\n",
        "\n",
        "#Return an iterator from a tuple, and print each value:\n",
        "f=(\"cherry\",\"blueberry\",\"strawberry\") #tuple\n",
        "u=iter(f)\n",
        "print(next(u))\n",
        "print(next(u))\n",
        "print(next(u))"
      ],
      "metadata": {
        "colab": {
          "base_uri": "https://localhost:8080/"
        },
        "id": "pcIiytYX8w92",
        "outputId": "325bbaca-81f7-4577-825a-a6ba44edc9bf"
      },
      "execution_count": null,
      "outputs": [
        {
          "output_type": "stream",
          "name": "stdout",
          "text": [
            "cherry\n",
            "blueberry\n",
            "strawberry\n"
          ]
        }
      ]
    },
    {
      "cell_type": "code",
      "source": [
        "#Iterator\n",
        "#Strings are also iterable objects, containing a sequence of characters:\n",
        "p=\"unicorn\"\n",
        "u=iter(p)\n",
        "print(next(u))\n",
        "print(next(u))\n",
        "print(next(u))\n",
        "print(next(u))\n",
        "print(next(u))\n",
        "print(next(u))\n",
        "print(next(u))"
      ],
      "metadata": {
        "colab": {
          "base_uri": "https://localhost:8080/"
        },
        "id": "S7WilEYZ91nz",
        "outputId": "f571ea9c-1783-46e5-fd4a-a6daa4a78c30"
      },
      "execution_count": null,
      "outputs": [
        {
          "output_type": "stream",
          "name": "stdout",
          "text": [
            "u\n",
            "n\n",
            "i\n",
            "c\n",
            "o\n",
            "r\n",
            "n\n"
          ]
        }
      ]
    },
    {
      "cell_type": "code",
      "source": [
        "#Looping Through an Iterator\n",
        "for x in f:\n",
        "  print(x)\n",
        "print(\".....\")\n",
        "for x in p:\n",
        "  print(x)"
      ],
      "metadata": {
        "colab": {
          "base_uri": "https://localhost:8080/"
        },
        "id": "gFicP5hT-i3G",
        "outputId": "f16fef01-623f-4af3-b892-59ba3f865476"
      },
      "execution_count": null,
      "outputs": [
        {
          "output_type": "stream",
          "name": "stdout",
          "text": [
            "cherry\n",
            "blueberry\n",
            "strawberry\n",
            ".....\n",
            "u\n",
            "n\n",
            "i\n",
            "c\n",
            "o\n",
            "r\n",
            "n\n"
          ]
        }
      ]
    },
    {
      "cell_type": "code",
      "source": [
        "#Create an Iterator\n",
        "#The __iter__() method acts similar, you can do operations (initializing etc.), but must always return the iterator object itself.\n",
        "#The __next__() method also allows you to do operations, and must return the next item in the sequence.\n",
        "class num:\n",
        "  def __iter__(uwu):\n",
        "    uwu.a=1\n",
        "    return uwu\n",
        "  def __next__(uwu):\n",
        "    x=uwu.a\n",
        "    uwu.a +=1\n",
        "    return x\n",
        "o= iter(num())\n",
        "print(next(o))\n",
        "print(next(o))\n",
        "print(next(o))\n",
        "print(next(o))\n",
        "print(next(o))\n",
        "print(next(o))\n",
        "print(next(o))"
      ],
      "metadata": {
        "colab": {
          "base_uri": "https://localhost:8080/"
        },
        "id": "ZXnHWGDX_bbQ",
        "outputId": "91972035-041f-49cd-d452-5030e29c0a9a"
      },
      "execution_count": null,
      "outputs": [
        {
          "output_type": "stream",
          "name": "stdout",
          "text": [
            "1\n",
            "2\n",
            "3\n",
            "4\n",
            "5\n",
            "6\n",
            "7\n"
          ]
        }
      ]
    },
    {
      "cell_type": "code",
      "source": [
        "#StopIteration\n",
        "class num:\n",
        "  def __iter__(uwu):\n",
        "    uwu.a=1\n",
        "    return uwu\n",
        "  def __next__(uwu):\n",
        "    if uwu.a<=12:\n",
        "      x=uwu.a\n",
        "      uwu.a +=1\n",
        "      return x\n",
        "    else:\n",
        "      raise StopIteration\n",
        "for x in iter(num()):\n",
        "  print(x)"
      ],
      "metadata": {
        "colab": {
          "base_uri": "https://localhost:8080/"
        },
        "id": "31mVchR3IpgY",
        "outputId": "ab65bed1-d4f1-415a-ef60-d36125ccb31b"
      },
      "execution_count": null,
      "outputs": [
        {
          "output_type": "stream",
          "name": "stdout",
          "text": [
            "1\n",
            "2\n",
            "3\n",
            "4\n",
            "5\n",
            "6\n",
            "7\n",
            "8\n",
            "9\n",
            "10\n",
            "11\n",
            "12\n"
          ]
        }
      ]
    },
    {
      "cell_type": "code",
      "source": [
        "#Python Scope\n",
        "#A variable is only available from inside the region it is created. This is called scope.\n",
        "\n",
        "#Local Scope\n",
        "#A variable created inside a function belongs to the local scope of that function, and can only be used inside that function.\n",
        "def uwu():\n",
        "  x=45\n",
        "  print(x)\n",
        "uwu()\n",
        "#Function Inside Function\n",
        "def uwu():\n",
        "  x=600\n",
        "  def uvu():    #inner function\n",
        "    print(x)\n",
        "  uvu()\n",
        "uwu()"
      ],
      "metadata": {
        "colab": {
          "base_uri": "https://localhost:8080/"
        },
        "id": "EmIzqcF9PR0N",
        "outputId": "3dad2bbf-f32a-429e-adf4-f1c56c683ecc"
      },
      "execution_count": null,
      "outputs": [
        {
          "output_type": "stream",
          "name": "stdout",
          "text": [
            "45\n",
            "600\n"
          ]
        }
      ]
    },
    {
      "cell_type": "code",
      "source": [
        "#Global Scope\n",
        "#A variable created in the main body of the Python code is a global variable and belongs to the global scope.\n",
        "#Global variables are available from within any scope, global and local.\n",
        "x=720\n",
        "def uwu():\n",
        "  print(x)\n",
        "  \n",
        "uwu()\n",
        "print(x)"
      ],
      "metadata": {
        "colab": {
          "base_uri": "https://localhost:8080/"
        },
        "id": "WzgQwECuRY0x",
        "outputId": "6b41d1fb-0b31-4978-d59d-65a6ba76397b"
      },
      "execution_count": null,
      "outputs": [
        {
          "output_type": "stream",
          "name": "stdout",
          "text": [
            "720\n",
            "720\n"
          ]
        }
      ]
    },
    {
      "cell_type": "code",
      "source": [
        "#Naming Variables\n",
        "#If you operate with the same variable name inside and outside of a function, Python will treat them as two separate variables, one available in the global scope (outside the function) and one available in the local scope (inside the function):\n",
        "x=720\n",
        "def uwu():\n",
        "  x=200\n",
        "  print(x)\n",
        "  \n",
        "uwu()\n",
        "print(x)"
      ],
      "metadata": {
        "colab": {
          "base_uri": "https://localhost:8080/"
        },
        "id": "baMKGVNXSW0U",
        "outputId": "d4813177-61cc-4a2f-c6f2-d18037e7f6d8"
      },
      "execution_count": null,
      "outputs": [
        {
          "output_type": "stream",
          "name": "stdout",
          "text": [
            "200\n",
            "720\n"
          ]
        }
      ]
    },
    {
      "cell_type": "code",
      "source": [
        "#Global Keyword\n",
        "#If you need to create a global variable, but are stuck in the local scope, you can use the global keyword.\n",
        "def uwu():\n",
        "  global x\n",
        "  x=124\n",
        "uwu()\n",
        "print(x)"
      ],
      "metadata": {
        "colab": {
          "base_uri": "https://localhost:8080/"
        },
        "id": "WvBbLZ9WSif5",
        "outputId": "6f614958-7da0-431a-a713-6225540e7e6a"
      },
      "execution_count": null,
      "outputs": [
        {
          "output_type": "stream",
          "name": "stdout",
          "text": [
            "124\n"
          ]
        }
      ]
    },
    {
      "cell_type": "code",
      "source": [
        "#Global Keyword\n",
        "#Also, use the global keyword if you want to make a change to a global variable inside a function.\n",
        "x=340\n",
        "def uwu():\n",
        "  global x\n",
        "  x=124\n",
        "uwu()\n",
        "print(x)"
      ],
      "metadata": {
        "colab": {
          "base_uri": "https://localhost:8080/"
        },
        "id": "CJeBjgyOTQMi",
        "outputId": "ca8c9da7-5b21-419c-ff9e-10adf6220bd3"
      },
      "execution_count": null,
      "outputs": [
        {
          "output_type": "stream",
          "name": "stdout",
          "text": [
            "124\n"
          ]
        }
      ]
    }
  ],
  "metadata": {
    "colab": {
      "collapsed_sections": [],
      "provenance": [],
      "include_colab_link": true
    },
    "kernelspec": {
      "display_name": "Python 3",
      "name": "python3"
    },
    "language_info": {
      "name": "python"
    }
  },
  "nbformat": 4,
  "nbformat_minor": 0
}